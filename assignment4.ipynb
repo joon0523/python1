{
 "cells": [
  {
   "cell_type": "markdown",
   "id": "e34a5279",
   "metadata": {},
   "source": [
    "# Assignment 4\n",
    "\n",
    "## 학번: 2017136055\n",
    "## 이름: 송현준"
   ]
  },
  {
   "cell_type": "markdown",
   "id": "52f6fe1a",
   "metadata": {},
   "source": [
    "### 1. 다음 문제를 읽고 알맞은 코드를 제시하시오."
   ]
  },
  {
   "cell_type": "markdown",
   "id": "24a708c1",
   "metadata": {},
   "source": [
    "- 1) 파일 s.txt 내의 다음 내용과 함께 아래 문제의 코드를 제시하시오."
   ]
  },
  {
   "cell_type": "code",
   "execution_count": 1,
   "id": "15d1b7ea",
   "metadata": {},
   "outputs": [],
   "source": [
    "f = open('s.txt','w')\n",
    "s = \"pig ham\\ncat dog\\nham bird\\ndog pig\"\n",
    "f.write(s)\n",
    "f.close()"
   ]
  },
  {
   "cell_type": "code",
   "execution_count": 2,
   "id": "491e03de",
   "metadata": {},
   "outputs": [
    {
     "data": {
      "image/png": "[encoded data removed]",
      "text/plain": [
       "<IPython.core.display.Image object>"
      ]
     },
     "execution_count": 2,
     "metadata": {},
     "output_type": "execute_result"
    }
   ],
   "source": [
    "from IPython.display import Image\n",
    "Image( filename = 's.png')\n"
   ]
  },
  {
   "cell_type": "markdown",
   "id": "ff9d6381",
   "metadata": {},
   "source": [
    "설명: 쓰기모드로 s.txt파일을 만들고 write함수를 활용해 그안에 문자열을 입력했다."
   ]
  },
  {
   "cell_type": "markdown",
   "id": "7d198473",
   "metadata": {},
   "source": [
    "- 2) 파일 s.txt을 읽어서 각 라인에 있는 첫 번째 단어(문자열) 자체들을 기준으로 라인별 정렬후 파일 s1.txt에 그 결과를 기록하는 코드를 작성하시오. 즉, 프로그램 수행 후 s1.txt에 있는 파일 내용은 다음과 같다."
   ]
  },
  {
   "cell_type": "code",
   "execution_count": 14,
   "id": "a6681d6e",
   "metadata": {},
   "outputs": [],
   "source": [
    "f1 = open('s.txt','r')\n",
    "f2 = open('s1.txt','w')\n",
    "\n",
    "s=f1.read()\n",
    "s=s.split('\\n')\n",
    "s.sort()\n",
    "\n",
    "for i in s:\n",
    "    f2.write(i+'\\n')\n",
    "    \n",
    "f1.close()\n",
    "f2.close()"
   ]
  },
  {
   "cell_type": "code",
   "execution_count": 3,
   "id": "dc227f7f",
   "metadata": {},
   "outputs": [
    {
     "data": {
      "image/png": "[encoded data removed]",
      "text/plain": [
       "<IPython.core.display.Image object>"
      ]
     },
     "execution_count": 3,
     "metadata": {},
     "output_type": "execute_result"
    }
   ],
   "source": [
    "from IPython.display import Image\n",
    "Image( filename = 's1.png')"
   ]
  },
  {
   "cell_type": "markdown",
   "id": "132ba882",
   "metadata": {},
   "source": [
    "설명: 읽기모드로 s.txt파일을 읽고 쓰기모드로 s1.txt를 만든뒤 split을 활용해 줄별로 구분하여 정렬한뒤 다시 write를 활용해 입력했다."
   ]
  },
  {
   "cell_type": "markdown",
   "id": "5c050a29",
   "metadata": {},
   "source": [
    "- 3) 파일 s.txt을 읽어서 각 라인에 있는 두 번째 단어(문자열) 자체들을 기준으로 라인별 정렬후 파일 s2.txt에 그 결과를 기록하는 코드를 작성하시오. 즉, 프로그램 수행 후 s2.txt에 있는 파일 내용은 다음과 같다."
   ]
  },
  {
   "cell_type": "code",
   "execution_count": 27,
   "id": "7d614c8b",
   "metadata": {},
   "outputs": [],
   "source": [
    "f1 = open('s.txt','r')\n",
    "f2 = open('s2.txt','w')\n",
    "\n",
    "s=f1.read()\n",
    "s=s.split('\\n')\n",
    "\n",
    "s.sort(key=lambda x : x[x.find(' ')+1])\n",
    "\n",
    "for i in s:\n",
    "    f2.write(i+'\\n')\n",
    "    \n",
    "f1.close()\n",
    "f2.close()"
   ]
  },
  {
   "cell_type": "code",
   "execution_count": 5,
   "id": "e95b8ef6",
   "metadata": {},
   "outputs": [
    {
     "data": {
      "image/png": "[encoded data removed]",
      "text/plain": [
       "<IPython.core.display.Image object>"
      ]
     },
     "execution_count": 5,
     "metadata": {},
     "output_type": "execute_result"
    }
   ],
   "source": [
    "from IPython.display import Image\n",
    "Image( filename = 's2.png')"
   ]
  },
  {
   "cell_type": "markdown",
   "id": "7795e2b5",
   "metadata": {
    "scrolled": true
   },
   "source": [
    "설명: 읽기모드로 s.txt파일을 읽고 쓰기모드로 s2.txt를 만든뒤 split을 활용해 줄별로 구분하고 정렬 기준을 람다함수를 통해 띄워쓰기 다음 글자를 기준으로 바꾸어 정렬하고 write를 활용해 입력했다."
   ]
  },
  {
   "cell_type": "markdown",
   "id": "7ecd58e3",
   "metadata": {},
   "source": [
    "- 4) 파일 s.txt을 읽어서 각 라인들에 있는 모든 단어들을 순차적으로 다시 나열하되 각 라인에 세 개의 단어들이 오도록 하여 s3.txt에 기록하는 코드를 작성하시오. 즉, 프로그램 수행 후 s3.txt에 있는 파일 내용은 다음과 같다."
   ]
  },
  {
   "cell_type": "code",
   "execution_count": 5,
   "id": "31f986eb",
   "metadata": {},
   "outputs": [],
   "source": [
    "f1 = open('s.txt','r')\n",
    "f2 = open('s3.txt','w')\n",
    "\n",
    "s=f1.read()\n",
    "s=s.replace('\\n',' ')\n",
    "s=s.split(' ')\n",
    "\n",
    "count=0\n",
    "for i in s:\n",
    "    if count==2:\n",
    "        f2.write(i+'\\n')\n",
    "        count=-1\n",
    "    else:\n",
    "        f2.write(i+' ')\n",
    "    count+=1\n",
    "     \n",
    "f1.close()\n",
    "f2.close()"
   ]
  },
  {
   "cell_type": "code",
   "execution_count": 7,
   "id": "c32a1093",
   "metadata": {},
   "outputs": [
    {
     "data": {
      "image/png": "[encoded data removed]",
      "text/plain": [
       "<IPython.core.display.Image object>"
      ]
     },
     "execution_count": 7,
     "metadata": {},
     "output_type": "execute_result"
    }
   ],
   "source": [
    "from IPython.display import Image\n",
    "Image( filename = 's3.png')"
   ]
  },
  {
   "cell_type": "markdown",
   "id": "f64dfd45",
   "metadata": {},
   "source": [
    "설명: 읽기모드로 s.txt파일을 읽고 쓰기모드로 s3.txt를 만든뒤 replace로 \\n을 공백으로 바꾸고 split을 통해 모든 단어들의 리스트를 만들고 그리스트들을 3개씩 입력하고 카운트가 2가 되면 \\n를 같이 입력해 줄을 바꿔 주었다."
   ]
  },
  {
   "cell_type": "markdown",
   "id": "58d42a88",
   "metadata": {},
   "source": [
    "### 2. 다음과 같은 조건들을 참고하여 회원 가입 및 로그인 프로그램을 작성하시오."
   ]
  },
  {
   "cell_type": "markdown",
   "id": "3b185ac2",
   "metadata": {},
   "source": [
    "- 1) 프로그램 시작 후 다음과 같은 메시지가 출력되어 1, 2, 3 중 하나의 값을 입력 받도록 한다.  \n",
    "    Welcome to Our Service  \n",
    "\n",
    "    A. Sign Up  \n",
    "    B. Sign In  \n",
    "    C. Quit  \n",
    "    \n",
    "    \n",
    "- 2) 1을 선택하면 ID, Password, Name, School의 4가지 정보를 입력받아 파일에 저장하는 프로그램을 작성한다.\n",
    "    - 2-1) 입력된 내용은 access.txt 라는 이름의 텍스트 파일 내에 저장된다.  \n",
    "    - 2-2) access.txt 파일의 각 라인에는 가입된 회원 각각의 정보가 \"[id]: [password], [name], [school]\" 형태로 저장된다.  \n",
    "    - 2-3) 즉, 가입 회원이 10명이면 access.txt 파일 내에 라인 수도 정확히 10개이다.  \n",
    "    - 2-4) 암호화 방식은 sha 모듈을 활용한다. sha 모듈 활용 방법은 본 문제의 마지막에 제시된 sha 활용 예를 참고한다.  \n",
    "        즉, access.txt 파일 내에 password 정보는 암호화 되어 저장되어야 한다.  \n",
    "    - 2-5) 회원 정보를 입력 받을 때 id를 입력 받은 직후 access.txt를 확인하여 이미 존재하는 id가 입력되었다면 다음 메시지를 출력하고 id 정보를 다시 입력받는다.  \n",
    "        - Sorry, the entered ID is already used.  \n",
    "- 3) 2를 선택하면 ID, Password의 2가지 정보를 입력받는 프로그램을 작성한다.\n",
    "    - 3-1) 입력된 ID 정보가 access.txt에 존재하지 않으면 다음과 같은 메시지를 출력하고 다시 입력받는다.  \n",
    "        - Sorry, you are not a registered member.  \n",
    "    - 3-2) 입력된 ID가 올바르게 존재하지만 Password 정보가 access.txt 파일에 있는 정보와 불일치하면 다음과 같은 메시지를 출력하고 Password를 다시 입력받는다.  \n",
    "        - Sorry, the entered password is not correct.  \n",
    "        - 이 때에도 사용자가 입력한 Password 정보와 함께 sha 모듈이 활용되어야 한다.  \n",
    "   -  3-3) 입력된 ID와 Password가 모두 올바르면 다음과 같은 메시지를 출력한다.  \n",
    "        - Hello [name]!  \n",
    "        - 위 [name]에는 access.txt에 기록되어 있는 name 정보를 출력한다  \n",
    "- 4) 3을 선택하면 프로그램이 끝난다.  "
   ]
  },
  {
   "cell_type": "code",
   "execution_count": 72,
   "id": "d657a38c",
   "metadata": {},
   "outputs": [],
   "source": [
    "import hashlib"
   ]
  },
  {
   "cell_type": "code",
   "execution_count": 117,
   "id": "5bd5cfd7",
   "metadata": {},
   "outputs": [],
   "source": [
    "def existId(access, ID):  #id가 존재하면 True 없으면 False를 반환하는 함수\n",
    "    for i in access:\n",
    "        idlist=i[i.find('[')+1 : i.find(']')]\n",
    "        if(idlist==ID):\n",
    "            return True\n",
    "        \n",
    "    return False\n",
    "\n",
    "def getUserInform(access, ID):   #유저의 아이디를 입력받아 그 아이디에 정보를 반환\n",
    "    for i in access:\n",
    "        if(i[i.find('[')+1 : i.find(']')]==ID):\n",
    "            return i.split(' ')\n",
    "\n",
    "def getUserName(userInform):    #유저의 이름을 반환\n",
    "    name=userInform[2]\n",
    "    name=name[name.find('[')+1 : name.find(']')]\n",
    "    return name\n",
    "        \n",
    "def checkPw(userInform, pw):    #사용자가 입력한 비밀번호가 맞는지 체크\n",
    "    userPw=userInform[1]\n",
    "    userPw=userPw[userPw.find('[')+1:userPw.find(']')]\n",
    "    pw_encrypted = hashlib.sha256(pw.encode()).hexdigest()\n",
    "    return pw_encrypted==userPw\n",
    "\n",
    "def func1():                   #1번을 입력했을때 실행되는 함수\n",
    "\n",
    "    f = open('access.txt','r')\n",
    "    access=f.read().split('\\n')\n",
    "    f.close()\n",
    "    \n",
    "    while(1):\n",
    "        ID=input(\"ID: \")\n",
    "        if(existId(access, ID)==True):\n",
    "            print(\"Sorry, the entered ID is already used.\")\n",
    "        else:\n",
    "            break\n",
    "      \n",
    "    \n",
    "    s='['+ID+']'+': '                      \n",
    "    pw = input(\"Password: \")\n",
    "    pw_encrypted = hashlib.sha256(pw.encode()).hexdigest()\n",
    "    s+='['+pw_encrypted+'], '\n",
    "    \n",
    "    name= input(\"Name: \")\n",
    "    s+='['+name+'], '\n",
    "    \n",
    "    school = input(\"School: \")\n",
    "    s+='['+school+']\\n'\n",
    "   \n",
    "    f = open('access.txt','a')\n",
    "    f.write(s)\n",
    "    f.close()\n",
    "    \n",
    "def func2():                    #2번을 입력했을때 실행되는 함수\n",
    "    f = open('access.txt','r')\n",
    "    access = f.read().split('\\n')\n",
    "    f.close()\n",
    "    \n",
    "    while(True):\n",
    "        ID = input(\"ID: \")\n",
    "        if (existId(access, ID)==False):\n",
    "            print('Sorry, you are not a registered member.')\n",
    "        else:\n",
    "            break\n",
    "            \n",
    "    userInform=getUserInform(access, ID)\n",
    "    \n",
    "    while(True):\n",
    "        pw = input(\"password: \")\n",
    "        \n",
    "        if (checkPw(userInform, pw)):\n",
    "            print( 'hello ['+getUserName(userInform) +']!')\n",
    "            break\n",
    "        else:\n",
    "            print('Sorry, the entered password is not correct.')\n",
    "            \n",
    "    "
   ]
  },
  {
   "cell_type": "code",
   "execution_count": 118,
   "id": "d20f6caa",
   "metadata": {
    "scrolled": false
   },
   "outputs": [
    {
     "name": "stdout",
     "output_type": "stream",
     "text": [
      "Welcome to Our Service\n",
      "\n",
      "1. Sign Up\n",
      "2. Sign In\n",
      "3. Quit\n",
      "번호를 입력하세요: 1\n",
      "ID: guswns\n",
      "Sorry, the entered ID is already used.\n",
      "ID: Song\n",
      "Password: 1234\n",
      "Name: 송현준\n",
      "School: 한기대\n",
      "Welcome to Our Service\n",
      "\n",
      "1. Sign Up\n",
      "2. Sign In\n",
      "3. Quit\n",
      "번호를 입력하세요: 2\n",
      "ID: SSong\n",
      "Sorry, you are not a registered member.\n",
      "ID: Song\n",
      "password: 123\n",
      "Sorry, the entered password is not correct.\n",
      "password: 1234\n",
      "hello [송현준]!\n",
      "Welcome to Our Service\n",
      "\n",
      "1. Sign Up\n",
      "2. Sign In\n",
      "3. Quit\n",
      "번호를 입력하세요: 3\n"
     ]
    }
   ],
   "source": [
    "\n",
    "while(1):\n",
    "    print(\"Welcome to Our Service\\n\\n1. Sign Up\\n2. Sign In\\n3. Quit\")\n",
    "    num= int(input(\"번호를 입력하세요: \"))\n",
    "    \n",
    "    if(num==1):\n",
    "        func1()\n",
    "    elif(num==2):\n",
    "        func2()\n",
    "    elif(num==3):\n",
    "        break\n",
    "    else:\n",
    "        print(\"잘못된 입력입니다.\")"
   ]
  },
  {
   "cell_type": "markdown",
   "id": "e9522fd8",
   "metadata": {},
   "source": [
    "설명: 크게 보면 func1 과 func2 함수를 만들었다.   \n",
    "func1은 메뉴 1번을 선택했을때 실행되는데 아이디, 패스워드, 이름, 학교의 정보를 입력하고 \n",
    "그것들을 access.txt파일에 입력하는 함수이다. 여기서 아이디입력 부분을 if문으로 처리해 줬는데 이미 있는 아이디인지 확인하고 이미 아이디가 존재하면 다시입력하게 한다. 이부분에서 existId()라는 함수를 사용했는데 txt파일에 있는 아이디들을 검사하여 결과를 반환하는 함수이다.\n",
    "패스워드는 hash를 통해 암호화 한 후 저장한다. \n",
    "  \n",
    "func2는 메뉴 2번을 선택했을때 실행된다. Sign In에 사용되는 함수인데 아까 사용했던 existId()를 통해 그 아이디가 존재하는 아이디인지 확인을 한다.   getUserInform()이라는 함수는 ID를 전달하면 그아이디에 해당하는 모든 정보를 반환하는 함수이다.\n",
    "그리고 패스워드를 비교하는데 checkPw가 사용되는데 사용자가 입력한 패스워드를 hash를 통해 암호화 한후 암호화 되어있는 패스워드와 비교한다.\n",
    "마지막 사용자 이름을 출력할때는 getUserName()을 사용하는데 getUserInform()에서 얻은 유저정보에서 이름을 추출해서 반환하는 함수이다.  \n",
    "  \n",
    "메뉴 3을 입력했을때는 break해 반복문을 종료하게된다."
   ]
  },
  {
   "cell_type": "markdown",
   "id": "00fe6465",
   "metadata": {},
   "source": [
    "### 3. range() 함수와 유사한 frange() 함수를 다음 조건을 참고하여 만드시오.\n",
    "- 1) frange()의 인자 구성은 다음과 같이 range와 동일하지만 각 인수들은 음수를 받지 않는다고 가정한다.\n",
    "\n",
    "    range(stop)  \n",
    "    range(start, stop[, step])  \n",
    "\n",
    "- 2) frange() 함수의 인자에 대한 기본 시작(start) 값은 0.0이고, 기본 단계(step) 값은 0.1이다.\n",
    "- 3) frange 사용 예  \n",
    "    - 3-1) frange(0.5)  \n",
    "        - [0.0, 0.1, 0.2, 0.3, 0.4]\n",
    "\n",
    "    - 3-2) frange(1.0, 2.0)\n",
    "\n",
    "        - [1.0, 1.1, 1.2, 1.3, 1.4, 1.5, 1.6, 1.7, 1.8, 1.9]\n",
    "\n",
    "    - 3-3) frange(2.2, 4.0, 0.5)\n",
    "\n",
    "        - [2.2, 2.7, 3.2, 3.7]"
   ]
  },
  {
   "cell_type": "code",
   "execution_count": 135,
   "id": "6e5202cc",
   "metadata": {},
   "outputs": [],
   "source": [
    "def frange(*val):\n",
    "    if(len(val)==1):\n",
    "        start=0.0\n",
    "        stop=val[0]\n",
    "        step=0.1\n",
    "    elif(len(val)==2):\n",
    "        start=val[0]\n",
    "        stop=val[1]\n",
    "        step=0.1\n",
    "    elif(len(val)==3):\n",
    "        start=val[0]\n",
    "        stop=val[1]\n",
    "        step=val[2]       \n",
    "\n",
    "    l=[]\n",
    "    n=start\n",
    "    while(n<stop):\n",
    "        l.append(n)\n",
    "        n+=step\n",
    "        n=round(n, 1)\n",
    "    return l"
   ]
  },
  {
   "cell_type": "code",
   "execution_count": 136,
   "id": "908ea43b",
   "metadata": {},
   "outputs": [
    {
     "data": {
      "text/plain": [
       "[0.0, 0.1, 0.2, 0.3, 0.4]"
      ]
     },
     "execution_count": 136,
     "metadata": {},
     "output_type": "execute_result"
    }
   ],
   "source": [
    "frange(0.5)"
   ]
  },
  {
   "cell_type": "code",
   "execution_count": 137,
   "id": "8b65d156",
   "metadata": {},
   "outputs": [
    {
     "data": {
      "text/plain": [
       "[1.0, 1.1, 1.2, 1.3, 1.4, 1.5, 1.6, 1.7, 1.8, 1.9]"
      ]
     },
     "execution_count": 137,
     "metadata": {},
     "output_type": "execute_result"
    }
   ],
   "source": [
    "frange(1.0, 2.0)"
   ]
  },
  {
   "cell_type": "code",
   "execution_count": 138,
   "id": "d59ce47a",
   "metadata": {},
   "outputs": [
    {
     "data": {
      "text/plain": [
       "[2.2, 2.7, 3.2, 3.7]"
      ]
     },
     "execution_count": 138,
     "metadata": {},
     "output_type": "execute_result"
    }
   ],
   "source": [
    "frange(2.2, 4.0, 0.5)"
   ]
  },
  {
   "cell_type": "markdown",
   "id": "b01426b0",
   "metadata": {},
   "source": [
    "설명: frange함수는 가변인수를 받기 때문에 인수를 몇개 받느냐에 따라 다르게 행동하게 만들었다. val의 개수에 따라 start, step에 기본값을 넣어주었다. round()를 사용한 이유는 부동소수로 인해 생기는 오차를 막기 위해서 이다."
   ]
  },
  {
   "cell_type": "markdown",
   "id": "3ddc8824",
   "metadata": {},
   "source": [
    "### 4. 가변인수를 받는 함수 sum()을 다음과 같은 조건을 참고하여 구현하시오\n",
    "\n",
    "- sum() 사용 예  \n",
    "  \n",
    "     sum()  \n",
    "     0  \n",
    "  \n",
    "     sum(1, 2)  \n",
    "     3  \n",
    "  \n",
    "     sum(1, 2, 3, 4, 5)  \n",
    "     15  \n",
    "  \n",
    "     sum(1, 5, 7, 2, -10)  \n",
    "     5  "
   ]
  },
  {
   "cell_type": "code",
   "execution_count": 140,
   "id": "5d9351cb",
   "metadata": {},
   "outputs": [],
   "source": [
    "def sum(*val):\n",
    "    result=0\n",
    "    for i in val:\n",
    "        result+=i\n",
    "    return result"
   ]
  },
  {
   "cell_type": "code",
   "execution_count": 144,
   "id": "bd950a2d",
   "metadata": {},
   "outputs": [
    {
     "name": "stdout",
     "output_type": "stream",
     "text": [
      "0\n",
      "3\n",
      "15\n",
      "5\n"
     ]
    }
   ],
   "source": [
    "print(sum())\n",
    "print(sum(1, 2))\n",
    "print(sum(1, 2, 3, 4, 5))\n",
    "print(sum(1, 5, 7, 2, -10))"
   ]
  },
  {
   "cell_type": "markdown",
   "id": "ac3c6ca4",
   "metadata": {},
   "source": [
    "설명: 가변인수 val을 입력받고 for문으로 하나씩 접근하며 더해준뒤 그 결과를 반환한다."
   ]
  },
  {
   "cell_type": "markdown",
   "id": "0073e98c",
   "metadata": {},
   "source": [
    "### 5. 여러 단어로 이루어진 문자열을 입력받아 각 단어의 첫글자로 이루어진 단어를 대문자로 출력하는 myinitial() 함수를 다음 조건을 참고하여 작성하시오.\n",
    "\n",
    "- 1) 다음에 제시되는 함수들을 모두 이용해야 한다.\n",
    "\n",
    "    - split\n",
    "    - map\n",
    "    - join\n",
    "- 2) myinitial() 함수 사용 예\n",
    "\n",
    "    - myinitial(\"as soon as possible\")\n",
    "        - ASAP"
   ]
  },
  {
   "cell_type": "code",
   "execution_count": 8,
   "id": "a9c18a16",
   "metadata": {},
   "outputs": [],
   "source": [
    "def myinitial(s):\n",
    "    l =s.split(' ')\n",
    "    l =list(map(lambda x: x[0].upper(), l))\n",
    "    s = \"\".join(l)\n",
    "    return s"
   ]
  },
  {
   "cell_type": "code",
   "execution_count": 10,
   "id": "5b37130b",
   "metadata": {},
   "outputs": [
    {
     "name": "stdout",
     "output_type": "stream",
     "text": [
      "ASAP\n"
     ]
    }
   ],
   "source": [
    "print(myinitial('as soon as possible'))"
   ]
  },
  {
   "cell_type": "markdown",
   "id": "8d1e3651",
   "metadata": {},
   "source": [
    "일단 split으로 공백을 기준으로 리스트화 한뒤 map을 사용해 각 단어들의 첫글자만 대문자로 만들며 list로 바꿔 주었다.\n",
    "람다 함수를 map과 같이 사용하여 쉽게 구현하였다. 마지막 join을 사용해 합쳐서 문자열로 만들었다."
   ]
  },
  {
   "cell_type": "markdown",
   "id": "40ae9ab4",
   "metadata": {},
   "source": [
    "### 6.음이 아닌 정수 n를 입력받으면 n! (factorial)을 계산하는 myfact() 함수를 재귀적 함수로 구현하시오.\n",
    "- [옵션] 참을 수 있는 정도 만큼의 수행시간을 직접 기다려보면서 n을 늘려보도록 합시다."
   ]
  },
  {
   "cell_type": "code",
   "execution_count": 2,
   "id": "6ace66cf",
   "metadata": {},
   "outputs": [],
   "source": [
    "def factorial(n):\n",
    "    if (n==1):\n",
    "        return 1\n",
    "    else:\n",
    "        return n*factorial(n-1)\n"
   ]
  },
  {
   "cell_type": "code",
   "execution_count": 3,
   "id": "ac5731b7",
   "metadata": {},
   "outputs": [
    {
     "name": "stdout",
     "output_type": "stream",
     "text": [
      "3628800\n"
     ]
    }
   ],
   "source": [
    "print(factorial(10))"
   ]
  },
  {
   "cell_type": "code",
   "execution_count": 4,
   "id": "76a67ddb",
   "metadata": {},
   "outputs": [
    {
     "ename": "RecursionError",
     "evalue": "maximum recursion depth exceeded in comparison",
     "output_type": "error",
     "traceback": [
      "\u001b[1;31m---------------------------------------------------------------------------\u001b[0m",
      "\u001b[1;31mRecursionError\u001b[0m                            Traceback (most recent call last)",
      "\u001b[1;32m<ipython-input-4-d35339464593>\u001b[0m in \u001b[0;36m<module>\u001b[1;34m\u001b[0m\n\u001b[1;32m----> 1\u001b[1;33m \u001b[0mprint\u001b[0m\u001b[1;33m(\u001b[0m \u001b[0mfactorial\u001b[0m\u001b[1;33m(\u001b[0m\u001b[1;36m2959\u001b[0m\u001b[1;33m)\u001b[0m\u001b[1;33m)\u001b[0m  \u001b[1;31m#2959 부터 에러가 발생한다\u001b[0m\u001b[1;33m\u001b[0m\u001b[1;33m\u001b[0m\u001b[0m\n\u001b[0m",
      "\u001b[1;32m<ipython-input-2-557be165f52e>\u001b[0m in \u001b[0;36mfactorial\u001b[1;34m(n)\u001b[0m\n\u001b[0;32m      3\u001b[0m         \u001b[1;32mreturn\u001b[0m \u001b[1;36m1\u001b[0m\u001b[1;33m\u001b[0m\u001b[1;33m\u001b[0m\u001b[0m\n\u001b[0;32m      4\u001b[0m     \u001b[1;32melse\u001b[0m\u001b[1;33m:\u001b[0m\u001b[1;33m\u001b[0m\u001b[1;33m\u001b[0m\u001b[0m\n\u001b[1;32m----> 5\u001b[1;33m         \u001b[1;32mreturn\u001b[0m \u001b[0mn\u001b[0m\u001b[1;33m*\u001b[0m\u001b[0mfactorial\u001b[0m\u001b[1;33m(\u001b[0m\u001b[0mn\u001b[0m\u001b[1;33m-\u001b[0m\u001b[1;36m1\u001b[0m\u001b[1;33m)\u001b[0m\u001b[1;33m\u001b[0m\u001b[1;33m\u001b[0m\u001b[0m\n\u001b[0m",
      "... last 1 frames repeated, from the frame below ...\n",
      "\u001b[1;32m<ipython-input-2-557be165f52e>\u001b[0m in \u001b[0;36mfactorial\u001b[1;34m(n)\u001b[0m\n\u001b[0;32m      3\u001b[0m         \u001b[1;32mreturn\u001b[0m \u001b[1;36m1\u001b[0m\u001b[1;33m\u001b[0m\u001b[1;33m\u001b[0m\u001b[0m\n\u001b[0;32m      4\u001b[0m     \u001b[1;32melse\u001b[0m\u001b[1;33m:\u001b[0m\u001b[1;33m\u001b[0m\u001b[1;33m\u001b[0m\u001b[0m\n\u001b[1;32m----> 5\u001b[1;33m         \u001b[1;32mreturn\u001b[0m \u001b[0mn\u001b[0m\u001b[1;33m*\u001b[0m\u001b[0mfactorial\u001b[0m\u001b[1;33m(\u001b[0m\u001b[0mn\u001b[0m\u001b[1;33m-\u001b[0m\u001b[1;36m1\u001b[0m\u001b[1;33m)\u001b[0m\u001b[1;33m\u001b[0m\u001b[1;33m\u001b[0m\u001b[0m\n\u001b[0m",
      "\u001b[1;31mRecursionError\u001b[0m: maximum recursion depth exceeded in comparison"
     ]
    }
   ],
   "source": [
    "print( factorial(2959))  #2959 부터 에러가 발생한다"
   ]
  },
  {
   "cell_type": "markdown",
   "id": "c2bec07e",
   "metadata": {},
   "source": [
    "설명: 위 실행 결과를 보면 factorial(10)은 잘 작동하지만 2959는 작동하지 않는것을 확인할 수 있다. 수를 조금씩 늘려보며 2959에서 에러가 발생하는것을 확인했는데 에러의 이유는 파이썬에서 재귀호출의 횟수를 제한하는데 그 횟수를 넘었기 때문이다."
   ]
  },
  {
   "cell_type": "markdown",
   "id": "b3a2c72d",
   "metadata": {},
   "source": [
    "### 7. (서술형) import string 과 from string import * 의 차이점을 설명하시오."
   ]
  },
  {
   "cell_type": "markdown",
   "id": "9c7926ef",
   "metadata": {},
   "source": [
    "설명: import string을 사용하면 모듈 안의 함수를 사용할 때, string.함수명( )으로 하고, from string import *을 사용하면 바로 함수명( )으로 사용이 가능하다."
   ]
  },
  {
   "cell_type": "markdown",
   "id": "03e32383",
   "metadata": {},
   "source": [
    "### [Incremental Project 문제]\n",
    "이전 Assignment 3의 마지막 문제는 웹 URL로 지정된 웹페이지를 문자열로 가져와 모든 HTML 태그 및 CSS와 Javascript를 제외한 순수 텍스트를 얻어내고 그 안에 존재하는 단어를 추출하여 각 단어들에 대해 출현빈도를 사전형태({'world': 2, 'hello': 1, 'python': 1})로 저장하여 출력하는 것이었다. 이번에는 Assignment 3를 확장하여 다음과 같은 조건을 만족하도록 구현하시오."
   ]
  },
  {
   "cell_type": "code",
   "execution_count": 29,
   "id": "a52381c2",
   "metadata": {},
   "outputs": [],
   "source": [
    "import string\n",
    "import pickle\n",
    "import requests\n",
    "\n",
    "def deleteStyle(source):                      # <style> 제거 함수\n",
    "    start=source.find('<style')\n",
    "    end=source.find('</style>',start)\n",
    "    check=True\n",
    "    newstr=''\n",
    "    if start>-1:\n",
    "        for i in range(len(source)):\n",
    "            if i==start:\n",
    "                check=False\n",
    "            elif i==end:\n",
    "                check=True\n",
    "            if check:\n",
    "                newstr+=source[i]\n",
    "    else:\n",
    "        return source\n",
    "\n",
    "    return newstr\n",
    "\n",
    "def deleteScript(source):                       #<script> 제거 함수\n",
    "    start=source.find('<script')\n",
    "    end=source.find('</script>',start)\n",
    "    check=True\n",
    "    newstr=''\n",
    "    if start>-1:\n",
    "        for i in range(len(source)):\n",
    "            if i==start:\n",
    "                check=False\n",
    "            elif i==end:\n",
    "                check=True\n",
    "            if check:\n",
    "                newstr+=source[i]\n",
    "    else:\n",
    "        return source\n",
    "    \n",
    "    return newstr\n",
    "\n",
    "def deleteStopwords(source):                       #불용어 제거 함수\n",
    "    f= open('stopwords.txt','r',encoding='UTF-8')\n",
    "    stopwords=f.readlines()\n",
    "    f.close()\n",
    "    for i in stopwords:\n",
    "        while i in source:\n",
    "            source.remove(i) \n",
    "    return source"
   ]
  },
  {
   "cell_type": "code",
   "execution_count": 30,
   "id": "0b4cca74",
   "metadata": {},
   "outputs": [],
   "source": [
    "def wordsFrequency(url):                #단어의 빈도수를 사전객체로 반환하는 함수\n",
    "    import requests\n",
    "\n",
    "    req = requests.get(url)\n",
    "    source = req.text\n",
    "    \n",
    "    while(True):                        # <script> 처리\n",
    "        newSource=deleteScript(source)\n",
    "        if(newSource==source): \n",
    "            break\n",
    "        source=newSource\n",
    "        \n",
    "    while(True):                        # <style> 처리\n",
    "        newSource=deleteStyle(source)\n",
    "        if(newSource==source): \n",
    "            break\n",
    "        source=newSource\n",
    "        \n",
    "    \n",
    "    word = ''                            # <   > 처리\n",
    "    i=0\n",
    "    \n",
    "    while i<len(source):\n",
    "        if source[i]=='<':\n",
    "            while source[i]!='>':\n",
    "                i+=1\n",
    "            i+=1\n",
    "        else:\n",
    "            word+=source[i]\n",
    "            i+=1\n",
    "    \n",
    "    \n",
    "    wordlist=word.split()                \n",
    "    for i in range (len(wordlist)):       \n",
    "        wordlist[i]=wordlist[i].strip(string.punctuation)    #구두 문자 처리\n",
    "    \n",
    "    wordlist=deleteStopwords(wordlist)   # 불용어 처리\n",
    "    \n",
    "    wordlist=[i for i in wordlist if i]  # '' <<비어있는 문자 처리    \n",
    "    \n",
    "    \n",
    "    \n",
    "    word_dic={}\n",
    "    for key in wordlist:\n",
    "        word_dic[key]=wordlist.count(key) # 빈도수를 통해 사전화 \n",
    "    \n",
    "    return word_dic\n",
    "    #print(wordlist)\n",
    "    #print(len(wordlist))"
   ]
  },
  {
   "cell_type": "code",
   "execution_count": 31,
   "id": "a97b7c6c",
   "metadata": {},
   "outputs": [],
   "source": [
    " \n",
    "def saveWords_frequency(url):          # 단어의 빈도수를 나타내는 사전객체를 .pickle파일로 저장하는 함수\n",
    "    word_dic=wordsFrequency(url)       \n",
    "    urlName=url[url.find('/')+2:] # http// 제거\n",
    "    \n",
    "    req = requests.get(url)\n",
    "    source = req.text\n",
    "    \n",
    "\n",
    "    f = open(urlName+'.words_frequency.pickle','wb')\n",
    "    \n",
    "    pickle.dump(word_dic, f)\n",
    "    f.close()"
   ]
  },
  {
   "cell_type": "code",
   "execution_count": 32,
   "id": "722f2e1c",
   "metadata": {},
   "outputs": [],
   "source": [
    "def saveHTML_source(url):              # 사이트의 HTML소스를 .html파일로 저장하는함수\n",
    "    \n",
    "    urlName=url[url.find('/')+2:] # http// 제거\n",
    "    req = requests.get(url)\n",
    "    source = req.text\n",
    "    \n",
    "    f= open(urlName+'.html','wb')\n",
    "    pickle.dump(source, f)\n",
    "    f.close()"
   ]
  },
  {
   "cell_type": "code",
   "execution_count": 205,
   "id": "f073f446",
   "metadata": {},
   "outputs": [],
   "source": [
    "def search(words):                      #단어 검색함수이다. 유사도에 따라 순서대로 사이트를 나열해준다.\n",
    "    wordlist=words.split(' ')\n",
    "    wordlist=deleteStopwords(wordlist)  #검색단어 불용어 제거\n",
    "    url=['넥슨','네이버','네이버스포츠뉴스','예스24','CGV']\n",
    "    Similarity=[0,0,0]\n",
    "    url_Similarity={'넥슨':0,'네이버':0,'네이버스포츠뉴스':0, '예스24':0, 'CGV':0}\n",
    "    data=[pickle.load(open(\"www.nexon.com.words_frequency.pickle\",\"rb\"))\n",
    "         ,pickle.load(open(\"www.naver.com.words_frequency.pickle\",\"rb\"))\n",
    "         ,pickle.load(open(\"sports.news.naver.com.words_frequency.pickle\",\"rb\"))\n",
    "         ,pickle.load(open(\"www.yes24.com.words_frequency.pickle\",\"rb\"))\n",
    "        ,pickle.load(open(\"www.cgv.co.kr.words_frequency.pickle\",\"rb\"))]\n",
    "\n",
    "    lwords=[]\n",
    "    for i in range(len(url)):\n",
    "        lwords.append(data[i].keys())\n",
    "        #print(lwords[i])\n",
    "\n",
    "  \n",
    "    \n",
    "    \n",
    "    for word in wordlist:\n",
    "        for i in range(len(url)):\n",
    "            for searchWord in lwords[i]:\n",
    "                if word in searchWord:\n",
    "                    url_Similarity[url[i]]+=data[i][searchWord]\n",
    "    \n",
    "    sort=sorted(url_Similarity.items(), reverse=True, key=lambda item: item[1])\n",
    "    \n",
    "    for i in range(len(url)):\n",
    "        print(i+1,'.', sort[i][0], sort[i][1])"
   ]
  },
  {
   "cell_type": "code",
   "execution_count": 206,
   "id": "9b38bb54",
   "metadata": {},
   "outputs": [],
   "source": [
    "def showTop3words(pickleFile):                 # pickle 파일들을 객체로 로드하여 많이 출현한 단어 3개씩 뽑아 제시하는 함수.\n",
    "    data = pickle.load(open(pickleFile,\"rb\"))\n",
    "    l = sorted(data.items(), key = lambda item: item[1], reverse=True)  \n",
    "    \n",
    "    for i in range(3):\n",
    "        print(i+1, '.' ,l[i][0],\"=>\",\"단어수:\",l[i][1])"
   ]
  },
  {
   "cell_type": "markdown",
   "id": "9f35f9f3",
   "metadata": {},
   "source": [
    "설명: 기존 단어의 빈도수를 유지하는 사전 객체를 구할때 반환하는 함수에서 추가적으로 불용어도 제거하게끔 하였다. 불용어들을 .txt에 저장하고 txt파일을 불러와 for문으로 하나씩 확인하며 제거한다. saveWords_frequency()함수는 단어의 빈도수를 나타내는 사전객체를 .pickle파일로 저장하는 함수인데 사전객체를 그대로 .pickle파일에 저장하기 때문에 불러올때도 사전객체로 불러올 수 있다.  \n",
    "saveHTML_source() 함수는 피클을 이용해 html파일의 소스를 저장하는 .html파일로 함수이다.  \n",
    "search()는 단어 검색함수이다. 유사도에 따라 순서대로 사이트를 나열해준다. 유사도는 사용자가 검색한 단어를 포함하는 단어들의 수를 합한 값으로 계산하였다.\n",
    "showTop3words()는 pickle 파일들을 객체로 로드하여 많이 출현한 단어 3개씩 뽑아 제시하는 함수이다. 키값을 기준으로 내림차순으로 정렬한 뒤  \n",
    "그 정렬에서 0, 1, 2 색인을 출력하는데 그것은 빈도수 순으로 출력하는것과 같다."
   ]
  },
  {
   "cell_type": "code",
   "execution_count": 192,
   "id": "26f7c969",
   "metadata": {},
   "outputs": [],
   "source": [
    "saveHTML_source('https://www.nexon.com')\n",
    "saveWords_frequency('https://www.nexon.com')"
   ]
  },
  {
   "cell_type": "code",
   "execution_count": 193,
   "id": "f882a566",
   "metadata": {},
   "outputs": [],
   "source": [
    "saveHTML_source('https://www.naver.com')\n",
    "saveWords_frequency('https://www.naver.com')"
   ]
  },
  {
   "cell_type": "code",
   "execution_count": 194,
   "id": "8663b763",
   "metadata": {},
   "outputs": [],
   "source": [
    "saveHTML_source('http://www.yes24.com')\n",
    "saveWords_frequency('http://www.yes24.com')"
   ]
  },
  {
   "cell_type": "code",
   "execution_count": 195,
   "id": "6d1493b7",
   "metadata": {},
   "outputs": [],
   "source": [
    "saveHTML_source('https://sports.news.naver.com')\n",
    "saveWords_frequency('https://sports.news.naver.com')"
   ]
  },
  {
   "cell_type": "code",
   "execution_count": 196,
   "id": "98c78de9",
   "metadata": {},
   "outputs": [],
   "source": [
    "saveHTML_source('https://www.cgv.co.kr')\n",
    "saveWords_frequency('https://www.cgv.co.kr')"
   ]
  },
  {
   "cell_type": "markdown",
   "id": "4cc0d4ca",
   "metadata": {},
   "source": [
    "설명: 일단 5가지 사이트들의 소스를 저장하는 html과 단어의 빈도수를 사전으로 객체로 저장하는 pickle파일을 저장한다."
   ]
  },
  {
   "cell_type": "code",
   "execution_count": 200,
   "id": "c36459e4",
   "metadata": {},
   "outputs": [
    {
     "name": "stdout",
     "output_type": "stream",
     "text": [
      "1 . 구독 => 단어수: 26\n",
      "2 . 해지 => 단어수: 24\n",
      "3 . 기사보기 => 단어수: 24\n"
     ]
    }
   ],
   "source": [
    "showTop3words(\"www.naver.com.words_frequency.pickle\")"
   ]
  },
  {
   "cell_type": "code",
   "execution_count": 201,
   "id": "8e28391e",
   "metadata": {},
   "outputs": [
    {
     "name": "stdout",
     "output_type": "stream",
     "text": [
      "1 . MY게임 => 단어수: 7\n",
      "2 . NEXON => 단어수: 6\n",
      "3 . 로그인 => 단어수: 4\n"
     ]
    }
   ],
   "source": [
    "showTop3words(\"www.nexon.com.words_frequency.pickle\")"
   ]
  },
  {
   "cell_type": "code",
   "execution_count": 199,
   "id": "ff9a8796",
   "metadata": {},
   "outputs": [
    {
     "name": "stdout",
     "output_type": "stream",
     "text": [
      "1 . 스포츠 => 단어수: 6\n",
      "2 . UCL => 단어수: 6\n",
      "3 . height=\"190 => 단어수: 6\n"
     ]
    }
   ],
   "source": [
    "showTop3words(\"sports.news.naver.com.words_frequency.pickle\")"
   ]
  },
  {
   "cell_type": "code",
   "execution_count": 202,
   "id": "c97ce662",
   "metadata": {},
   "outputs": [
    {
     "name": "stdout",
     "output_type": "stream",
     "text": [
      "1 . 이전 => 단어수: 33\n",
      "2 . 다음 => 단어수: 33\n",
      "3 . 저 => 단어수: 33\n"
     ]
    }
   ],
   "source": [
    "showTop3words(\"www.yes24.com.words_frequency.pickle\")"
   ]
  },
  {
   "cell_type": "code",
   "execution_count": 203,
   "id": "f46edc59",
   "metadata": {},
   "outputs": [
    {
     "name": "stdout",
     "output_type": "stream",
     "text": [
      "1 . CGV => 단어수: 8\n",
      "2 . CJ => 단어수: 7\n",
      "3 . 안내 => 단어수: 5\n"
     ]
    }
   ],
   "source": [
    "showTop3words(\"www.cgv.co.kr.words_frequency.pickle\")"
   ]
  },
  {
   "cell_type": "markdown",
   "id": "b4eb2c29",
   "metadata": {},
   "source": [
    "설명: showTop3words 함수를 통해 각사이트의 가장 빈도수가 높은 단어를 1순위 부터 보여준다."
   ]
  },
  {
   "cell_type": "code",
   "execution_count": 220,
   "id": "02dd60b9",
   "metadata": {},
   "outputs": [
    {
     "name": "stdout",
     "output_type": "stream",
     "text": [
      "1 . 예스24 47\n",
      "2 . 네이버스포츠뉴스 16\n",
      "3 . 네이버 10\n",
      "4 . CGV 2\n",
      "5 . 넥슨 1\n"
     ]
    }
   ],
   "source": [
    "search('스포츠 책')"
   ]
  },
  {
   "cell_type": "code",
   "execution_count": 221,
   "id": "98dae763",
   "metadata": {},
   "outputs": [
    {
     "name": "stdout",
     "output_type": "stream",
     "text": [
      "1 . 넥슨 21\n",
      "2 . 네이버스포츠뉴스 14\n",
      "3 . 예스24 8\n",
      "4 . 네이버 5\n",
      "5 . CGV 1\n"
     ]
    }
   ],
   "source": [
    "search('스포츠 게임')"
   ]
  },
  {
   "cell_type": "code",
   "execution_count": 227,
   "id": "cae3dc85",
   "metadata": {},
   "outputs": [
    {
     "name": "stdout",
     "output_type": "stream",
     "text": [
      "1 . 예스24 4\n",
      "2 . CGV 3\n",
      "3 . 넥슨 0\n",
      "4 . 네이버 0\n",
      "5 . 네이버스포츠뉴스 0\n"
     ]
    }
   ],
   "source": [
    "search('예매')"
   ]
  },
  {
   "cell_type": "code",
   "execution_count": 225,
   "id": "2c42f61f",
   "metadata": {},
   "outputs": [
    {
     "name": "stdout",
     "output_type": "stream",
     "text": [
      "1 . 네이버스포츠뉴스 3\n",
      "2 . 넥슨 0\n",
      "3 . 네이버 0\n",
      "4 . 예스24 0\n",
      "5 . CGV 0\n"
     ]
    }
   ],
   "source": [
    "search('골프')"
   ]
  },
  {
   "cell_type": "code",
   "execution_count": 229,
   "id": "8feb44d3",
   "metadata": {},
   "outputs": [
    {
     "name": "stdout",
     "output_type": "stream",
     "text": [
      "1 . 네이버 14\n",
      "2 . 네이버스포츠뉴스 5\n",
      "3 . 예스24 2\n",
      "4 . 넥슨 0\n",
      "5 . CGV 0\n"
     ]
    }
   ],
   "source": [
    "search('네이버 웹툰')"
   ]
  },
  {
   "cell_type": "markdown",
   "id": "5e97cd2e",
   "metadata": {},
   "source": [
    "설명: 유사도에 따라 사이트의 순위를 보여준다. 오른쪽에는 유사도를 보여주는데 만약   \n",
    " 첫번째 예시처럼 '스포츠 책'을 검색하면 스포츠를 포함하는 단어들을 모두 합하고 책을 포함하는 단어를 모두합해 이들을 합산해 유사도를 구한다. 스포츠 게임을 검색할때와 스포츠 책을 검색할때 순위가 바뀌는것을 볼 수 있다. "
   ]
  },
  {
   "cell_type": "markdown",
   "id": "7826cff4",
   "metadata": {},
   "source": [
    "### 본인이 생각하기에 상업적인 완성도 높은 검색 로봇/엔진이 되려면 어떤 기능들이 추가적으로 구현되어야 할지 최소 1가지 이상 제시하시오."
   ]
  },
  {
   "cell_type": "code",
   "execution_count": 231,
   "id": "cbf05007",
   "metadata": {},
   "outputs": [
    {
     "data": {
      "image/png": "[encoded data removed]",
      "text/plain": [
       "<IPython.core.display.Image object>"
      ]
     },
     "execution_count": 231,
     "metadata": {},
     "output_type": "execute_result"
    }
   ],
   "source": [
    "from IPython.display import Image\n",
    "Image( filename = '10.png')"
   ]
  },
  {
   "cell_type": "markdown",
   "id": "bc649d77",
   "metadata": {},
   "source": [
    "사용자는 컴퓨터가 아닌 사람이기 때문에 검색을 할때 단어의 철자를 정확히 모르거나 자신의 실수로인해 철자를 틀릴 수도 있다. \n",
    "위에 사진을 보면 '비나나'라고 검색했지만 '바나나'라고 검색이 잘된다. 단어의 철자를 틀려도 검색이 잘 되면 좋다고 생각한다."
   ]
  },
  {
   "cell_type": "markdown",
   "id": "32da32b3",
   "metadata": {},
   "source": [
    "또한 사람들이 얼마나 많이 방문했나를 통해 사이트를 상위목록에 띄우주면 더 좋을것 같다."
   ]
  },
  {
   "cell_type": "markdown",
   "id": "a1a1a09c",
   "metadata": {},
   "source": [
    "느낀점: 파일입출력에 대해서 과제를 하며 다시금 공부하고 익힐 수 있어서 좋았다. 검색엔진의 유사도에 대해 많이 생각해보았는데 아직 많이 부족하다고 생각한다. 그래도 내가 만들고 있는 검색엔진이 점점 발전하는것 같아서 좋다."
   ]
  }
 ],
 "metadata": {
  "kernelspec": {
   "display_name": "Python 3",
   "language": "python",
   "name": "python3"
  },
  "language_info": {
   "codemirror_mode": {
    "name": "ipython",
    "version": 3
   },
   "file_extension": ".py",
   "mimetype": "text/x-python",
   "name": "python",
   "nbconvert_exporter": "python",
   "pygments_lexer": "ipython3",
   "version": "3.8.8"
  }
 },
 "nbformat": 4,
 "nbformat_minor": 5
}
