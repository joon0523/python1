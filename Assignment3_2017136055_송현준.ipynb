{
 "cells": [
  {
   "cell_type": "markdown",
   "id": "82cccac8",
   "metadata": {},
   "source": [
    "# Assignment 3\n",
    "\n",
    "## 학번: 2017136055\n",
    "## 이름: 송현준"
   ]
  },
  {
   "cell_type": "markdown",
   "id": "451724c9",
   "metadata": {},
   "source": [
    "### 1. L=[1, 2, 3, 4, 5]일 때 다음 각 문장을 수행한 후의 결과를 보고 납득할 만한 이유를 설명하시오."
   ]
  },
  {
   "cell_type": "markdown",
   "id": "01440719",
   "metadata": {},
   "source": [
    "#### 1-1)"
   ]
  },
  {
   "cell_type": "code",
   "execution_count": 20,
   "id": "2a4e51b2",
   "metadata": {},
   "outputs": [
    {
     "name": "stdout",
     "output_type": "stream",
     "text": [
      "[1, 100, 4, 5]\n"
     ]
    }
   ],
   "source": [
    "L=[1, 2, 3, 4, 5]\n",
    "\n",
    "L[1:3] = [100] \n",
    "print(L)"
   ]
  },
  {
   "cell_type": "markdown",
   "id": "ab936741",
   "metadata": {},
   "source": [
    "이유: 크기가 달라도 대입이 가능하다. [2,3] 을 삭제하고 100을 삽입한 것이다."
   ]
  },
  {
   "cell_type": "markdown",
   "id": "0760926e",
   "metadata": {},
   "source": [
    "#### 1-2)"
   ]
  },
  {
   "cell_type": "code",
   "execution_count": 21,
   "id": "350b206b",
   "metadata": {},
   "outputs": [
    {
     "name": "stdout",
     "output_type": "stream",
     "text": [
      "[1, 100, 4, 5]\n"
     ]
    }
   ],
   "source": [
    "L=[1, 2, 3, 4, 5]\n",
    "\n",
    "L[1:3] = [(100)]\n",
    "print(L)"
   ]
  },
  {
   "cell_type": "markdown",
   "id": "ffc19dec",
   "metadata": {},
   "source": [
    "이유: (100)과 100은 같기 때문에 앞에 1-1) 과 같은 결과가 나온다."
   ]
  },
  {
   "cell_type": "markdown",
   "id": "05ffadb4",
   "metadata": {},
   "source": [
    "#### 1-3)"
   ]
  },
  {
   "cell_type": "code",
   "execution_count": 28,
   "id": "38738a92",
   "metadata": {},
   "outputs": [
    {
     "ename": "TypeError",
     "evalue": "can only assign an iterable",
     "output_type": "error",
     "traceback": [
      "\u001b[1;31m---------------------------------------------------------------------------\u001b[0m",
      "\u001b[1;31mTypeError\u001b[0m                                 Traceback (most recent call last)",
      "\u001b[1;32m<ipython-input-28-3d51d8729d2d>\u001b[0m in \u001b[0;36m<module>\u001b[1;34m\u001b[0m\n\u001b[0;32m      1\u001b[0m \u001b[0mL\u001b[0m\u001b[1;33m=\u001b[0m\u001b[1;33m[\u001b[0m\u001b[1;36m1\u001b[0m\u001b[1;33m,\u001b[0m \u001b[1;36m2\u001b[0m\u001b[1;33m,\u001b[0m \u001b[1;36m3\u001b[0m\u001b[1;33m,\u001b[0m \u001b[1;36m4\u001b[0m\u001b[1;33m,\u001b[0m \u001b[1;36m5\u001b[0m\u001b[1;33m]\u001b[0m\u001b[1;33m\u001b[0m\u001b[1;33m\u001b[0m\u001b[0m\n\u001b[0;32m      2\u001b[0m \u001b[1;33m\u001b[0m\u001b[0m\n\u001b[1;32m----> 3\u001b[1;33m \u001b[0mL\u001b[0m\u001b[1;33m[\u001b[0m\u001b[1;36m1\u001b[0m\u001b[1;33m:\u001b[0m\u001b[1;36m3\u001b[0m\u001b[1;33m]\u001b[0m \u001b[1;33m=\u001b[0m \u001b[1;36m100\u001b[0m\u001b[1;33m\u001b[0m\u001b[1;33m\u001b[0m\u001b[0m\n\u001b[0m\u001b[0;32m      4\u001b[0m \u001b[0mprint\u001b[0m\u001b[1;33m(\u001b[0m\u001b[0mL\u001b[0m\u001b[1;33m)\u001b[0m\u001b[1;33m\u001b[0m\u001b[1;33m\u001b[0m\u001b[0m\n",
      "\u001b[1;31mTypeError\u001b[0m: can only assign an iterable"
     ]
    }
   ],
   "source": [
    "L=[1, 2, 3, 4, 5]\n",
    "\n",
    "L[1:3] = 100\n",
    "print(L)"
   ]
  },
  {
   "cell_type": "markdown",
   "id": "a455ebf1",
   "metadata": {},
   "source": [
    "이유: 슬라이싱에 대입을 할때는 이터러블 객체가 올수 있는데 100은 이터러블 객체가 아니다."
   ]
  },
  {
   "cell_type": "markdown",
   "id": "ada33068",
   "metadata": {},
   "source": [
    "#### 1-4)"
   ]
  },
  {
   "cell_type": "code",
   "execution_count": 29,
   "id": "2300b757",
   "metadata": {},
   "outputs": [
    {
     "ename": "TypeError",
     "evalue": "can only assign an iterable",
     "output_type": "error",
     "traceback": [
      "\u001b[1;31m---------------------------------------------------------------------------\u001b[0m",
      "\u001b[1;31mTypeError\u001b[0m                                 Traceback (most recent call last)",
      "\u001b[1;32m<ipython-input-29-148a17715ec2>\u001b[0m in \u001b[0;36m<module>\u001b[1;34m\u001b[0m\n\u001b[0;32m      1\u001b[0m \u001b[0mL\u001b[0m\u001b[1;33m=\u001b[0m\u001b[1;33m[\u001b[0m\u001b[1;36m1\u001b[0m\u001b[1;33m,\u001b[0m \u001b[1;36m2\u001b[0m\u001b[1;33m,\u001b[0m \u001b[1;36m3\u001b[0m\u001b[1;33m,\u001b[0m \u001b[1;36m4\u001b[0m\u001b[1;33m,\u001b[0m \u001b[1;36m5\u001b[0m\u001b[1;33m]\u001b[0m\u001b[1;33m\u001b[0m\u001b[1;33m\u001b[0m\u001b[0m\n\u001b[0;32m      2\u001b[0m \u001b[1;33m\u001b[0m\u001b[0m\n\u001b[1;32m----> 3\u001b[1;33m \u001b[0mL\u001b[0m\u001b[1;33m[\u001b[0m\u001b[1;36m1\u001b[0m\u001b[1;33m:\u001b[0m\u001b[1;36m3\u001b[0m\u001b[1;33m]\u001b[0m \u001b[1;33m=\u001b[0m \u001b[1;33m(\u001b[0m\u001b[1;36m100\u001b[0m\u001b[1;33m)\u001b[0m\u001b[1;33m\u001b[0m\u001b[1;33m\u001b[0m\u001b[0m\n\u001b[0m\u001b[0;32m      4\u001b[0m \u001b[0mprint\u001b[0m\u001b[1;33m(\u001b[0m\u001b[0mL\u001b[0m\u001b[1;33m)\u001b[0m\u001b[1;33m\u001b[0m\u001b[1;33m\u001b[0m\u001b[0m\n",
      "\u001b[1;31mTypeError\u001b[0m: can only assign an iterable"
     ]
    }
   ],
   "source": [
    "L=[1, 2, 3, 4, 5]\n",
    "\n",
    "L[1:3] = (100)\n",
    "print(L)"
   ]
  },
  {
   "cell_type": "markdown",
   "id": "8d3c6354",
   "metadata": {},
   "source": [
    "이유: 1-3)과 같은 이유이다. (100)은 100과 같다."
   ]
  },
  {
   "cell_type": "markdown",
   "id": "2850ee17",
   "metadata": {},
   "source": [
    "#### 1-5)"
   ]
  },
  {
   "cell_type": "code",
   "execution_count": 37,
   "id": "4be408fd",
   "metadata": {},
   "outputs": [
    {
     "name": "stdout",
     "output_type": "stream",
     "text": [
      "[1, 100, 101, 102, 4, 5]\n"
     ]
    }
   ],
   "source": [
    "L=[1, 2, 3, 4, 5]\n",
    "\n",
    "L[1:3] = (100, 101, 102)\n",
    "print(L)"
   ]
  },
  {
   "cell_type": "markdown",
   "id": "5a4968e6",
   "metadata": {},
   "source": [
    "이유: 튜플은 이터러블 객체이기 때문에 대입이 가능하다."
   ]
  },
  {
   "cell_type": "markdown",
   "id": "537e620e",
   "metadata": {},
   "source": [
    "#### 1-6)"
   ]
  },
  {
   "cell_type": "code",
   "execution_count": 38,
   "id": "cf05faf9",
   "metadata": {},
   "outputs": [
    {
     "name": "stdout",
     "output_type": "stream",
     "text": [
      "[1, 100, 101, 102, 4, 5]\n"
     ]
    }
   ],
   "source": [
    "L=[1, 2, 3, 4, 5]\n",
    "\n",
    "L[1:3] = [100, 101, 102]\n",
    "print(L)"
   ]
  },
  {
   "cell_type": "markdown",
   "id": "f26aa718",
   "metadata": {},
   "source": [
    "이유: 1-1) 과 같다. 크기가 달라도 대입이 가능하고 [2, 3]을 삭제하고 그자리에 [100, 101, 102]를 대입한 것이다."
   ]
  },
  {
   "cell_type": "markdown",
   "id": "c06ca872",
   "metadata": {},
   "source": [
    "#### 1-7)"
   ]
  },
  {
   "cell_type": "code",
   "execution_count": 35,
   "id": "e8499bb9",
   "metadata": {},
   "outputs": [
    {
     "name": "stdout",
     "output_type": "stream",
     "text": [
      "[1, (100, 101, 102), 4, 5]\n"
     ]
    }
   ],
   "source": [
    "L=[1, 2, 3, 4, 5]\n",
    "\n",
    "L[1:3] = [(100, 101, 102)]\n",
    "print(L)"
   ]
  },
  {
   "cell_type": "markdown",
   "id": "ddf10a82",
   "metadata": {},
   "source": [
    "이유: 튜플을 원소로 갖는 리스트를 대입하는것이다. [2, 3]을 삭제하고 [(100, 101, 102)] 를 대입하는 것이다."
   ]
  },
  {
   "cell_type": "markdown",
   "id": "97a1e029",
   "metadata": {},
   "source": [
    "#### 1-8)"
   ]
  },
  {
   "cell_type": "code",
   "execution_count": 36,
   "id": "10e80bb8",
   "metadata": {},
   "outputs": [
    {
     "name": "stdout",
     "output_type": "stream",
     "text": [
      "[1, [100, 101, 102], 4, 5]\n"
     ]
    }
   ],
   "source": [
    "L=[1, 2, 3, 4, 5]\n",
    "\n",
    "\n",
    "L[1:3] = [[100, 101, 102]]\n",
    "print(L)"
   ]
  },
  {
   "cell_type": "markdown",
   "id": "50cc3156",
   "metadata": {},
   "source": [
    "이유: 리스트를 원소로 갖는 리스트를 대입하는 것이다. [2, 3]을 삭제하고 그자리에 [[100, 101, 102]]를 대입한 것이다."
   ]
  },
  {
   "cell_type": "markdown",
   "id": "caee4039",
   "metadata": {},
   "source": [
    "### 2. 문자열 S = 'Hello World and Python'에 대해 다음 요구사항에 대한 Python 코드를 제시하시오.\n",
    "#### 2-1) 단어의 순서가 역순으로 되어진 문자열 ('Python and World Hello')을 만들고\\"
   ]
  },
  {
   "cell_type": "code",
   "execution_count": 191,
   "id": "35478f10",
   "metadata": {},
   "outputs": [],
   "source": [
    "S = 'Hello World and Python'"
   ]
  },
  {
   "cell_type": "code",
   "execution_count": 196,
   "id": "df975392",
   "metadata": {},
   "outputs": [],
   "source": [
    "S=S.split()\n",
    "S=S[::-1]\n",
    "S=' '.join(S)"
   ]
  },
  {
   "cell_type": "code",
   "execution_count": 197,
   "id": "5cf39499",
   "metadata": {},
   "outputs": [
    {
     "name": "stdout",
     "output_type": "stream",
     "text": [
      "Hello World and Python\n"
     ]
    }
   ],
   "source": [
    "print(S)                       "
   ]
  },
  {
   "cell_type": "markdown",
   "id": "07507ea2",
   "metadata": {},
   "source": [
    "이유: 일단 문자열의 단어들을 공백으로 구분해 split으로 리스트로 바꾸었고 그뒤 join의 구분자를 공백으로 설정하여 다시 S를 리스트에서 문자열로 바꾸었다."
   ]
  },
  {
   "cell_type": "markdown",
   "id": "e32ba3c0",
   "metadata": {},
   "source": [
    "#### 2-2 ) 1)의 결과 문자열에 대해 메소드 split과 join을 이용하여 공백을 모두 없엔 문자열 'PythonandWorldHello'을 만드시오."
   ]
  },
  {
   "cell_type": "code",
   "execution_count": 177,
   "id": "96a13079",
   "metadata": {},
   "outputs": [
    {
     "name": "stdout",
     "output_type": "stream",
     "text": [
      "PythonandWorldHello\n"
     ]
    }
   ],
   "source": [
    "S=S.split()\n",
    "S=''.join(S)\n",
    "print(S)"
   ]
  },
  {
   "cell_type": "markdown",
   "id": "ab50090d",
   "metadata": {},
   "source": [
    "이유: split으로 공백으로 구분해 리스트화 한뒤 구분자없이 join으로 다시 문자열로 만들었다."
   ]
  },
  {
   "cell_type": "markdown",
   "id": "e89c3451",
   "metadata": {},
   "source": [
    "### 3. 다음 코드를 보고 물음에 답하시오.\\\n",
    "- a = [1, 2, 3]\\\n",
    "b = a * 3\\\n",
    "c = [a] * 3\\\n",
    "print(b)\\\n",
    "print(c)\\"
   ]
  },
  {
   "cell_type": "markdown",
   "id": "6b1ba221",
   "metadata": {},
   "source": [
    "#### 3-1) 위 코드를 수행한 이후 다음 코드를 수행한 후 b와 c의 내용을 확인하시오"
   ]
  },
  {
   "cell_type": "code",
   "execution_count": 206,
   "id": "8919f5ac",
   "metadata": {
    "scrolled": true
   },
   "outputs": [
    {
     "name": "stdout",
     "output_type": "stream",
     "text": [
      "[1, 2, 3, 1, 2, 3, 1, 2, 3]\n",
      "[[1, 2, 3], [1, 2, 3], [1, 2, 3]]\n"
     ]
    }
   ],
   "source": [
    "a = [1, 2, 3]\n",
    "b = a * 3\n",
    "c = [a] * 3\n",
    "print(b)\n",
    "print(c)"
   ]
  },
  {
   "cell_type": "markdown",
   "id": "078b9db8",
   "metadata": {},
   "source": [
    "이유: b는 a를 원소를 3번 반복한 리스트를 갖게 되고 c는 리스트 a리스트 자체를 원소로 가지게 되는데 a를 3번 반복한 리스트를 가지게 된다."
   ]
  },
  {
   "cell_type": "markdown",
   "id": "91df5add",
   "metadata": {},
   "source": [
    "#### 3-2) b와 c 객체의 차이는 무엇인가?"
   ]
  },
  {
   "cell_type": "markdown",
   "id": "4200d128",
   "metadata": {},
   "source": [
    "리스트의 길이의 차이가 있다. 똑같이 3배를 해줬지만 b는 1, 2, 3을 3번 반복하는것이고 c는 [1,2,3]리스트를 3번 반복하기 때문에\\\n",
    "b의 길이는 9 c의 길이는 3이된다. 그리고 c는 각각원소가 a가 가리키는 곳과 같아 a의 수정에 영향을 받지만 b는 영향을 받지 않는다."
   ]
  },
  {
   "cell_type": "markdown",
   "id": "22ba2724",
   "metadata": {},
   "source": [
    "### 4. 다음 문자열을 ':'을 기준으로 분리하여 리스트로 만들고 각 문자열의 좌우 공백을 제거하시오 (즉, 문자열 S에서 l을 만들어라)"
   ]
  },
  {
   "cell_type": "markdown",
   "id": "87df24f2",
   "metadata": {},
   "source": [
    "- s = '  first star   :   second star   :    third star  ' \\\n",
    "l = ['first star', 'second star', 'third star']"
   ]
  },
  {
   "cell_type": "markdown",
   "id": "0cd5b62e",
   "metadata": {},
   "source": [
    "#### 4-1) for ~ in 문을 이용한 코드를 작성하시오"
   ]
  },
  {
   "cell_type": "code",
   "execution_count": 283,
   "id": "c435dada",
   "metadata": {},
   "outputs": [],
   "source": [
    "s = ' first star : second star : third star '"
   ]
  },
  {
   "cell_type": "code",
   "execution_count": 292,
   "id": "66538497",
   "metadata": {},
   "outputs": [
    {
     "name": "stdout",
     "output_type": "stream",
     "text": [
      "['first star', 'second star', 'third star']\n"
     ]
    }
   ],
   "source": [
    "l=s.split(':')\n",
    "for i in range (len(l)):\n",
    "    l[i]=l[i].strip()\n",
    "    \n",
    "print(l)"
   ]
  },
  {
   "cell_type": "markdown",
   "id": "71d907ac",
   "metadata": {},
   "source": [
    "이유: 일단 s를 ':'를 기준으로 구분하여 리스트화하여 l에 집어넣고 그후 양쪽에 공백을 strip() 함수를 통해 각각의 원소에 접근하며 지워 줬다."
   ]
  },
  {
   "cell_type": "markdown",
   "id": "ed456d41",
   "metadata": {},
   "source": [
    "#### 4-2) 리스트 내포(list comprehension)를 이용한 코드를 작성하시오."
   ]
  },
  {
   "cell_type": "code",
   "execution_count": 289,
   "id": "efacba84",
   "metadata": {},
   "outputs": [
    {
     "name": "stdout",
     "output_type": "stream",
     "text": [
      "['first star', 'second star', 'third star']\n"
     ]
    }
   ],
   "source": [
    "l=s.split(':')\n",
    "l=[i.strip() for i in l]\n",
    "print(l)"
   ]
  },
  {
   "cell_type": "markdown",
   "id": "830cca12",
   "metadata": {},
   "source": [
    "이유: 리스트 내포를 통해 strip을 하며 l에 원소를 넣어 주었다. 1번에 비해 한줄로 더 간단히 정리 할 수 있다."
   ]
  },
  {
   "cell_type": "markdown",
   "id": "824570b7",
   "metadata": {},
   "source": [
    "### 5. 다음과 같이 0보다 큰 정수 리스트 변수 list를 인자로 받는 함수 addall(list)와 addallodd(list)를 for ~ in 리터널과 리스트 내포 방식으로 각각 제시하시오."
   ]
  },
  {
   "cell_type": "markdown",
   "id": "53ff29bf",
   "metadata": {},
   "source": [
    "#### 5-1) addall(list) 함수 (리스트 내의 모든 정수를 더하는 함수로서 해답으로는 for ~ in 리터럴과 리스트 내포 방식으로 각각 제시하시오.)\\"
   ]
  },
  {
   "cell_type": "code",
   "execution_count": 300,
   "id": "5212acba",
   "metadata": {},
   "outputs": [
    {
     "name": "stdout",
     "output_type": "stream",
     "text": [
      "15\n"
     ]
    }
   ],
   "source": [
    "def addall_1(list):\n",
    "    s=0\n",
    "    for i in list:\n",
    "        s+=i\n",
    "    return s\n",
    "\n",
    "print(addall_1([1,2,3,4,5]))"
   ]
  },
  {
   "cell_type": "code",
   "execution_count": 301,
   "id": "102b47df",
   "metadata": {},
   "outputs": [
    {
     "name": "stdout",
     "output_type": "stream",
     "text": [
      "15\n"
     ]
    }
   ],
   "source": [
    "def addall_2(list):\n",
    "    return sum([i for i in list])  #리스트 내포방식\n",
    "\n",
    "print(addall_2([1,2,3,4,5]))"
   ]
  },
  {
   "cell_type": "markdown",
   "id": "9104da51",
   "metadata": {},
   "source": [
    "이유: for문을 활용해 각각 리스트의 원소에 접근하며 더한뒤 모두 더한 s를 반환해준다.\\\n",
    "2번째는 리스트 내포방식을 통해 list를 접근하며 리스트를 만든뒤 내장함수 sum으로 합한뒤 s에 대입 후 반환했다."
   ]
  },
  {
   "cell_type": "markdown",
   "id": "ba8df28b",
   "metadata": {},
   "source": [
    "#### 5-2) addallodd(list) 함수 (리스트내의 모든 홀수를 더하는 함수로서 해답으로는 for ~ in 리터럴과 리스트 내포 방식으로 각각 제시하시오.)"
   ]
  },
  {
   "cell_type": "code",
   "execution_count": 302,
   "id": "fe86231f",
   "metadata": {},
   "outputs": [
    {
     "name": "stdout",
     "output_type": "stream",
     "text": [
      "9\n"
     ]
    }
   ],
   "source": [
    "def addallodd_1(list):\n",
    "    s=0\n",
    "    for i in list:\n",
    "        if i%2!=0:\n",
    "            s+=i\n",
    "    return s\n",
    "\n",
    "print(addallodd_1([1,2,3,4,5]))"
   ]
  },
  {
   "cell_type": "code",
   "execution_count": 303,
   "id": "dccbd6c2",
   "metadata": {},
   "outputs": [
    {
     "name": "stdout",
     "output_type": "stream",
     "text": [
      "9\n"
     ]
    }
   ],
   "source": [
    "def addallodd_2(list):\n",
    "    return sum([i for i in list if(i%2!=0)])\n",
    "\n",
    "print(addallodd_2([1,2,3,4,5]))"
   ]
  },
  {
   "cell_type": "markdown",
   "id": "29777d98",
   "metadata": {},
   "source": [
    "이유: 반복문안에 나누었을때 0이 아니면 더하는 조건을 추가 해주었다. 2번째 리스트 내포 방식에서는 마찬가지로 리스트내포에 조건문을 추가해주었다."
   ]
  },
  {
   "cell_type": "markdown",
   "id": "f167b473",
   "metadata": {},
   "source": [
    "### 6. 다음 코드를 보고 물음에 답하시오."
   ]
  },
  {
   "cell_type": "code",
   "execution_count": 308,
   "id": "42e82983",
   "metadata": {},
   "outputs": [
    {
     "name": "stdout",
     "output_type": "stream",
     "text": [
      "{'low': [1, 2, 3], 'high': [4, 5, 6]}\n",
      "{'low': [1, 2, 3], 'high': [4, 5, 6]}\n",
      "{'low': [1, 2, 3], 'high': [4, 5, 6]}\n",
      "\n",
      "{'low': [10, 20, 30], 'high': [4, 500, 6]}\n",
      "{'low': [10, 20, 30], 'high': [4, 500, 6]}\n",
      "{'low': [1, 2, 3], 'high': [4, 500, 6]}\n",
      "False\n"
     ]
    }
   ],
   "source": [
    "L1 = [1, 2, 3]\n",
    "L2 = [4, 5, 6]\n",
    "d = {'low':L1, 'high':L2}\n",
    "e = d\n",
    "f = d.copy()\n",
    "print(d)\n",
    "print(e)\n",
    "print(f)\n",
    "print()\n",
    "d['low'] = [10, 20, 30]\n",
    "d['high'][1] = 500\n",
    "print(d)\n",
    "print(e)\n",
    "print(f)\n"
   ]
  },
  {
   "cell_type": "markdown",
   "id": "1b7ffb5b",
   "metadata": {},
   "source": [
    "#### 6-1) 위 코드의 수행 결과 d와 e는 항상 같은 결과를 출력한다. 그 이유는 무엇인가?"
   ]
  },
  {
   "cell_type": "markdown",
   "id": "ea4c1f38",
   "metadata": {},
   "source": [
    " d는 e와 같은 같은 객체를 참조하기 때문이다"
   ]
  },
  {
   "cell_type": "markdown",
   "id": "b6c670c2",
   "metadata": {},
   "source": [
    "#### 6-2)위 코드의 수행 결과 마지막 f의 내용은 다음과 같다. 이 때 'high' 키의 값 내용 중 500이 출력된 이유와 'low' 키의 값 내용 중 [1, 2, 3]이 출력된 이유를 설명하시오 ([hint]: shallow copy 관점에서 설명하시오.)"
   ]
  },
  {
   "cell_type": "markdown",
   "id": "4080cc65",
   "metadata": {},
   "source": [
    "d와 f는 다른 주소를 갖지만 내부에 있는 리스트 객체는 shallow copy를 해서 같은 객체를 참조하게 된다.\\\n",
    "d['low']에서 바꿀때는 [1,2,3]을 [10, 20, 30]으로 새로운 객체를 가르키게 하고 d와 f는 다르기 때문에 f에는 영향을 주지 않는다.\\\n",
    "하지만 d['high'][1]는 리스트 내부에 원소를 바꾸는 것이므로 d와 f는 같은 객체인 [4,5,6] 을 가리키고 있기 때문에 모두 500으로 바뀌는 것이다.\n",
    "\n"
   ]
  },
  {
   "cell_type": "markdown",
   "id": "fac06911",
   "metadata": {},
   "source": [
    "### 7. 사전 d = {'one':1, 'two':2, 'three':3, 'four':4, 'five':5}가 주어졌을 때 다음 요구사항에 맞는 코드를 제시하시오"
   ]
  },
  {
   "cell_type": "markdown",
   "id": "3a3b3913",
   "metadata": {},
   "source": [
    "- [참고]: d.keys(), d.values()를 통해 리스트를 얻어낸 후 리스트가 지니고 있는 sort(cmp=None, key=None, reverse=False)함수를 활용하시오."
   ]
  },
  {
   "cell_type": "code",
   "execution_count": 321,
   "id": "6d2803cc",
   "metadata": {},
   "outputs": [],
   "source": [
    "d = {'one':1, 'two':2, 'three':3, 'four':4, 'five':5}"
   ]
  },
  {
   "cell_type": "markdown",
   "id": "a58d967a",
   "metadata": {},
   "source": [
    "#### 7-1) 키의 알파벳 오름차순 순서대로 튜플 (키, 값)을 차례대로 출력하시오."
   ]
  },
  {
   "cell_type": "code",
   "execution_count": 347,
   "id": "c68c8ef9",
   "metadata": {},
   "outputs": [
    {
     "name": "stdout",
     "output_type": "stream",
     "text": [
      "[('five', 5), ('four', 4), ('one', 1), ('three', 3), ('two', 2)]\n"
     ]
    }
   ],
   "source": [
    "l=[(i,j) for i,j in zip(d.keys(), d.values())]\n",
    "l.sort()\n",
    "print(l)"
   ]
  },
  {
   "cell_type": "markdown",
   "id": "8ca1be7c",
   "metadata": {},
   "source": [
    "이유: sort함수의 기본값은 오름차순 정렬이기 때문에 sort()를 쓰면 오름차순 정렬을 한다."
   ]
  },
  {
   "cell_type": "markdown",
   "id": "5ace59bf",
   "metadata": {},
   "source": [
    "#### 7-2) 키의 알파벳 내림차순 순서대로 튜플 (키, 값)을 차례대로 출력하시오."
   ]
  },
  {
   "cell_type": "code",
   "execution_count": 349,
   "id": "c344e262",
   "metadata": {},
   "outputs": [
    {
     "name": "stdout",
     "output_type": "stream",
     "text": [
      "[('two', 2), ('three', 3), ('one', 1), ('four', 4), ('five', 5)]\n"
     ]
    }
   ],
   "source": [
    "l.sort(reverse=True)\n",
    "print(l)"
   ]
  },
  {
   "cell_type": "markdown",
   "id": "e392892d",
   "metadata": {},
   "source": [
    "이유: sort함수에서 reverse=True로 하여 원래 오름차순이던 기본값을 거꾸로 내림차순으로 바꿔주었다."
   ]
  },
  {
   "cell_type": "markdown",
   "id": "3e48b21b",
   "metadata": {},
   "source": [
    "#### 7-3) 값의 오름차순 순서대로 튜플 (키, 값)을 차례대로 출력하시오."
   ]
  },
  {
   "cell_type": "code",
   "execution_count": 358,
   "id": "13fff882",
   "metadata": {},
   "outputs": [
    {
     "name": "stdout",
     "output_type": "stream",
     "text": [
      "[('one', 1), ('two', 2), ('three', 3), ('four', 4), ('five', 5)]\n"
     ]
    }
   ],
   "source": [
    "l.sort(key= lambda x:x[1])\n",
    "print(l)"
   ]
  },
  {
   "cell_type": "markdown",
   "id": "08a0521e",
   "metadata": {},
   "source": [
    "이유: key값을 바꾸어 정렬 기준을 키가 아닌 값으로 바꿔주었다."
   ]
  },
  {
   "cell_type": "markdown",
   "id": "cfe5e6f1",
   "metadata": {},
   "source": [
    "#### 7-4) 값의 내림차순 순서대로 튜플 (키, 값)을 차례대로 출력하시오."
   ]
  },
  {
   "cell_type": "code",
   "execution_count": 360,
   "id": "b393e5f6",
   "metadata": {},
   "outputs": [
    {
     "name": "stdout",
     "output_type": "stream",
     "text": [
      "[('five', 5), ('four', 4), ('three', 3), ('two', 2), ('one', 1)]\n"
     ]
    }
   ],
   "source": [
    "l.sort(key= lambda x:x[1], reverse=True)\n",
    "print(l)"
   ]
  },
  {
   "cell_type": "markdown",
   "id": "2e444f43",
   "metadata": {},
   "source": [
    "이유: 7-3번에 reverse=True를 추가해 내림차순으로 바꿔주었다."
   ]
  },
  {
   "cell_type": "markdown",
   "id": "8b1e20eb",
   "metadata": {},
   "source": [
    "### 8. 다음 문제를 정확히 읽고 적합한 코딩을 제시하시오.\n",
    "- length(X)를 다음과 같이 정의한다 : 10진수로 표현된 X의 자릿수\n",
    "- Strange라는 숫자를 아래과 같이 정의한다.\n",
    "    - 음이 아닌 정수 중 자릿수가 1인 모든 숫자는 Strange이다.\n",
    "    - length(X) > 1 인 숫자 X 는 다음 2가지를 만족하면 Strange이다.\n",
    "        - X는 length(X)로 정확히 나누어 떨어진다.\n",
    "        - X / length(X) 가 strnage이다.\n",
    "\n",
    "- 이 문제에서 숫자 하나가 주어질 때, 이 숫자가 Strange인지 판단하는 함수 isStrange(num)을 작성하시오.\n",
    "- isStrange(num) 함수가 재귀적인 함수가 되도록 작성해 보세요."
   ]
  },
  {
   "cell_type": "code",
   "execution_count": 50,
   "id": "93f5c6c3",
   "metadata": {},
   "outputs": [],
   "source": [
    "def isStrange(num):\n",
    "    if num<0:\n",
    "        return False\n",
    "    \n",
    "    if len(str(num))==1:\n",
    "        return True\n",
    "    elif int(num%len(str(num)))==0 and isStrange(int(num/len(str(num)))):   #재귀 사용\n",
    "        return True\n",
    "    else:\n",
    "        return False    "
   ]
  },
  {
   "cell_type": "code",
   "execution_count": 49,
   "id": "f9665ca2",
   "metadata": {},
   "outputs": [
    {
     "name": "stdout",
     "output_type": "stream",
     "text": [
      "True\n",
      "True\n",
      "False\n",
      "True\n",
      "False\n"
     ]
    }
   ],
   "source": [
    "print(isStrange(0))\n",
    "print(isStrange(56))\n",
    "print(isStrange(100))\n",
    "print(isStrange(7882602506492313600))\n",
    "print(isStrange(6012302549522098651))"
   ]
  },
  {
   "cell_type": "markdown",
   "id": "49c610e2",
   "metadata": {},
   "source": [
    "이유: 일단 음수이면 의미 없기 때문에 음수를 맨앞에서 False로 반환해 처리해 주었다. 그럼 그 뒤부턴 기본 조건은 양수가 되는것이다.\\\n",
    "다음 자릿수를 검사하였다. 자릿수가 1이면 바로 True를 반환해준다.\\\n",
    "elif부분에서 재귀를 사용하였는데 자릿수로 나눈 나머지가 0이고  자릿수로 나누어 나온 수가 isStrange에 넣었을때 True가 나와야한다. 이부분에서 재귀를 사용하였다.   \n",
    "int로 형변환 해주는 이유는 나누기에서 float형이 되어 자릿수가 소수점까지 더해져 이상하게 나오기 때문이다. "
   ]
  },
  {
   "cell_type": "markdown",
   "id": "2bc4750a",
   "metadata": {},
   "source": [
    "### 9. 다음 문제를 정확히 읽고 적합한 코딩을 제시하시오.\n",
    "\n",
    "- 1번 그룹, 2번 그룹, ... n번 그룹으로 번호가 매겨진 총 n개의 그룹이 존재하고, ith 그룹에는 임의의 팀원 수 ai 명이 있다.\\\n",
    "하나의 버스 정류장이 있고, 버스는 오직 한 대만 운영한다. 버스는 버스 정류장에 도착하고 모든 그룹은 버스를 통해 여행하길 원한다.\\\n",
    "하지만, 같은 그룹에 속한 팀원들은 분리되기를 원치 않는다. 그래서 그룹의 모든 팀원이 탈 수 있을 때 에만 그 그룹은 버스에 탑승한다.\\\n",
    "또한, 이들은 그룹의 번호순으로 여행을 하길 원한다. 예를 들어, 3번 그룹은 1번 그룹과 2번 그룹이 여행을 한 뒤에 버스를 탈 수 있거나, 1번 그룹과 2번 그룹이 이미 버스에 탑승한 상태에 있을 때 동시에 버스를 탈 수 있다.\\\n",
    "마지막으로, 버스는 빈 좌석이 없을 때 에만 여행을 떠난다.\n",
    "\n",
    "- 이 문제에서 각 그룹의 팀원 수가 리스트로 주어질 때, 가능한 모든 버스의 사이즈 x(x명의 사람들이 동시에 탈 수 있음)를 반환하는 함수 solve(a) 를 작성하시오.\n",
    "- [주의] 반드시 계산 복잡도를 최대한 낮추세요. 아래 예시 3번을 실행했을 때 결과가 바로 나타날 수 있도록!!"
   ]
  },
  {
   "cell_type": "code",
   "execution_count": 5,
   "id": "2eff957d",
   "metadata": {},
   "outputs": [],
   "source": [
    "def divisor(num):\n",
    "    arr=[]\n",
    "    for i in range(1, int(num**(1/2)) + 1):\n",
    "        if (num % i == 0):\n",
    "            arr.append(i) \n",
    "            if ( (i**2) != num) : \n",
    "                arr.append(num // i)\n",
    "    arr.sort()\n",
    "    return arr\n",
    "\n",
    "# 약수 리스트를 반환해주는 함수 제곱근을 활용해 최적화 하였다."
   ]
  },
  {
   "cell_type": "code",
   "execution_count": 6,
   "id": "b1264940",
   "metadata": {},
   "outputs": [],
   "source": [
    "def solve(a):\n",
    "    arr=[]\n",
    "    sumlist=sum(a)\n",
    "    d=divisor(sumlist) #a리스트 약수\n",
    "    for dnum in d:\n",
    "        i=0\n",
    "        s=0\n",
    "        while(i<len(a)):\n",
    "            s+=a[i]\n",
    "            if s<dnum:\n",
    "                i+=1\n",
    "            elif s==dnum:\n",
    "                i+=1\n",
    "                s=0\n",
    "            else: \n",
    "                break\n",
    "        if s==0 and i==len(a):\n",
    "             arr.append(dnum)\n",
    "    return arr "
   ]
  },
  {
   "cell_type": "code",
   "execution_count": 7,
   "id": "b97440a1",
   "metadata": {},
   "outputs": [
    {
     "name": "stdout",
     "output_type": "stream",
     "text": [
      "[3, 4, 6, 12]\n",
      "[1, 2, 4]\n",
      "[9999, 19998, 39996, 49995, 79992, 99990, 159984, 199980, 249975, 319968, 399960, 499950, 799920, 999900, 1249875, 1599840, 1999800, 2499750, 3999600, 4999500, 6249375, 7999200, 9999000, 12498750, 19998000, 24997500, 31246875, 39996000, 49995000, 62493750, 99990000, 124987500, 199980000, 249975000, 499950000, 999900000]\n"
     ]
    }
   ],
   "source": [
    "print(solve([1, 2, 1, 1, 1, 2, 1, 3]))\n",
    "print(solve([1,1,1,1]))\n",
    "print(solve([9999] * 10**5), sep=' ')"
   ]
  },
  {
   "cell_type": "markdown",
   "id": "ebe355f9",
   "metadata": {},
   "source": [
    "이유: 주어진 리스트에 있는값을 모두 더해 그것의 약수를 구했다. 나올수 있는 값의 필수 조건은 리스트합의 약수여야 되기 때문이다.\\\n",
    "그리고 구해진 약수 하나씩 접근하며 이 약수가 버스의 사이즈가 되는지 확인해 주었다. 약수들을 접근하는것이 1부터 모두 접근하는것 보다 훨씬 효율적일 것이라 생각했다.\\\n",
    "약수를 구한뒤 이제 앞에 부터 하나씩 더하며 합친수가 약수와 수가 같아지면 합친수를 0으로 초기화하고 그 다음 지점부터 다시 더하기를 반복하였다. 만약 합친수가 약수보다 커지면 break하여 다음 약수를 접근했다.\n",
    "반복문을 나오게 되면 s==0이 되고 i는 마지막까지 갔다는것이 확인되면 그수는 모든 조건을 만족한 것이된다. 그럼 리스트에 추가하고 이런식으로 다음 약수에 접근하며 모든 버스 사이즈를 구할 수 있게 된다.\\\n",
    "모든 리스트의 합은 모든 사람들이 버스에 한번에 타는 경우 이기 때문에 무조건 들어가므로 이경우만 따로 처리해줬으면 더 빨랐을것 같다.\n"
   ]
  },
  {
   "cell_type": "markdown",
   "id": "92e742a3",
   "metadata": {},
   "source": [
    "### 10. [Incremental Project 문제]"
   ]
  },
  {
   "cell_type": "markdown",
   "id": "2966976c",
   "metadata": {},
   "source": [
    "#### 이전 Assignment 2의 마지막 문제는 웹 URL로 지정된 웹페이지를 문자열로 가져와 모든 HTML 태그를 제외한 순수 텍스트를 얻어내고 그 안에 존재하는 단어를 추출하고 단어들의 총 개수를 출력하는 프로그램을 작성하는 것이었다. 이번에는 그 마지막 숙제를 그대로 확장하여 웹 URL로 지정된 웹페이지 내 순수 텍스트 안에 존재하는 각 단어들에 대해 다음 요구사항 대로 출력하는 프로그램을 작성하시오."
   ]
  },
  {
   "cell_type": "markdown",
   "id": "7ca5e2b5",
   "metadata": {},
   "source": [
    "- 요구사항 1. CSS와 Javascript 내용도 모두 제거하시오 (이전 숙제에서 이미 제외하였다면 본 요구사항 무시)\n",
    "- 요구사항 2. 순수 텍스트 안에 존재하는 단어들에 대해 string 모듈을 활용하여 모든 punctuation (구두문자)를 완벽히 제거하시오.\n",
    "    - 예: ['world!', ':', '+hello+', '~python$$$', '=', 'world'] ---> ['world', 'hello', 'python', 'world']\n",
    "- 요구사항 3. 만약 punctuation (구두문자)를 제거한 이후 공백으로 판명되는 단어들은 해당 단어 리스트에서 제거하시오.\n",
    "    - 예: ['컴퓨터공학부!', '---?', '%지향~', '...'] ---> ['컴퓨터공학부', '', '지향', ''] ---> ['컴퓨터공학부', '지향']\n",
    "- 요구사항 3. 각 단어들의 출현빈도를 사전형태로 저장하여 출력하시오.\n",
    "    - 예: ['world', 'hello', 'python', 'world', '컴퓨터공학부', '지향'] ---> {'world': 2, 'hello': 1, 'python': 1, '컴퓨터공학부': 1, '지향': 1}\n",
    "- 요구사항 4. 다음 5개의 사이트에 대한 단어 출현빈도 결과를 출력하시오.\n",
    "     - http://cse.koreatech.ac.kr  \n",
    "     - https://www.koreatech.ac.kr  \n",
    "     - http://www.naver.com  \n",
    "     - http://www.daum.net  \n",
    "     - http://www.nytimes.com  "
   ]
  },
  {
   "cell_type": "code",
   "execution_count": 9,
   "id": "2bf92cdc",
   "metadata": {},
   "outputs": [],
   "source": [
    "import string"
   ]
  },
  {
   "cell_type": "code",
   "execution_count": 197,
   "id": "14f8bd39",
   "metadata": {},
   "outputs": [],
   "source": [
    "# <style> 처리하는 함수와  <script> 처리하는 함수\n",
    "\n",
    "def deleteStyle(source):\n",
    "    start=source.find('<style')\n",
    "    end=source.find('</style>',start)\n",
    "    check=True\n",
    "    newstr=''\n",
    "    if start>-1:\n",
    "        for i in range(len(source)):\n",
    "            if i==start:\n",
    "                check=False\n",
    "            elif i==end:\n",
    "                check=True\n",
    "            if check:\n",
    "                newstr+=source[i]\n",
    "    else:\n",
    "        return source\n",
    "\n",
    "    return newstr\n",
    "\n",
    "def deleteScript(source):\n",
    "    start=source.find('<script')\n",
    "    end=source.find('</script>',start)\n",
    "    check=True\n",
    "    newstr=''\n",
    "    if start>-1:\n",
    "        for i in range(len(source)):\n",
    "            if i==start:\n",
    "                check=False\n",
    "            elif i==end:\n",
    "                check=True\n",
    "            if check:\n",
    "                newstr+=source[i]\n",
    "    else:\n",
    "        return source\n",
    "    \n",
    "    return newstr"
   ]
  },
  {
   "cell_type": "code",
   "execution_count": 198,
   "id": "fa2554ef",
   "metadata": {},
   "outputs": [],
   "source": [
    "def numOfWord(url):\n",
    "    import requests\n",
    "\n",
    "    req = requests.get(url)\n",
    "    source = req.text\n",
    "    \n",
    "    while(True):                        # <script> 처리\n",
    "        newSource=deleteScript(source)\n",
    "        if(newSource==source): \n",
    "            break\n",
    "        source=newSource\n",
    "        \n",
    "    while(True):                        # <style> 처리\n",
    "        newSource=deleteStyle(source)\n",
    "        if(newSource==source): \n",
    "            break\n",
    "        source=newSource\n",
    "        \n",
    "    word = ''                            # <   > 처리\n",
    "    i=0\n",
    "    while i<len(source):\n",
    "        if source[i]=='<':\n",
    "            while source[i]!='>':\n",
    "                i+=1\n",
    "            i+=1\n",
    "        else:\n",
    "            word+=source[i]\n",
    "            i+=1\n",
    "    \n",
    "    wordlist=word.split()                \n",
    "    for i in range (len(wordlist)):       \n",
    "        wordlist[i]=wordlist[i].strip(string.punctuation)    #구두 문자 처리\n",
    "    \n",
    "    wordlist=[i for i in wordlist if i]  # '' <<비어있는 문자 처리    \n",
    "    word_dic={}\n",
    "    for key in wordlist:\n",
    "        word_dic[key]=wordlist.count(key) # 빈도수를 통해 사전화 \n",
    "  \n",
    "    \n",
    "    print(word_dic)\n",
    "    #print(wordlist)\n",
    "    #print(len(wordlist))"
   ]
  },
  {
   "cell_type": "code",
   "execution_count": 192,
   "id": "46381414",
   "metadata": {
    "scrolled": false
   },
   "outputs": [
    {
     "name": "stdout",
     "output_type": "stream",
     "text": [
      "{'403': 1, 'Forbidden': 2, 'You': 1, \"don't\": 1, 'have': 1, 'permission': 1, 'to': 1, 'access': 1, 'this': 1, 'resource': 1}\n"
     ]
    }
   ],
   "source": [
    "numOfWord('http://cse.koreatech.ac.kr')"
   ]
  },
  {
   "cell_type": "code",
   "execution_count": 193,
   "id": "f7b2c8be",
   "metadata": {},
   "outputs": [
    {
     "name": "stdout",
     "output_type": "stream",
     "text": [
      "{'한국기술교육대학교': 14, '닫기': 1, 'Link': 1, 'Service': 1, '재학생': 3, '학생이': 4, '행복한': 4, '대학': 8, '온라인교육지원': 3, '생활관': 3, '원격지원': 2, '오늘의': 2, '식단': 2, '시설보수신청': 1, '학사종합시스템': 1, '인터넷증명발급': 3, '동아리안내': 2, '입학정보': 4, '코리아텍의': 4, '입학정보를': 4, '제공합니다': 8, '취업정보': 4, '최신': 4, '취업관련': 4, '정보를': 4, '예비대학생': 3, '입학안내': 3, '학부소개': 2, '언론기사': 2, '홍보영상물': 2, '장학제도': 2, '전화번호찾기': 2, '찾아오시는길': 3, '교직원': 3, '아우누리': 1, '무선랜신청': 1, '교육장비검색': 1, '일반인': 3, '코리아텍소개': 1, 'VISION2020': 2, 'PLUS': 2, '대학원소개': 1, '캠퍼스투어': 1, '코리아텍': 1, '특장점': 1, '자세히': 2, '보기': 2, '중앙일보대학평가‘교육중심대학’': 2, '1위': 5, '코리아텍은': 2, '중앙일보대학평가': 2, '11년': 2, '연속으로': 2, '“교육중심대학': 2, '1위”': 2, '의': 2, '성과를': 2, '이루었습니다': 2, '스킵네비게이션': 1, '본문바로가기': 1, '주메뉴바로가기': 1, '통학·셔틀버스': 1, '명칭': 2, 'whome': 1, '대표홈': 1, 'home': 1, '홈': 1, 'join': 1, '회원가입': 1, 'login': 1, '로그인': 1, 'my': 1, '마이페이지': 1, 'logout': 1, '로그아웃': 1, 'contact': 1, 'Contact': 1, 'Us': 1, 'link1': 1, '링크1': 1, 'link2': 1, '링크2': 1, 'link3': 1, '링크3': 1, 'link4': 1, '링크4': 1, 'link5': 1, '링크5': 1, 'langE': 1, '언어(영': 1, 'langC': 1, '언어(중': 1, 'langJ': 1, '언어(일': 1, 'langK': 1, '언어(한': 1, 'search': 1, '검색': 1, 'amenu': 1, '사이트맵': 1, '안전보건경영': 2, '웹메일': 3, '행정서비스헌장': 2, '부패행위신고': 1, '홈페이지': 1, '오류신고': 1, 'ENG': 2, 'CHI': 2, '팝업': 1, '0건': 1, '전체메뉴열기': 1, '전체메뉴닫기': 1, '대학소개': 1, 'KOREATECH소개': 1, '교육목표': 1, '및': 2, '인재상': 1, '대학특성': 1, 'KOREATECH': 7, '심볼': 1, '교가': 1, '캠퍼스': 1, '안내': 1, '통학/셔틀버스안내': 1, 'KOREATECH20년': 1, '총장실': 1, '총장인사말': 1, '총장프로필': 1, '총장동정': 1, '열린총장실': 1, '역대총장': 1, '대학현황': 1, '대학요람': 1, '규정집': 1, '연혁': 1, '재정현황': 1, '시설현황': 1, '재학생현황': 1, '대학조직': 1, '조직구성': 1, '전화번호검색': 1, '국제교류': 1, '국제교류현황': 1, '국제협력프로그램': 1, '발전기금': 2, '모금캠페인': 1, '참여하기': 1, '기부자예우': 1, '발전기금소식': 1, '후원커뮤니티': 1, '부패행위': 2, '신고': 2, '익명신고': 1, '청렴게시판': 1, '청렴자료실': 1, '청탁금지법': 2, 'Q&A': 2, '국민권익위': 1, '비전': 1, '추진체계': 1, '안전보건방침': 1, '선포식': 1, '안전': 2, '게시판': 2, '감염병': 1, '자료실': 1, '신문고': 1, '대학원': 2, '입시요강': 1, '전년도': 1, '결과확인': 1, '모의성적계산': 1, '대학/대학원': 2, '기계공학부': 2, '메카트로닉스공학부': 3, '전기전자통신공학부': 2, '컴퓨터공학부': 2, '디자인·건축공학부': 1, '에너지신소재화학공학부': 2, '산업경영학부': 2, '고용서비스정책학과': 1, '교양학부': 2, 'HRD학과': 2, '융합학과': 2, '일학습병행대학': 1, '대학생활': 1, '학사안내': 1, '학사일정': 2, '학적': 1, '변동': 1, '교과과정': 1, '특수교과': 1, '수강신청': 1, '졸업': 1, '졸업작품': 2, '해외연수': 1, '교환학생안내': 1, '어학연수안내': 1, '교내장학금': 1, '교외장학금': 1, '캠퍼스생활': 1, '은행업무': 1, '증명서발급': 1, '학생증발급': 1, '도서관이용안내': 1, '모바일화폐(페이코)사용안내': 1, '보건실안내': 1, '소프트웨어사용안내': 1, '무선랜사용신청': 1, '병사안내': 1, '병무안내': 1, '직장예비군안내': 1, '민방위안내': 1, '병무안내관련사이트': 1, '커뮤니티': 1, '공지사항': 4, '일반공지': 1, '장학공지': 1, '학사공지': 1, '채용공지': 1, '코로나19관련공지': 1, '학부모님': 1, '의견란': 1, '고객만족경영': 1, '고객만족경영체계': 1, '고객의': 1, '소리(제안': 1, 'VOC': 1, '개선사항': 1, '정보공개': 2, '정보공개제도안내': 1, '정보공개업무편람': 1, '정보공개이의신청': 1, '사전정보공표목록': 1, '인터넷정보공개청구': 1, '행정정보소재': 1, '공공데이터': 1, '공공데이터개방': 1, '데이터의견수렴·오류신고': 1, '행정공시': 1, '학교법인임원공시': 1, '구매입찰': 1, '회계공시': 1, '경영공시': 1, '대학알리미': 1, 'ALIO경영공시': 1, '대학혁신지원사업': 2, '사업실명제': 1, '민간투자사업': 1, '개교': 1, '30주년': 3, '사업소개': 1, '위원장': 1, '인사말': 1, '기념사업': 1, '개요': 1, '엠블럼': 1, '30년': 2, '발자취': 1, '함께하는': 1, '사업소식': 1, '자료': 1, '기증': 1, 'Story': 1, 'NEWS': 1, '대학홍보영상': 1, '홍보관련영상': 1, '언론보도영상': 1, '홍보대사': 1, '나래': 1, '대학소식지': 1, '대학캠퍼스투어': 1, '홍보브로셔': 1, '학부모': 1, '초청의': 1, '날': 1, '행사참여안내': 1, '행사참여신청': 1, '포토갤러리': 2, 'CoverStory': 1, '홍보소재(제안': 1, '전체메뉴보기': 1, 'SEARCH': 1, '대한민국': 1, '기술리더': 1, '01': 1, 'Sep': 1, 'COVER': 3, 'STORY': 3, '코로나에': 1, '못': 1, '만난다고?..&quot;아바타로': 1, '회의하고': 1, '협약까지': 1, '한다&quot': 1, '코로나19': 1, '사태': 1, '속에': 1, '최근': 2, '직접': 1, '만나서': 1, '회의를': 1, '하거나': 1, '행사': 1, '열기가': 1, '사실상': 1, '어렵습니다.그러다보니': 1, '가상현실을': 1, '활용한': 1, '대안들이': 1, '갈수록': 1, '진화하고': 1, '있습니다': 2, '비대면': 1, '상황에서': 1, '현실과': 1, '13': 1, 'Aug': 1, '학부과별': 1, '홍보영상': 1, '공개': 1, '한국기술교육대학교의': 1, '새로운학부과': 1, '홍보': 1, '동영상이': 1, '공개되었습니다': 1, '자세한': 1, '영상과': 1, '이벤트는': 1, '공식': 1, '유튜브에서': 1, '확인하실': 1, '수': 1, '오른쪽': 1, '사진을': 1, '클릭하세요': 1, '09': 1, 'Jul': 1, '장신철': 1, '한국기술교육대': 1, '고용서비스정책학과장': 1, '“고용서비스는': 1, '기본적인': 1, '사회안전망...전문인력': 1, '육성해야”': 1, '고용서비스정책학과는': 1, '고용서비스': 1, '분야의': 1, '전문인력': 1, '양성을': 1, '위해': 1, '생긴': 1, '학과다': 1, '고용서비스는': 1, '취업': 1, '재직': 1, '실직': 1, '재취업': 1, '전직': 1, '등': 1, '국민들의': 1, '일자리와': 1, '관련된': 1, '다양한': 1, '서비스를': 1, '제공한다': 1, '고': 1, '능력개발교육원': 2, '온라인평생교육원': 2, '직업능력심사평가원': 2, '산학협력단': 2, '대학원교학팀': 1, '근로장학생': 1, '모집(최고경영자과정': 1, '수업지원': 1, '1회': 1, '2021-10-22': 4, '생협': 1, '학생식당': 1, '2학기': 1, '단기근로장학생': 1, '모집': 2, '대외협력팀': 1, '문화지원금': 1, '받고': 1, '외국인': 1, '친구랑': 1, '여행하자': 1, '10명': 1, '선착순': 1, '입학홍보팀': 1, 'X': 1, 'IPP센터': 2, '유튜브': 2, '구독': 1, '댓글': 1, '이벤트': 1, '더보기': 3, '포토갤러리더보기': 1, '팝업존': 1, '재생정지': 1, '숫자로': 1, '보는': 1, '84.7': 1, '전국': 1, '4년제': 1, '취업률': 2, '출처': 3, '대학정보공시': 3, '졸업생': 1, '500명': 1, '이상': 1, '중앙일보': 2, '대학평가': 1, '교육중심대학(11년연속': 1, '‘19년': 1, '평가': 1, '3,296천원': 1, '장학금': 1, '수령액': 1, '2020년': 1, '기준': 1, 'Statistics': 1, '분포현황': 1, '자주찾는': 1, '서비스': 1, '학사종합서비스': 2, '온라인교육': 1, '학과안내': 1, 'SNS': 1, '페이스북': 1, 'FaceBook': 1, '한국기술교육대학교-KOREATECH님이': 1, '게시한': 1, '사진': 1, '2021-10-14': 1, 'Blog': 1, 'KOREATECH/한국기술교육대학교': 1, 'Wings': 1, 'Magazine': 1, '2021년': 1, '10월호': 2, '2021-10-15': 2, 'Instgram': 1, 'Wings_Magazine': 1, 'Youtube': 1, '2021': 1, '하반기': 1, '황태현': 1, '한국기술교육대학교/KOREATECH': 1, '2021-10-18': 1, '네이버블로그': 1, '인스타그램': 1, '디자인공학전공': 1, '건축공학전공': 1, '일반대학원': 1, '테크노인력개발전문대학원': 1, 'IT융합과학경영대학원': 1, '최고경영자과정': 1, '주요사이트': 1, '네이버': 1, '공식블로그': 1, '웹갤러리': 1, '청년워크넷': 1, '고용부': 1, '워크넷': 1, '잡코리아': 1, '사람인': 1, '인크루트': 1, '교내주요기관': 1, '다산정보관': 1, 'LINC+사업단': 1, '생활협동조합': 1, '반도체': 1, '장비기술교육센터': 1, '상담진로개발센터': 1, 'IPP포털': 2, '사회봉사센터': 1, '다담창의센터': 1, 'IPP·Uni-Tech허브사업단': 1, '창업지원센터': 1, '듀얼공동훈련센터허브사업단': 1, '대학혁신사업단': 1, '교수학습센터': 1, '도제허브사업단': 1, '국제교육센터': 1, '학생자치단체': 1, '총학생회': 1, '코리아텍방송국': 1, '생활관자치회': 1, '대외유관기관': 1, '고용노동부': 1, '산업통상자원부': 1, '기획재정부': 1, '한국산업인력공단': 1, '한국폴리텍대학': 1, '한국교육개발원': 1, '한국노동연구원': 1, '한국고용노동교육원': 1, '근로복지공단': 1, '한국산업안전보건공단': 1, '한국고용정보원': 1, '한국직업능력개발원': 1, '한국장애인고용공단': 1, '충청남도청': 1, '천안시청': 1, '국민권익위원회': 1, '교육부': 1, 'NTIS': 1, '원격훈련심사센터': 1, 'privacy': 1, '개인정보처리방침': 2, 'terms': 1, '이용약관': 1, 'tel': 1, '전화번호안내': 1, 'comeway': 1, '오시는길': 1, 'TOP': 1, '서비스메뉴': 1, '이메일무단수집거부': 1, '윤리헌장': 1, '알리오': 1, '도로명주소안내': 1, '좌측내용': 1, '우측내용': 1, '31253': 1, '충청남도': 1, '천안시': 1, '동남구': 1, '병천면': 1, '충절로': 1, '1600': 1, '가전리': 1, 'TEL': 1, '041-560-1114': 1, 'FAX': 1, '02': 1, 'EMAIL': 1, 'inter@koreatech.ac.kr': 1, 'Copyright': 1, 'ⓒ': 1, '2019': 1, 'All': 1, 'right': 1, 'reserved': 1}\n"
     ]
    }
   ],
   "source": [
    "numOfWord('https://www.koreatech.ac.kr')"
   ]
  },
  {
   "cell_type": "code",
   "execution_count": 194,
   "id": "0ec7fced",
   "metadata": {},
   "outputs": [
    {
     "name": "stdout",
     "output_type": "stream",
     "text": [
      "{'NAVER': 3, '뉴스스탠드': 3, '바로가기': 7, '주제별캐스트': 1, '타임스퀘어': 2, '쇼핑캐스트': 1, '로그인': 2, 'whale': 1, '여러분의': 1, '눈은': 1, '소중하니까': 1, '지금': 1, '바로': 11, '다크': 1, '모드를': 1, '켜세요': 1, '다운로드': 1, '3일': 1, '동안': 3, '보지': 1, '않기': 1, '네이버': 8, '네이버를': 1, '시작페이지로': 1, '쥬니어네이버': 1, '해피빈': 1, '검색': 2, '통합검색블로그카페': 1, '카페명': 1, '카페글지식iN뉴스사이트': 1, '카테고리': 1, '사이트영화웹문서사전': 1, '백과사전': 1, '영어사전': 1, '영영사전': 1, '국어사전': 1, '일본어사전': 1, '한자사전': 1, '용어사전책음악전문자료쇼핑지역동영상이미지내PC영화자동차게임건강인물긍정부정검색': 1, '한글': 2, '입력기': 1, '자동완성': 5, '레이어': 2, '최근검색어': 1, '전체삭제': 1, 'txt': 5, 'date': 2, '삭제': 1, '검색어': 2, '저장': 2, '기능이': 1, '꺼져': 1, '있습니다.설정이': 1, '초기화': 3, '된다면': 2, '도움말을': 2, '확인해주세요': 2, '최근': 6, '내역이': 1, '없습니다.설정이': 1, '도움말': 2, '자동저장': 1, '끄기': 2, '5@회차': 1, '당첨번호': 1, '추첨': 1, '13@.지급기한': 1, '1년': 1, '6@@7@@8@@9@@10@@11@@12': 1, '14': 1, 'txt@@currency': 1, '8@(@9': 1, '6@원': 1, '7': 3, 'message': 1, '8@°': 1, '5': 2, '추가': 3, 'query': 1, 'intend': 1, '자세히보기': 1, '관심사를': 1, '반영한': 1, '컨텍스트': 4, '자동완성도움말': 1, 'ON/OFF': 1, '설정은해당기기(브라우저)에': 1, '저장됩니다': 1, '자세히': 5, '동일한': 1, '시간대/연령/남녀별': 1, '사용자': 1, '그룹의관심사에': 1, '맞춰': 1, '자동완성을': 1, '제공합니다': 1, '닫기': 9, '신고': 1, '메일': 1, '카페': 1, '블로그': 1, '지식iN': 1, '쇼핑': 1, '쇼핑LIVE': 1, 'Pay': 1, 'TV': 2, '사전': 1, '뉴스': 1, '증권': 1, '부동산': 1, '지도': 1, 'VIBE': 1, '책': 1, '웹툰': 2, '더보기': 2, '서비스': 2, '전체보기': 2, '메뉴설정': 1, '11.3°맑음': 1, '2.0°16.0°': 1, '백암면': 2, '미세좋음': 1, '초미세좋음': 1, '연합뉴스': 1, '불난': 1, '집': 1, '기름부은': 1, '尹': 1, 'SNS…\"개': 1, '동공에': 1, '쩍벌남': 1, '시끌': 1, '문대통령': 1, '내주': 2, 'G20': 1, '참석차': 1, '로마行…교황과': 1, '한반도': 1, '평화': 1, '논의': 1, '이재명': 2, '25일': 1, '경기도지사직': 1, '사퇴…퇴임': 1, '기자회견': 1, '예정': 1, '대선주자': 1, '비호감도': 1, '윤석열': 1, '62': 1, '60': 1, '홍준표': 1, '59': 1, '유동규': 1, '새': 1, '휴대폰': 1, '복구·분석': 1, '작업…마지막': 1, '통화자': 1, '관심': 1, '내달': 1, '식당·카페': 1, '운영시간': 1, '제한': 1, '해제…유흥시설': 1, '백신패스': 1, '검토': 1, '해경': 1, '독도': 1, '제11일진호': 1, '침몰로': 1, '수중': 1, '수색': 1, '종료': 1, '정부': 1, \"日'일본해\": 1, '주장': 1, '영상에': 1, '동해표기': 1, '정당성': 1, '국제사회': 1, '설명': 1, '애플': 1, '애플카': 1, '위해': 14, '중국': 2, 'CATL·BYD와': 1, '협상했으나': 1, '좌초': 1, '상태': 1, '창원': 1, '한': 10, '기업서': 1, '주말': 1, '특근': 1, '간식': 2, '먹고': 3, '87명': 1, '복통·설사': 1, '네이버뉴스': 1, '연예': 1, '스포츠': 2, '경제': 1, '구독한': 4, '언론사': 7, '전체언론사': 1, '리스트형': 1, '썸네일형': 1, '설정': 2, '이전': 6, '다음': 5, '종합/경제': 1, '방송/통신': 1, 'IT': 1, '영자지': 1, '스포츠/연예': 1, '매거진/전문지': 1, '지역': 1, '해당': 4, '사정으로': 4, '접근이': 4, '제한됩니다': 4, '확인': 8, '을(를)구독해지': 4, '하시겠습니까': 4, '취소': 4, '언론사에': 2, '추가되었습니다': 2, '구독': 26, '해지': 24, '기사보기': 24, '다음다음': 1, '일시': 1, '언론사가': 1, '없습니다': 1, '설정에서': 1, '관심있는': 1, '언론사를': 1, '구독하시면언론사가': 1, '직접': 1, '편집한': 1, '뉴스들을': 1, '홈에서': 1, '보실': 1, '수': 17, '있습니다': 13, '설정하기': 1, '주제별': 1, '캐스트': 1, '오늘': 3, '읽을만한': 1, '글주제별로': 1, '분류된': 1, '다양한': 5, '글': 3, '모음': 1, '1,769': 1, '개의': 1, '관심주제': 1, '엔터': 1, '자동차': 1, '경제M': 1, '레시피': 1, '게임': 2, '영화': 1, 'JOB&amp': 1, '테크': 1, '여행': 1, '과학': 1, '리빙': 1, '건강': 66, '비즈니스': 2, '연애·결혼': 1, '책방': 1, '부모i': 1, '법률': 1, '패션뷰티': 1, '동물공감': 1, '디자인': 1, 'FARM': 1, '공연전시': 1, '함께N': 1, '5초면': 1, '끝나는': 2, '미세염증': 4, '자가': 2, '진단법': 1, '혈관을': 1, '망치는': 1, '주범': 1, '근육의': 1, '기능을': 1, '저하시키고': 1, '혈관': 2, '벽을': 1, '두껍게': 1, '해': 2, '혈액': 2, '순환을': 1, '방해한다고해요ㅠㅠ': 1, '심각하게는': 1, '심근경색': 1, '뇌경색': 2, '같은': 5, '질환을': 2, '유발할': 1, '수도': 1, '있는': 11, '위험한': 2, '심지어': 2, '증상이': 8, '없어': 1, '놓치기': 1, '쉬운데요': 1, '단': 2, '5초로': 1, '알아보는': 1, '초간단': 1, '진단법을': 1, '알려드리겠습니다': 1, '팔': 2, '비틀기인데요~손을': 1, '교체해': 1, '깍지를': 1, '낀': 1, '후': 1, '안쪽에서': 1, '바깥쪽으': 1, '1주일': 23, '전': 73, '교양있는': 1, 'SBS': 1, '굳어': 2, '어깨': 4, '위한': 3, '‘무음': 1, '박수': 1, '스트레칭’': 1, '어깨를': 2, '만져보면': 1, '그날': 1, '하루': 7, '얼마나': 2, '열심히': 1, '보냈는지': 1, '알': 1, '있다는': 3, '말이': 3, '일과': 1, '공부': 1, '집안일': 1, '반복': 1, '노동': 1, '등': 7, '일상': 1, '속의': 1, '상황마다': 1, '항상': 1, '근육을': 1, '사용하기': 1, '때문이죠': 2, '만약': 1, '눌렀을': 1, '때': 12, '딱딱하게': 1, '있고': 3, '통증이': 2, '느껴진다면': 1, '그만큼': 1, '주변': 3, '근육과': 1, '인대를': 1, '과하게': 2, '사용했다는': 1, '뜻이기도': 1, '한데요': 1, '이를': 1, '방치할': 1, '경우': 6, '각종': 1, '질환으로': 3, '이어질': 2, '3주일': 8, '자생한방병원': 1, '쾌변': 1, '신호': 1, '보내는': 2, '음식': 2, '4': 1, '다이어트나': 1, '불균형한': 1, '식습관': 1, '운동부족': 1, '고령': 1, '이유로': 1, '변비가': 2, '생긴': 1, '사람이': 2, '많은데요': 2, '지속되면': 1, '삶의': 1, '질이': 1, '떨어질': 1, '뿐': 1, '아니라': 1, '면역력까지': 1, '저하될': 1, '먹기만': 1, '하면': 5, '화장실로': 1, '달려가라는': 1, '신호를': 1, '음식이': 1, '오랜': 2, '변비로': 1, '속이': 1, '매우': 5, '답답할': 1, '임시방편이': 1, '될': 2, '배변': 1, '촉진': 1, '음식들을': 1, '알아보겠습니다': 3, '푸룬서양': 1, '자두를': 1, '말린': 1, '것인': 1, '4일': 3, '헬스조선건강톡톡': 2, '방치하면': 3, '큰일': 1, '뇌': 4, '지주막하': 2, '출혈': 1, '증상은': 1, '출혈은': 1, '뇌출혈의': 1, '일종으로': 1, '출혈량이': 1, '많지': 1, '않아도': 1, '후유증이': 1, '심하다고': 1, '알려져': 3, '출혈의': 1, '위험성을': 1, '인지하면서도': 1, '방치하거나': 1, '관리를': 1, '하지': 3, '않아': 2, '출혈이': 1, '발생할': 1, '언어기능': 1, '소실': 1, '기억력': 1, '감퇴와': 1, '저하': 1, '실행': 1, '능력': 1, '장애': 2, '등이': 3, '강하게': 1, '나타난다고': 1, '하며': 4, '재활치료가': 1, '필수인': 1, '장기적인': 1, '치료가': 2, '필요합니다.그렇다면': 1, '지주막하는': 1, '어느': 1, '부분에': 1, '위치하': 1, '4주일': 2, '인천나은병원': 2, '100세': 1, '시대': 1, '노령층': 1, '임플란트': 1, '고민': 2, '6': 1, '65세': 1, '이상': 4, '연령층에': 1, '가장': 6, '빈번하게': 1, '나타나는': 4, '구강': 2, '기능장애는': 1, '대부분': 1, '치아': 3, '결손에': 1, '관련된': 2, '것이다': 4, '치아가': 2, '빠지게': 1, '된': 1, '후에': 1, '어떻게': 7, '치료했느냐에': 1, '따라': 2, '신체적': 1, '노화의': 1, '진행정도는': 1, '사람마다': 1, '차이가': 2, '크다': 1, '전치부': 1, '상실로': 2, '인한': 2, '대인기피와': 1, '우울증': 2, '구치부': 1, '섭식장애로': 1, '영양결핍과': 1, '체력저하': 1, '근력': 1, '감소': 1, '비위생적인': 1, '구강환경으로': 1, '인해': 3, '구내염': 1, '궤양': 1, '구강암': 1, '발병': 2, '등을': 3, '2주일': 18, '강동경희대학교병원': 1, '재생': 9, '재생시간02:39': 1, '폐암을': 1, '유발하는': 3, '원인': 3, '5가지': 2, '샘병원': 1, '건강TV': 1, '재생시간03:56': 1, '분변잠혈검사': 1, '그것이': 1, '알고': 5, '싶다': 1, '국가암정보센터': 2, '재생시간09:22': 1, '1일': 2, '1운동': 2, '우리엄마': 2, '스트레칭': 2, '1개월': 7, '의외의': 1, '비타민C': 1, '식품': 2, 'Best': 1, '9': 1, '비타민': 3, 'C는': 3, '신체에서': 1, '많은': 9, '역할을': 1, '하는': 10, '것으로': 4, '있다': 8, '콜라겐': 1, '형성에': 1, '필수적인': 2, '강력한': 1, '항산화제이며': 1, '신체가': 1, '질병과': 1, '싸우도록': 1, '돕는다': 1, '또한': 3, '수용성이며': 1, '인간에게': 1, '영양소': 1, '중': 10, '하나다': 2, '즉': 3, '우리': 5, '스스로': 3, '만들': 1, '없으며': 1, '매일': 2, '식단': 2, '또는': 4, '보충제를': 1, '통해': 3, '섭취해야': 1, '한다.비타민': 1, '여러': 2, '면에서': 1, '인간의': 1, '삶에': 1, '중요하며': 1, '여전히': 3, '신체': 3, '구조에서의': 1, '헬스뉴스닷컴': 2, '향긋한': 2, '향의': 1, '쑥갓의': 1, '효능': 2, '특유의': 1, '향이': 1, '특징인': 1, '쑥갓은': 1, 'x27;천연': 1, '항히스타민제&#x27;로': 1, '불릴': 1, '만큼': 2, '비타민과': 1, '무기질': 1, '성분이': 1, '풍부하여': 1, '면역력': 1, '강화와': 1, '알레르기': 3, '완화에': 1, '효과적이다': 1, '쑥갓': 1, '먹는': 7, '법과': 1, '주의사항쑥갓은': 1, '주로': 2, '나물로': 1, '먹지만': 1, '깻국으로': 1, '불리는': 2, '쑥갓채로': 1, '먹을': 1, '쑥갓나물은': 1, '쑥갓을': 2, '데쳐서': 1, '간장': 1, '참기름': 1, '넣고': 1, '무쳐': 1, '먹거나': 2, '데치지': 1, '않은': 1, '적당한': 2, '크기로': 1, '썰어서': 1, '소금에': 2, '살짜가': 1, '절여': 1, '2개월': 2, '메디컬리포트': 1, '환경호르몬은': 1, '맛있다': 1, '환경호르몬이': 2, '몸에': 2, '미치는': 2, '영향': 2, '어쩌면': 1, '환경호르몬이란': 1, '건': 2, '맛있는게': 1, '아닐까?최근': 1, '방영된': 1, '넷플릭스': 1, '드라마': 3, 'D.P.에서': 1, '극중': 1, '한호열': 1, '상병이': 1, '라면': 1, '봉지에': 1, '뜨거운': 1, '물을': 1, '부어': 1, '일명': 1, '‘뽀글이': 2, '라면’을': 1, '먹으며': 1, '했던': 1, '대사입니다.D.P.가': 1, '흥행을': 1, '라면에서': 1, '정말': 2, '나올까’라는': 1, '의문도': 1, '인터넷에서': 1, '화제였습니다': 1, '다행히도': 1, '질문의': 1, '정답은': 1, 'amp;l': 1, '어제': 2, '국제성모병원': 1, '알코올': 1, '중독': 1, '헤어나기': 1, '어려운': 1, '늪과': 1, '정신의학신문': 4, '김재성': 1, '정신건강의학과': 2, '전문의': 5, '내가': 3, '병에': 2, '걸렸는지': 1, '아닌지': 2, '아는': 2, '것을': 3, '병식이라고': 1, '합니다': 5, '공황': 1, '환자들이': 2, '자신이': 1, '질병을': 1, '가지고': 3, '사실을': 2, '치료를': 3, '내원합니다.반면': 1, '조현병': 1, '정신병적': 1, '증상을': 1, '동반한': 1, '양극성': 1, '장애를': 2, '사람은': 1, '대개': 1, '걸렸다는': 1, '알지': 1, '못합니다.병식이': 1, '없는': 2, '치료의': 1, '필요성을': 1, '5일': 2, '환자는': 2, '의사에게': 2, '어떤': 12, '질문을': 3, '해야할까': 1, '아픈': 1, '것만으로도': 1, '힘든데': 1, '병원에': 1, '가면': 1, '짧은': 1, '진료시간': 1, '무슨': 1, '해야할지': 1, '몰라': 1, '더': 3, '막막하게': 1, '느껴지시나요': 1, '서울대병원': 1, '순환기내과': 1, '나상훈': 1, '교수가': 1, '병원에서': 1, '핵심적인': 1, '정보를': 1, '얻어갈': 1, '있는지': 2, '도움을': 1, '드리고자': 1, '정리해드립니다': 1, '동영상': 1, '버튼을': 1, '누르면': 1, '현재': 1, '화면에서': 1, '재생됩니다': 1, '환자가': 3, '꼭': 3, '물어봐야': 1, '질문들': 1, '부제': 1, '진료': 1, '잘': 6, '보는': 2, 'T': 1, '2일': 1, '서울대학교병원': 1, '재생시간04:15': 1, '폐': 2, '테스트': 1, '통과하면': 1, '폐가': 1, '건강한걸까': 1, '강동경희대병원': 1, '건강에너지': 1, 'FOR': 1, 'YOU': 1, '재생시간00:40': 1, '🔊코로나19': 1, '예방접종증명서': 1, 'COOV(쿠브)앱': 1, '발급부터': 1, '활용까지': 1, '따라하기(40초버전': 1, '대한민국': 1, '질병관리청': 2, '재생시간03:42': 1, '정서는': 1, '구분될까': 1, '서울대': 1, '지식교양': 1, '강연': 1, '생각의': 1, '열쇠': 1, '성조숙증': 6, '주사': 2, '맞으면': 1, '‘급성장기’': 1, '놓칠까': 1, '치료에': 2, '관해': 1, '걱정과': 1, '우려가': 1, '많다': 5, '치료로': 1, '오히려': 1, '급성장기를': 1, '놓치거나': 1, '호르몬을': 1, '건드려': 1, '부작용이': 1, '것이': 8, '아니냐는': 1, '관한': 1, '논란을': 1, '알아봤다': 1, '◆': 1, '치료': 3, '부작용은': 2, '없을까': 1, '사진&#x3D;게티이미지뱅크': 2, '일반적으로': 3, '골': 1, '연령이': 1, '2세': 1, '앞서갈': 1, '사춘기': 1, '진행': 2, '속도가': 2, '빠를': 1, '약물치료를': 1, '시행한다': 1, '코메디닷컴': 3, '관계의': 2, '기본': 1, \"신뢰'...깨진\": 1, '신뢰': 1, '회복하는': 1, '방법': 2, '현대인에게': 1, '신뢰는': 2, '돈보다': 1, '큰': 4, '가치를': 1, '가진다': 1, '거의': 2, '모든': 2, '사람들이': 2, '신뢰하는': 2, '사람과': 3, '일을': 2, '하고': 2, '싶어': 2, '같이': 4, '살고': 1, '한다': 3, '이렇게': 1, '기본이': 1, '되지만': 1, '마치': 1, '유리와': 1, '같아서': 1, '번': 4, '깨지면': 1, '다시': 1, '회복하기가': 1, '불가능해': 1, '보인다': 1, '미국': 2, '캘리포니아에': 1, '위치한': 1, '스탠포드대학교(Stanford': 1, 'University)의': 1, '카렌': 1, '쿡&amp': 1, '하이닥': 2, '운동을': 3, '세게': 1, '해야': 2, '하나요': 1, '이번에는': 2, '운동': 6, '강도에': 2, '대해서': 4, '말씀드리려고': 1, '앞서': 2, '초보자를': 1, '운동의': 1, '어려움과': 1, '걷기': 1, '방법에': 4, '알아보았습니다': 1, '좀': 1, '해보신': 1, '경험자분들의': 1, '운동에': 2, '대한': 10, '하나인': 1, '원리와': 1, '구체적인': 1, '▼‘많이': 1, '움직여서': 1, '살': 1, '빼려면': 1, '알아야': 1, '것!’': 1, '바로가기▼': 1, '‘운동': 1, '부족?’': 1, '많이': 5, '움직여': 1, '건강보험심사평가원': 3, '남성': 2, '절반이': 1, '일생에': 1, '앓는다는': 1, '이': 3, '질환': 6, '남성에게': 1, '발병하는': 1, '대표적인': 1, '전립선염입니다': 1, '성인': 4, '남성의': 1, '50': 1, '정도': 2, '이상을': 1, '경험한다고': 1, '보고될': 1, '남성들이': 1, '흔히': 4, '겪는': 1, '질환인데요': 1, '심하고': 1, '재발이': 1, '찾아': 1, '전립선염에': 1, '걸린': 2, '남성들은': 1, '고통을': 1, '호소합니다': 1, '그렇다면': 1, '전립선염은': 1, '나타나고': 2, '예방해야': 1, '할까요': 1, '‘쌩쌩한': 1, '직장인’에서는': 1, '남자들만': 1, '국민건강보험일산병원': 3, '장기간': 1, '저탄고지': 1, '부작용': 1, '조심하세요': 1, '‘저탄수화물': 1, '고지방': 1, '식사’는': 1, '아직': 2, '그': 1, '효과가': 1, '장기적으로': 1, '검증': 1, '되지': 1, '않았습니다': 1, '체중': 2, '조절을': 1, '위해서는': 4, '병행하면서': 1, '탄수화물': 2, '단백질': 1, '지방의': 1, '균형이': 1, '맞는': 1, '식단으로': 1, '칼로리': 2, '섭취를': 1, '줄여': 1, '꾸준히': 1, '지속하는': 1, '건강한': 5, '식사법': 1, '입니다': 1, '극도로': 1, '줄이고': 1, '지방': 1, '섭취': 1, '늘리고': 1, '우리나라의': 1, '식단은': 1, '성별': 1, '연령': 1, '개인에': 1, '있지만': 2, '세브란스': 2, '재생시간02:09': 1, '“새벽': 1, '4시면': 1, '잠에서': 1, '깨요”': 1, '불면증': 3, '‘이것’': 3, '의심해야': 1, '힐팁': 2, '재생시간05:59': 1, '튼튼허리': 2, '재생시간03:33': 1, 'CT하고': 1, 'MRI': 1, '언제': 4, '왜': 2, '찍는지': 1, '계시나요': 1, '차이는': 1, '이것입니다': 1, '마디마디신경외과의원': 1, '크론병·궤양성': 1, '대장염': 1, '염증성': 2, '장질환': 1, '작년': 1, '여름': 1, '일본': 1, '아베': 3, '신조': 1, '총리로': 1, '화제를': 1, '모은': 1, '장질환이': 1, '나라의': 2, '총리직을': 1, '돌연': 1, '내려놓은': 1, '공식적인': 1, '이유였다': 1, '총리는': 1, '17세부터': 1, '앓았던': 1, '궤양성': 2, '대장염이': 1, '악화되어': 1, '총리직에서': 1, '물러났다': 1, '총리처럼': 1, '우리나라에도': 1, '대장염과': 1, '장질환으로': 1, '고통': 1, '받는': 2, '급증하고': 2, '20년': 1, '전까지만': 1, '해도': 2, '생소했지만': 1, '10': 2, '건강다이제스트': 2, '5060': 1, '중장년층이': 1, '챙겨야': 3, '할': 5, '예방': 2, '접종': 1, '예방접종의': 1, '중요성': 1, '모르시는': 1, '분': 1, '없으시죠': 1, '예방접종이란': 1, '불활성화되어': 1, '감염능력이': 1, '없어졌거나': 1, '약화된': 1, '병원체를': 1, '인체에': 2, '몸이': 1, '그에': 1, '항체를': 1, '형성하도록': 1, '유도함으로써': 1, '감염성': 1, '질환에': 1, '방어능력을': 1, '갖추게': 1, '기본적이고': 1, '중요한': 3, '질병': 1, '수단입니다': 1, '면역력이': 1, '약한': 1, '어린이·청소년이나': 1, '고령층에서': 1, '예방접종이': 1, '필수적이고': 1, '효과를': 1, '발휘한다고': 1, '인하대병원': 2, '3대': 2, '실명질환': 1, '조기발견': 1, '‘1초’만': 1, '투자': 1, '녹내장·당뇨망막병증·황반변성': 1, '초기증상': 1, '없어1초면': 1, '안저검사로': 2, '예방·조기발견': 1, '가능40세': 1, '넘으면': 1, '없어도': 1, '1년마다': 1, '안저검사': 1, '위에서부터': 1, '살펴본': 1, '녹내장·황반변성·당뇨망막병증': 1, '모습(사진&#x3D;대한안과학회': 1, '실명질환으로': 1, '꼽히는': 2, '녹내장': 1, '당뇨망막병증': 1, '황반변성': 1, '무엇보다': 2, '나이': 1, '들수록': 1, '발병위험이': 1, '올라가': 1, '급속한': 1, '인구고령화가': 1, '중인': 1, '현': 2, '상황에서': 1, '헬스경향': 3, '내성': 3, '발톱': 3, '깎아야': 1, '할까': 1, '‘내성': 1, '발톱’이라고': 1, '부르는': 2, '내향성': 1, '발톱은': 1, '발가락': 1, '주변에': 1, '찌릿한': 1, '통증을': 2, '주변의': 1, '살이': 1, '빨개지며': 1, '통증': 1, '정도가': 1, '심해지는': 1, '그렇다': 1, '보니': 1, '발톱의': 1, '발톱을': 2, '깎을': 1, '때도': 1, '잘라야': 1, '하는지': 2, '고민이': 1, '되는': 1, '분들이': 2, '많습니다.오늘은': 1, '발톱에': 1, '알아보고': 1, '관리해야': 1, '되는지': 1, '알아봅니다': 2, '통증부터': 1, '강북연세병원': 1, '‘혈변': 2, '색’': 2, '치질과': 2, '다르다': 1, '대장암': 4, 'Q&A': 1, 'Q&amp;A': 1, '다르다도움말': 1, '인제대학교': 1, '일산백병원': 2, '외과': 1, '정싱민': 1, '교수Q': 1, '증상의': 1, '혈변과': 1, '치질의': 1, '혈변은': 1, '어떠한': 1, '차이점이': 1, '있나요?치질은': 1, '항문에': 1, '발생하는': 2, '총칭하여': 1, '것입니다': 1, '치질로': 1, '알려진': 4, '질환은': 1, '치핵으로': 1, '항문': 1, '근처의': 1, '정맥이': 1, '울혈로': 1, '부풀고': 1, '늘어져': 1, '선홍색': 1, '출혈을': 1, '뱃살': 2, '뺄': 1, '바나나': 2, '드세요': 1, '몸매를': 1, '만들고': 1, '체중을': 1, '감량하기': 1, '올바른': 4, '음식을': 4, '선택하는': 1, '문제가': 3, '된다': 2, '겉으로': 1, '보기에는': 1, '건강해': 1, '보이는': 2, '식품이라도': 1, '감량을': 1, '방해하는': 1, '몇': 2, '가지': 2, '영양학적': 1, '있을': 2, '있기': 1, '때문에': 2, '주의해야': 1, '지방을': 1, '태울': 1, '바나나를': 2, '것은': 3, '좋은': 6, '선택이': 1, '메이요': 1, '클리닉에': 1, '따르면': 3, '다이어트가': 1, '필요할': 1, '가을': 2, '제철': 2, '꽃게': 1, '즐기는': 2, '요즘': 2, '가을철에': 1, '맛이': 1, '해산물': 1, '꽃게입니다': 1, '꽃게는': 1, '10월이': 1, '제철로': 1, '칼슘과': 1, '타우린': 1, '키토산': 1, '풍부해': 1, '환절기': 1, '건강을': 7, '지키는': 1, '데': 1, '도움이': 1, '됩니다': 1, '꽃게를': 1, '대해': 7, '소개합니다': 1, '꽃게의': 1, '①': 1, '천연': 1, '피로제꽃게는': 1, '100g당': 1, '711mg의': 1, '타우린이': 1, '들어있습니다': 1, '타우린은': 1, '칼슘의': 1, '운반을': 1, '도와': 2, '근육이': 2, '활발하게': 2, '움직이도록': 1, '몸속': 2, '에너': 1, '하자GO': 1, '짭쪼름한': 1, '싶은': 1, '이유': 4, '기름진': 1, '자주': 3, '달달한': 1, '간식을': 1, '즐겨먹는다면': 1, '나쁜': 5, '식습관이': 2, '밴': 1, '상태라고': 1, '또': 3, '하나': 1, '잘못된': 1, '식습관은': 1, '‘짜게': 1, '먹기’인데요': 1, '기준': 3, '권장되는': 1, '나트륨': 1, '섭취량은': 1, '2300밀리그램': 1, '이하입니다': 1, '미국심장협회는': 1, '보다': 2, '이상적인': 1, '기준으로': 1, '1500밀리그램': 1, '이하를': 1, '제시했습니다': 1, '식탐이': 1, '있다면': 2, '국': 1, '찜': 1, '조림': 1, '등으로': 2, '상': 1, '간의': 1, '날…내': 1, '몸의': 1, '저장고': 1, '간이': 3, '일': 1, '중요하다는': 1, '아마': 1, '다들': 1, '사실일': 1, '겁니다': 1, '그러나': 1, '정작': 1, '중요한지': 1, '원인으로': 1, '간': 4, '질환이': 2, '발생하는지': 1, '지에': 1, '대해서는': 1, '모르는': 1, '많으실': 1, '텐데요': 1, '‘숫자로': 1, '건강’에서는': 1, '다가오는': 1, '10월': 2, '20일': 1, '‘간의': 1, '날’에': 1, '간에': 1, '상식과': 1, '지': 1, '사례로': 2, '본': 1, '슬기로운': 1, '인간': 1, '생활': 4, '광화문': 2, '숲': 2, '정신과': 3, '정정엽': 1, '매회': 1, '기대와': 1, '사랑을': 1, '받은': 1, '의학': 1, '‘슬기로운': 1, '의사생활': 1, '시즌': 2, '2’가': 1, '12회로': 1, '종영했다(2021년': 1, '09월': 1, '이미': 2, '유머와': 1, '재치로': 1, '시청자에게': 1, '눈도장을': 1, '받아왔던': 1, '배우': 1, '조정석의': 1, '코미디적': 1, '면모와': 1, '더불어': 1, '웃음과': 1, '감동의': 1, '균형을': 1, '이루며': 1, '1부터': 1, '관심을': 2, '받았다': 1, '외에도': 2, '인기': 1, '비결이': 1, '있겠지만': 1, '6일': 1, '정신건강연구회': 2, '항암치료': 2, '체크리스트': 2, '이것만은': 1, '챙기세요': 1, '반드시': 3, '함께': 5, '확인해': 1, '볼까요?Q': 1, '항암치료를': 1, '앞두고': 2, '미리': 1, '준비할': 1, '있을까요?●환자라는': 1, '생각보다': 1, '병을': 1, '이긴다는': 1, '마음을': 1, '갖고': 1, '능동적이고': 1, '적극적인': 1, '마음가짐을': 1, '갖는': 1, '좋습니다': 2, '●': 2, '무리하지': 1, '않는': 2, '범위에서': 1, '정상적인': 1, '생활을': 1, '하되': 1, '술': 1, '담배는': 1, '않아야': 1, '가벼운': 2, '운동으로': 1, '2번': 1, '가볍게': 1, '걷는': 1, '아까워서': 2, '아냐': 2, '쓰면': 3, '것들은': 1, '안': 5, '주는거': 1, '‘이것들’': 1, '위험할': 1, '수도?물건': 1, '공유는': 1, '다른': 2, '사람과의': 1, '유대감을': 1, '형성시킨다': 1, '하지만': 6, '잘못하다가는': 1, '세균과': 1, '바이러스까지': 1, '공유시킬': 1, '있는데': 1, '물건들을': 1, '조심해야': 1, '할까?#립밤': 1, '립밤을': 1, '직접적으로': 1, '바르지': 1, '않더라도': 1, '손을': 1, '결막염을': 1, '일으키는': 2, '연쇄상구균과': 1, '폐렴을': 1, '포도상구균이': 1, '옮을': 1, '있다.#면도기': 1, '헬스컨슈머': 1, '코로나19': 1, '속': 3, '스트레스와': 1, '정신': 2, '관리법': 2, '정두영': 1, 'UNIST': 1, '바이오메디컬공학과': 1, '교수‧정신건강의학과': 1, 'lt;변화와': 1, '스트레스&gt;델타': 1, '변이로': 1, '집단': 1, '면역은': 1, '불가능하다는': 1, '과학자들의': 1, '예측이': 1, '들려옵니다': 1, '대면': 1, '서비스를': 1, '자영업자부터': 1, '학교에': 1, '등교하지': 1, '못하는': 2, '아이들까지': 1, '영향을': 2, '받습니다': 1, '백신을': 1, '맞을': 1, '있나': 1, '기다리느라': 1, '지치는': 1, '사람도': 3, '뉴스에서': 1, '들려오는': 1, '백': 1, '역류성식도염': 1, \"이곳'이\": 1, '변형된다': 1, '식도암': 1, '위험': 3, '높이는': 2, 'x27;바렛': 1, '식도&#x27;로': 1, '발전': 1, '현대인의': 1, '병이라': 2, '역류성': 2, '식도염은': 1, '타는': 1, '듯한': 1, '속쓰림과': 1, '잦은': 1, '트림': 1, '신물': 1, '올라옴': 1, '주된': 2, '증상이다': 1, '워낙': 1, '이들이': 1, '앓고': 1, '대수롭지': 2, '않게': 2, '여기는': 1, '경우가': 4, '식도염을': 1, '식도가': 1, '변형돼': 1, '식도암으로까지': 1, '있어': 1, '생활습관': 1, '개선과': 1, '적절한': 2, '약': 6, '복용이': 1, '필요하다': 1, '캔서앤서': 1, '‘미니': 1, '뇌졸중’': 1, '증상': 1, '짧다고': 1, '방심하면': 1, '세계적으로': 1, '증가하고': 2, '중하나가': 1, '뇌졸중입니다': 1, '뇌졸중': 1, '2018년': 2, '역학보고서에': 1, '따르면우리나라': 1, '40명': 1, '1명이뇌졸중': 1, '환자인': 1, '나타났는데요.오늘은': 1, '뇌졸중이': 2, '발생하기': 1, '전에': 1, '증상인미니': 1, '뇌졸중에': 1, '미니': 2, '뭔데': 1, '24시간': 1, '이내에': 1, '해소되는': 1, '특징': 1, '뇌졸중의': 1, '정확한': 1, '의학적': 1, '용어는': 1, '‘일과성뇌': 1, '척추관절': 1, '나누리병원': 1, '췌담도암': 2, '정기검진과': 1, '○○이': 1, '예방의': 1, '첫걸음': 1, '암': 1, '중에서도': 1, '어렵고': 2, '상대적': 1, '생존율이': 1, '낮은': 1, '암은': 1, 'x27;췌담도암&#x27;입니다': 1, '특히': 1, '췌담도암은': 2, '유명인이': 1, '췌장암으로': 1, '투병하다': 1, '하나둘': 1, '세상을': 1, '떠나면서': 1, '암종으로': 1, '떠올랐는데요': 1, '조기': 2, '진단이': 1, '진행된': 1, '상태에서': 1, '발견되는': 1, '많아': 1, '선고는': 1, '사형선고라는': 1, '정도입니다': 1, '수술': 5, '방법이': 1, '발전하고': 1, '효과적인': 1, '항암치료제가': 1, '개발되면서': 1, '평': 1, '새벽': 1, '3~4시': 1, '깨면': 2, '원인은': 2, '힐팁·서울스페셜수면의원': 1, '공동': 1, '기획': 1, '‘수면': 1, '밸런스’새벽': 1, '3~4시에': 1, '의심다양한': 1, '질환의': 1, '및': 7, '악화': 1, '요인으로': 1, '하나가': 1, '스트레스입니다': 1, '반면': 1, '잠을': 2, '자는': 1, '‘숙면’은': 1, '질병의': 1, '치료‧개선을': 1, '빠지지': 1, '않고': 2, '언급되는': 1, '요소입니다': 1, '신문사': 1, '아침에': 1, '먹으면': 2, '바쁜': 2, '아침시간에는': 1, '여유있게': 1, '한끼': 1, '식사를': 1, '챙겨먹기': 1, '어렵다': 1, '간편하게': 2, '과일이나': 2, '빵': 1, '시리얼': 1, '허기진': 1, '배를': 1, '채우는': 1, '대부분이다': 1, '그런데': 2, '먹기': 1, '채소가': 1, '아침': 1, '공복에': 2, '좋지': 1, '않다고': 1, '것들도': 1, '고구마': 1, '우유': 1, '요거트': 1, '토마토': 1, '모두': 2, '건강에': 2, '식품이지만': 1, '섭취하는': 2, '권장하지': 1, '않는다': 1, '장성희': 1, '연세대학교': 1, '매경헬스': 2, '심근경색증': 1, '경험자': 1, 'LDL콜레스테롤': 1, '심장': 6, '혈관이': 1, '막혀': 1, '괴사하는': 1, '심근경색증은': 1, '풍선': 1, '확장술': 1, '스텐트': 1, '통한': 1, '재개통': 1, '시술에': 1, '성공했다': 1, '하더라도': 1, '전체': 3, '환자의': 1, '절반': 1, '가량이': 1, '재발을': 1, '경험합니다': 1, '끝내고': 1, '나면': 1, '드라마틱': 1, '하게': 1, '호전돼': 1, '습관': 5, '교정이나': 1, '약물': 1, '복용을': 3, '제대로': 2, '많기': 1, '재발': 1, '방지를': 1, '요소인': 1, '콜레스테롤': 1, '그중에서도': 1, '나': 1, '대한심장학회': 1, '건망증': 1, '치매': 2, '발견': 1, '돕는': 1, '일생': 1, '일궈온': 1, '송두리째': 1, '앗아가는': 1, '신경퇴행성': 1, '질환인': 1, '‘치매’입니다': 1, '사고력‧이해력‧계산능력': 1, '심각한': 1, '인지기능': 1, '불러서': 1, '일상생활을': 1, '불가능하게': 1, '치매는': 1, '인구': 1, '고령화': 2, '빠른': 1, '우리나라에서': 1, '심하면': 1, '환자': 1, '본인은': 1, '물론': 1, '가족과': 1, '사람들에게': 1, '전적으로': 1, '의지': 1, '경희대학교병원': 1, '무시': 1, '마세요': 1, '무': 1, '효능은': 1, '한동하': 1, '한의학박사(한동하한의원': 1, '원장': 1, '무는': 2, '뿌리채소': 1, '너무': 1, '흔해서': 1, '그냥': 2, '요리에': 1, '사용되는': 1, '채소로만': 1, '무가': 1, '무척': 1, '서운해할': 1, '요리': 1, '활용도가': 1, '아주': 1, '채소다.‘무’는': 1, '이름이다': 1, '과거에는': 1, '‘무우’라고': 1, '했다': 1, '조선': 1, '중기에': 1, '저술된': 1, '동의보감에도': 1, '한글표기로': 1, '무우로': 1, '돼': 1, '내용을': 1, '보면': 2, '무청(蕪': 1, '집에': 4, '누군가': 2, '오는': 1, '게': 5, '싫습니다': 1, '한명훈': 1, '사연)현재': 1, '부모님과': 1, '사는': 1, '대학생입니다': 1, '언제부터인지': 1, '모르겠는데': 1, '들어오는': 1, '너무너무': 1, '싫고': 1, '생각만': 1, '스트레스받네요': 1, '딱히': 2, '친구관계도': 1, '원만한': 1, '편인데': 1, '살면서': 1, '친구를': 1, '데려와': 1, '본적도': 1, '손에': 1, '꼽습니다': 1, '그렇다고': 1, '제가': 1, '친구': 1, '가는': 2, '걸': 1, '싫어하냐': 1, '그런': 1, '것도': 1, '아닙니다': 1, '부르면': 1, '수준입니다': 1, '마음우체국': 1, '오징어게임': 1, '주인공이': 1, '참가한': 1, '한국': 1, '‘오징어게임’이': 1, '83개국': 1, '넷플릭스에서': 1, '1위를': 1, '차지하는': 1, '전세계에서': 1, '역대급': 1, '흥행': 1, '돌풍을': 1, '일으키고': 1, '‘오징어게임’은': 1, '각자': 1, '사연을': 1, '지닌': 1, '참가자들이': 1, '총': 3, '456억': 1, '원의': 1, '상금이': 1, '서바이벌에서': 1, '승자가': 1, '되기': 1, '목숨을': 1, '걸고': 1, '극한의': 1, '게임에': 1, '도전하는': 1, '이야기입니다': 1, '주인공': 1, '성기훈(이정재': 1, '분&amp': 1, '20세에서': 1, '50세': 1, '여성에게': 1, '갑상선기능항진증': 1, '제때': 1, '치료해야': 1, '지난': 1, '시간에': 1, '갑상선호르몬이': 2, '필요한': 3, '정도보다': 1, '부족한': 1, '상태인': 1, '갑상선기능저하증에': 1, '알아보았는데요': 1, '이와': 1, '반대로': 2, '갑상선': 1, '호르몬이': 1, '필요': 2, '이상으로': 2, '분비되면': 1, '나타날까요': 1, '오늘은': 3, '분비되어': 1, '갑상선기능항진증에': 1, '알아보도록': 3, '하겠습니다': 1, '‘갑상선기능저하증’': 1, '보기': 3, '출처': 1, '보건의료빅데이': 1, '존재를': 1, '부정하는': 1, \"수치심'..원인과\": 1, '대처법': 1, '서대문역': 1, '서대문': 1, '봄': 1, '이호선': 1, '당신은': 1, '수치스러움을': 2, '느꼈는가': 1, '좋아하는': 1, '상대': 1, '앞에서': 2, '우스운': 1, '자세로': 1, '넘어졌을': 1, '거래처': 1, '담당자': 1, '말실수했을': 1, '사람들': 1, '가득한': 1, '광장에서': 1, '뺨을': 1, '맞았을': 1, '불러일으키기': 1, '충분한': 1, '예시일': 1, '사람들은': 1, '누구나': 1, '수치스러운': 1, '기억': 1, '하나쯤': 1, '가슴속에': 1, '품고': 1, '산다': 2, '사건의': 1, '크기는': 1, '중요하지': 1, '않': 1, '비만-지구온난화': 2, '동시': 2, '해결사': 2, '‘플로깅(Plogging)’': 2, '아시나요': 2, '비만인구': 1, '많아질수록': 2, '지구는': 1, '아프다': 1, '세계보건기구(WHO)에': 1, '세계': 2, '비만': 2, '인구는': 2, '4억명': 1, '수준이며': 1, '2025년에': 1, '비만인구는': 1, '7억명': 1, '과체중': 1, '23억명': 1, '급증할': 1, '추정됩니다': 1, '비만인구가': 1, '지구의': 1, '고통도': 1, '커진다는': 1, '사실': 1, '있나요': 2, '지구온난화에': 1, '악영향': 1, '치실': 1, '심장병이': 1, '심장에': 2, '습관6': 1, '해치는': 1, '습관들이': 1, '말하면': 1, '습관을': 1, '교정하면': 1, '위험률을': 1, '떨어뜨릴': 1, '의미죠.흡연이나': 1, '과음': 1, '외에': 1, '일상생활에서': 1, '지키기': 1, '고쳐야': 1, '습관으론': 1, '있을까요': 1, '‘헬스닷컴’이': 1, '해로운': 1, '생활방식': 1, '6가지를': 1, '소개했습니다.1': 1, '보며': 1, '앉아': 1, '직장인': 2, '밥': 1, '대신': 1, '커피': 1, '‘○○○’': 1, '부른다': 1, '혀가': 1, '마비될': 1, '정도의': 1, '자극적인': 1, '먹었을': 1, '갑작스러운': 1, '쓰림을': 1, '겪곤': 1, '일시적인': 1, '쓰림은': 1, '넘기곤': 1, '시간': 1, '계속된다면': 1, '‘위궤양’을': 1, '의심해볼': 1, '필요가': 1, '있는데요': 2, '게다가': 1, '아침엔': 1, '깨기': 1, '빈속에': 1, '커피를': 1, '들이붓고': 1, '점심엔': 1, '속을': 1, '풀기': 1, '뜨겁고': 1, '칼칼한': 1, '찌개를': 1, '저녁엔': 1, '스트레스': 1, '해소를': 1, '매운': 1, '20대인': 1, '당뇨인': 1, '이유가': 1, '이것': 2, '때문': 1, '음료로': 1, '활력충전!20대인': 1, '당뇨라고요': 1, '젊은': 2, '층': 1, '당뇨환자증가': 1, '추세': 1, '층의': 1, '당뇨병': 2, '추세입니다': 1, '올해': 2, '국민건강보험공단의': 1, '조사에': 1, '2015년부터': 1, '2020년': 1, '6월까지': 1, '당뇨병으로': 1, '진료받은': 1, '국민은': 1, '1,723만': 1, '명이라고': 1, '밝혔습니다': 1, '2015년~2019년까지': 1, '5년간': 1, '20대': 1, '급속히': 1, '증가한': 1, '것으': 1, '안전장비': 1, '알아보기': 1, '안녕하세요': 1, '체육시설알리미입니다': 1, '안전': 4, '장비': 2, '착용의': 1, '중요성은': 1, '강조되고': 1, '장비를': 1, '착용하지': 1, '임하는': 1, '경우를': 1, '보곤': 1, '이러한': 2, '미착용은': 1, '부상을': 1, '초래하여': 1, '법적': 1, '공방으로': 1, '이어지는': 1, '경우도': 1, '있다고': 1, '하는데요': 2, '저': 1, '체육시설알리미와': 1, '실제': 1, '재판': 1, '사례를': 1, '장비의': 1, '중요성에': 1, '해요': 2, '체육시설알리미': 1, '영양제': 1, '너도나도': 1, '건강이': 2, '최고라는': 1, '말을': 1, '달고': 1, '그러면서': 1, '불티나게': 1, '팔리는': 1, '영양제다': 2, '영양제를': 2, '가지라도': 1, '챙겨': 1, '사람을': 1, '힘든': 1, '요즘이다': 1, '움큼씩': 1, '전문가가': 1, '강력': 1, '추천하는': 1, '돈이': 1, '드는': 1, '영양제도': 1, '부작용도': 1, '없다': 1, '마음의': 1, '준비만': 1, '단단히': 1, '생활습관을': 1, '실천하는': 1, '모르고': 1, '독': 1, '복용': 1, '보관법': 1, '‘아무리': 1, '약도': 1, '잘못': 2, '독’이라고': 1, '하죠.약의': 1, '효과는': 1, '최대한': 1, '끌어올리고': 1, '최소화하는올바른': 1, '복용법': 2, '관리': 1, '정해진': 1, '준수하기': 1, '약은': 2, '‘하루': 1, '3번': 1, '식후': 2, '30분’': 1, '복용하는': 1, '이는': 1, '식사와': 1, '연관시켜': 1, '규칙적인': 2, '유도하기': 1, '정해': 1, '놓은': 1, '것인데요': 1, '30분': 1, '당뇨·골다공증': 1, '잡는': 1, '연구에서': 1, '각광받는': 1, '영양성분인': 1, 'K': 1, '비타민K는': 1, '혈당': 1, '조절에': 1, '주어당뇨': 1, '예방에': 1, '효과적이고': 1, '비타민K를': 1, '섭취한': 1, '사람일수록암': 1, '사망률이': 2, '46': 1, '36': 1, '낮다는연구': 1, '결과도': 1, '존재한다고': 1, '당뇨': 2, '환자들의': 3, '뼈를': 1, '보호하는': 1, '시멘트질': 1, '성분인&#x27;오스테오칼신&#x27': 1, '이라는': 1, '물질이': 1, '분비되지': 1, '않아뼈': 1, '노화가': 1, '쉽게': 2, '오고': 1, '당뇨성': 1, '관절염도': 1, '쉽': 1, 'MBN': 1, '당뇨는': 1, '유전': 1, '인슐린은': 1, '평생': 1, '맞아야': 1, '나도': 1, '모르게': 1, '당뇨를': 1, '키우고': 1, '있던': 1, '당뇨에': 1, '상식': 1, '팩트': 1, '체크': 1, '해보자소변에서': 1, '당이': 2, '검출되지': 1, '않으면': 1, '당뇨가': 1, '아니다': 1, 'NO당뇨란': 1, '말': 1, '그대로': 1, '‘당분이': 1, '소변’을': 1, '뜻한다': 1, '속에': 1, '포도당(혈당)이': 1, '과다하게': 1, '쌓여': 1, '결국': 1, '소변으로': 1, '넘쳐': 1, '나와': 1, '‘당뇨’란': 1, '이름이': 1, '붙었지만': 1, '소변에': 1, '나오지': 1, '전성기': 1, '장': 3, '지켜주는': 2, '유산균': 1, '종류': 1, '유산균은': 2, '유산을': 1, '만들어': 1, '내는': 1, '균주로': 1, '대장에': 1, '존재합니다': 1, '넓게': 1, '락토바리실루스목의': 1, '락토바길루스과': 1, '젖산균속': 1, '세균을': 1, '총칭하며': 1, '좁게': 1, '본다면': 1, '대장': 1, '성기': 1, '등의': 3, '기관에서': 1, '공생하는': 1, '유익한': 1, '균을': 1, '의미합니다': 2, '이로운': 1, '균이기': 1, '적당량을': 1, '섭취하여': 1, '전반의': 1, '챙기도록': 1, '헬스앤라이프': 1, '번아웃이': 1, '왔는데': 1, '엄마': 1, '부양은': 1, '‘오은영의': 1, '화해’는': 1, '전문의인': 1, '오은영': 1, '박사가': 1, 'lt;한국일보&gt;와': 1, '진행하는': 1, '상담': 1, '코너입니다': 1, '저는': 1, '10년': 1, '넘게': 1, '출판사': 1, '편집자로': 1, '근무하고': 1, '30대': 1, '여성입니다': 1, '번아웃을': 1, '겪으면서': 1, '글을': 1, '읽어도': 1, '내용': 1, '파악이': 1, '되고': 1, '마우스': 1, '스크롤만': 1, '내렸다': 1, '올렸다': 1, '반복하고': 1, '있어요': 1, '병원에서는': 1, '쉬어야': 1, '한다는데': 1, '경제적': 1, '문제로': 1, '그만두지도': 1, '한국일보': 1, '설탕이': 1, '초': 1, '식품의약품안전처가': 1, '어린이들을': 1, '중심으로': 1, '설탕': 2, '소비가': 1, '늘었다고': 1, '발표했다': 2, '식품의약품안전처는': 1, '질병관리본부가': 1, '실시한': 1, '‘건강과': 1, '영양’': 1, '조사': 1, '자료를': 1, '이용하여': 1, '7,000명의': 1, '한국인의': 1, '소비': 1, '패턴을': 1, '조사했다.조사': 1, '결과': 2, '3~5세': 1, '어린이가': 1, '하루에': 1, '가공식품을': 1, '통해서': 1, '설탕의': 1, '양은': 1, '10.1%를': 1, '차지했고': 1, '스포츠음료가': 3, '망가뜨린다': 2, '진실은': 1, '치아를': 2, '교정해도': 1, '원래대로': 1, '돌아간다?스포츠음료는': 1, '망가뜨리기': 1, '쉽다': 1, '탄산음료를': 1, '마신': 1, '뒤': 1, '양치를': 1, '상한다': 1, '등등': 1, '치아와': 1, '이야기가': 2, '굉장히': 1, '과연': 2, '진실인지': 1, '이야기는': 1, '한양대학교병원': 2, '치과': 1, '정혜전': 1, '교수님과': 1, '하겠습니다!1': 1, '치': 1, '척추': 3, '고려해야': 1, '고령사회로': 1, '접어들면서': 1, '늘어난': 1, '수명만큼': 1, '호소하는': 1, '늘어나고': 1, '대부분의': 1, '고민은': 1, '받아야': 1, '방법과': 1, '시기이다': 1, '나이가': 1, '되면서': 1, '고혈압을': 1, '포함하여': 1, '내과적': 1, '문제를': 1, '많고': 1, '병변이': 1, '한마디에서부터': 1, '인제대학교상계백병원': 1, '전자담배로': 3, '환승': 1, '위험해요': 1, '연기와': 1, '냄새가': 1, '전자담배는': 1, '일반': 1, '담배보다': 1, '무해하다는': 1, '인식이': 1, '강하다': 1, '그래서인지': 1, '금연을': 1, '갈아타는': 1, '괜찮을까': 1, '국내병원': 1, '교수팀에서': 1, '질문에': 1, '연구결과를': 1, '분당서울대병원': 1, '연구진이': 1, '국민건강보험공단': 1, '빅데이터상': 1, '20세': 1, '516만명을': 1, '추적': 1, '관찰했다': 1, '연구': 1, '담배에서': 1, '이용행태가': 1, '바뀔': 1, '장수': 1, '이젠': 1, '‘120세': 1, '시대’라는': 1, '익숙한': 1, '다가올': 1, '노후를': 3, '행복하게': 2, '보내기': 2, '사람들의': 1, '관심이': 1, '높아지고': 1, '긴': 1, '필수적이라고': 1, '맞이하려면': 1, '운동과': 1, '중요하겠죠?그래서': 1, '건강과': 1, '장수를': 1, '위해선': 1, '10가지에': 1, '소개해': 1, '현대유비스병원': 1, '의료진': 1, '정교한': 1, '수술의': 2, '완성도': 1, '로봇': 4, '무릎': 3, '인공관절': 4, '의료용': 1, '로봇을': 1, '활용하는': 1, '분야': 1, '하나는': 1, '인공관절입니다': 1, '수술은': 2, '3차원': 1, '시뮬레이션과': 1, '첨단': 1, '기술을': 1, '집약해': 1, '정밀함과': 1, '완성도를': 1, '높여준다고': 1, '이번': 1, '닥터스픽에서는': 1, '광주세계로병원': 1, '김하성': 1, '원장의': 1, '도움말로': 1, '수술에': 1, '궁금증을': 1, '풀어봅니다.▶로봇': 1, '수술을': 1, '의사가': 1, '아닌': 1, '로봇이': 1, '중앙일보': 1, '헬스미디어': 1, '자궁경부암': 1, '자궁경부이형성증': 1, '자궁경부': 2, '이형성증은?자궁경부': 1, '이형성증은': 1, '자궁경부암을': 1, '인유두종': 1, '바이러스(HPV)에': 1, '의해': 1, '자궁경부의': 1, '세포와': 1, '조직이': 1, '비정상적으로': 1, '변형된': 1, '상태를': 2, '자궁경부암의': 2, '단계': 1, '말합니다': 1, '자궁경부암은': 1, '이형성증': 1, '→': 2, '상피내암': 1, '순서로': 1, '진행됩니다': 1, '정상과': 1, '종양의': 1, '중간': 1, '단계를': 1, '이형성증이라': 1, '인정병원': 1, '원인·증상·현황..류마티스관절염': 1, '바로알기': 1, '관절염의': 2, '날': 1, '기념': 1, '‘류마티스관절염’': 1, '알기': 1, '매년': 1, '12일은': 1, '‘세계': 1, '날(World': 1, 'Arthritis': 1, 'Day)’입니다': 1, '1996년': 2, '류마티스관절염': 1, '근골격계': 1, '인식': 1, '제고를': 1, '관절염': 1, '류마티스': 1, '관련': 1, '국제단체': 1, 'ARI(Arthritis': 1, 'and': 1, 'Rheumatism': 1, 'International)가': 1, '처음': 1, '기념하기': 1, '시작했고': 1, '대한류마티스학회': 1, '천식에': 1, '쓰이는': 1, '천식은': 1, '질환인가요?천식은': 1, '기관지에': 1, '염증이': 1, '존재하여': 1, '기관지가': 1, '예민해져': 1, '상태로': 1, '자극에도': 1, '기도가': 1, '좁아지게': 1, '되어': 1, '천명(숨': 1, '쉴': 1, '쌕쌕거리는': 1, '소리': 1, '기침': 1, '가슴': 1, '답답함': 1, '호흡곤란': 1, '만성': 1, '호흡기': 1, '질환입니다': 1, '천식의': 1, '완벽하게': 1, '밝혀지지': 1, '않았으나': 1, '부모로부터': 1, '물려받은': 1, '체질과': 1, '주위의': 1, '서울특별시보라매병원': 1, '새로운': 1, 'Sign': 2, 'in': 2, 'Connect': 1, 'with': 1, 'people': 1, 'NAVERSign': 1, 'Forgot': 1, 'Username': 1, 'Password': 1, 'up': 1, '이슈코로나바이러스감염증-19': 1, '현황': 1, '증시': 3, '러시아': 1, '1,869.19': 1, '16.11': 1, '0.86': 1, '독일': 1, '15,507.99': 1, '57.47': 1, '0.37': 1, '유로스톡스50': 1, '4,158.44': 1, '34.71': 1, '0.84': 1, '환율': 1, 'USD': 1, '1,175.50': 1, '2.00': 1, '0.17': 1, 'TOP': 1, '라이트': 1, '모드로': 1, '공지사항': 1, 'Creators': 1, '크리에이터': 1, '스몰비즈니스': 1, 'Partners': 1, 'SME': 1, '풀케어': 1, '시스템': 1, '·': 1, '광고': 1, '스토어': 1, '개설': 1, '지역업체': 1, '등록': 2, '엑스퍼트': 1, 'Developers': 1, '개발자': 1, '센터': 1, '오픈': 1, 'API': 1, '오픈소스': 1, 'D2': 1, 'D2SF': 1, '랩스': 1, '웨일': 1, '브라우저': 1, '다운받기': 1, '프로젝트': 1, '꽃': 1, '정책': 2, '약관': 1, '회사소개': 1, '인재채용': 1, '제휴제안': 1, '이용약관': 1, '개인정보처리방침': 1, '청소년보호정책': 1, '고객센터': 1, 'ⓒ': 1, 'Corp': 1}\n"
     ]
    }
   ],
   "source": [
    "numOfWord('https://www.naver.com/')"
   ]
  },
  {
   "cell_type": "code",
   "execution_count": 195,
   "id": "02f76a5c",
   "metadata": {},
   "outputs": [
    {
     "name": "stdout",
     "output_type": "stream",
     "text": [
      "{'Daum': 2, '주요': 2, '서비스': 5, '바로가기': 9, '오늘의': 4, '정보': 7, '미디어': 3, '실시간': 1, '이슈': 1, '멀티미디어': 2, '블로그': 4, '유익한': 2, '쇼핑': 3, '포토&amp;영상': 1, '웹': 1, '접근성': 1, '안내': 2, '자동실행': 1, '광고': 1, '설정': 1, '검색': 4, '통합': 1, '한글입력기': 1, '인기': 1, '검색어': 1, '코로나19': 1, '발생현황': 1, 'BTS': 1, '온라인콘서트': 1, '방부목가격': 1, '따릉이': 1, '시즌2': 1, '애견분양': 1, '사회적': 1, '거리두기': 1, '알렉볼드윈': 1, '오발사고': 1, '간병인보험': 1, '김연경': 1, '출국': 1, '로또복권당첨번호': 1, '세븐틴': 1, '쇼케이스': 1, '김정진': 1, '결혼': 1, '빌라매매': 1, '소상공인': 1, '손실보상': 1, '옥상방수': 1, 'lt;이전': 1, 'gt;다음': 1, '다음을': 1, '시작페이지로': 1, '카페': 3, '메일': 2, '뉴스': 7, '지도': 2, '증권': 1, '카카오TV': 2, '웹툰': 2, '브런치': 3, '사전': 1, '게임': 4, '같이가치': 3, '주요서비스': 1, '더보기': 3, '전체': 1, '커뮤니케이션': 1, '티스토리': 2, '카카오스토리': 2, '연예': 2, '스포츠': 2, '금융': 1, '부동산': 2, '자동차': 2, '쇼핑/생활': 1, '선물하기': 1, '쇼핑라이브': 1, '쇼핑하우': 1, '메이커스': 1, '카카오헤어샵': 1, '카카오이모티콘샵': 1, '문화/엔터': 1, '멜론': 2, '영화': 2, '카카오웹툰': 1, '카카오프렌즈': 1, '소셜임팩트': 1, '프로젝트100': 1, '사전/지식': 1, '어학사전': 1, '번역': 1, '단어장': 1, '백과사전': 1, '배틀그라운드': 1, '패스': 1, '오브': 1, '엑자일': 1, '오딘': 1, '길찾기': 1, '로드뷰': 1, '버스정보': 1, '지하철노선도': 1, '카카오': 4, '소식': 1, 'AI': 1, '카카오비즈니스': 1, '전체보기': 2, '메뉴닫기': 1, '10': 1, '22': 1, '금': 1, '날씨': 21, '서울시': 1, '맑음': 15, '영상': 19, '16도': 6, '16°C': 6, '경기도': 1, '15도': 5, '15°C': 5, '인천시': 2, '13도': 2, '13°C': 2, '대구시': 1, '구름많음': 1, '대전시': 1, '14도': 2, '14°C': 2, '광주시': 1, '부산시': 1, '울산시': 1, '경상북도': 2, '비': 2, '11도': 1, '11°C': 1, '강원도': 2, '흐림': 1, '12도': 1, '12°C': 1, '충청북도': 1, '10도': 1, '10°C': 1, '전라북도': 1, '전라남도': 2, '제주자치도': 1, '17도': 1, '17°C': 1, '경상남도': 1, '날씨정보': 2, '8897': 1, '펼치기': 1, '현재': 5, '지역': 1, '어제보다': 1, '°C': 1, '상세보기': 1, '미세먼지': 1, '통합대기': 1, 'X': 1, '닫기': 1, '로그인': 4, '카카오계정으로': 1, '아이디로': 1, 'QR코드': 1, '회원가입': 1, '선택됨': 1, '1탭': 1, '전두환': 1, '동생': 1, '전경환': 1, '빈소': 1, '찾은': 1, '이부진': 1, '사장': 2, 'TF사진관': 1, '드라마보다': 1, '버거운': 1, '현실너도나도': 1, '오징어': 1, '금주의': 1, 'B컷': 1, '동영상': 16, '이정후가': 1, '깨어났습니다': 1, 'KBO': 1, 'FILM': 1, 'ROOM': 1, '꼬꼬무': 1, '꼬꼬무에': 1, '왔솜♥': 1, '애교쟁이': 1, 'MC': 1, '소미': 1, '비하인드': 1, 'SBS': 1, 'NOW': 1, '생중계': 3, '오': 1, '뉴스9': 1, '뉴스룸': 1, '뉴스데스크': 1, '일반뉴스': 1, '권양숙': 1, '盧': 1, '닮은': 2, '李에': 1, '한': 1, '표': 1, '찍겠다\"..이재명': 1, '100만표의': 1, '가치': 1, '불난': 1, '집': 1, '기름부은': 1, '尹': 1, 'SNS..\"개': 1, '동공에': 1, '쩍벌남': 1, '시끌': 1, '내일': 1, '가을비': 1, '소식..아침': 1, '기온': 1, '뚝': 1, '떨어져': 2, '청사': 1, '앞': 1, '불려': 1, '나온': 1, '대검': 1, '차장': 1, '유동규': 1, '배임': 1, '불기소': 1, '아닌': 1, '보류': 1, '설계사들': 1, '무섭네\"..주사맞고': 1, '124만원': 1, '포경수술로': 1, '보험금': 1, '빼돌려': 1, '위드': 1, '코로나': 1, '밑그림': 1, '나왔다..식당·카페': 1, '영업제한': 1, '없애고': 1, '백신': 1, \"패스'는\": 1, '유흥시설': 1, '출입': 1, '때': 1, '요구': 1, '이재명의': 1, '자신감': 1, '대장동': 1, '안개': 1, '걷히면': 1, '국민들': 1, '애썼다': 1, '하실': 1, '것': 1, '윤석열': 2, '개와': 1, '사과': 2, '사진': 1, '한장에': 1, '엉켜버린': 1, '국민의힘': 1, '호남': 1, '행보': 1, '영어': 1, '1등급': 1, \"반토막'..상위권\": 1, '학력붕괴': 1, '시작됐다': 1, '주': 1, '9시간': 1, '일하고': 1, '연봉': 1, '1억': 1, '원로교사': 1, '누구': 1, '미이라': 1, '같다\"..10년': 1, '병수발': 1, '아내의': 1, '잔인한': 1, '반전': 1, '양측': 1, '갈비뼈': 1, '24개': 1, '모두': 1, '골절\"..아내는': 1, '남편': 1, '때려': 1, '숨지게': 1, '했다': 1, '이재명': 1, '후보': 1, '조폭연루설': 1, '제기': 1, '박철민‧장영하‧안철수': 1, '등': 1, '무더기': 1, '검찰': 1, '고발': 1, '개': 1, '일파만파..역풍': 1, '자초한': 1, '물부터': 1, '마셔야': 1, '눈의': 1, '노화': 1, '늦추는': 1, '식품': 1, '7가지': 1, '뉴스홈': 1, '연재': 1, '랭킹': 1, 'TV': 5, '포토': 4, '팩트체크': 1, '증시': 1, '환율': 1, '운세': 1, 'TV편성': 1, 'ISSUE': 1, '39;코로나': 1, '19&#39': 1, '현황': 1, '탭1/전체': 2, '탭8': 1, 'lt': 4, '이전': 6, '탭': 8, 'gt': 4, '다음': 7, '오리지널': 2, '콘텐츠': 2, 'TV하이라이트': 2, '주요장면': 2, '찐경규': 2, '방송에서': 1, '샴페인': 1, '두': 2, '병': 1, '마시더니': 1, '더듬이TV': 1, 'lt;우당탕탕': 1, '안테나&gt': 1, '대표님': 1, '손톱': 1, '관리': 1, '해주는': 1, '직원이': 1, '깨달은': 1, '사실': 1, '살아남기': 1, '위해': 2, '입을': 1, '털었다는': 1, '서장훈': 1, '과거': 1, '박진주': 1, '사람들이': 1, '잘': 1, '모르지만': 1, '진짜': 1, '맛있는': 1, '컵라면': 1, '내일은': 1, '국민가수': 1, '초등부': 1, 'lsquo;날': 1, '떠나지마&rsquo;♪': 1, 'CHOSUN': 1, '2110': 1, '너를': 1, '사람': 1, '김재영에': 1, '대해': 1, '캐묻는': 1, '최원영': 1, '＂서우재': 1, '어딨어요＂': 1, '국가대표': 1, '와이프': 1, '＂전': 1, '지금': 1, '손님이지': 1, '알바생': 1, '아니거든요!＂못된': 1, '안소희': 1, '26회': 1, 'Behind': 1, '댄스': 1, '커버': 1, '비하인드.zipㅣ': 1, '18명의': 1, '참가자들': 1, '39;응답해줘': 1, 'OVER&#39': 1, '9IRL': 1, '3인': 1, '1조': 1, '캡쳐타임': 1, '39;999': 1, '꽃이': 1, '피었습니다&#39': 1, 'Savage': 2, '에스파(aespa)가': 1, '형님': 1, '학교에': 1, '전학': 1, '지금쯤이면': 1, '나갈': 1, '거라': 1, '여겼는데': 1, '그럴': 1, '일은': 1, '탭3': 1, '청소하는': 2, '여자': 3, 'vs': 1, '밥상': 1, '차리는': 2, 'by': 4, '여자vs밥상': 1, '나를': 1, '번': 1, '살린': 1, '엄마': 1, '골골대지만': 1, '살아는': 1, '있습니다': 1, '술': 1, '때문에': 1, '농사를': 1, '지은': 1, '인류': 1, '술의': 1, '발전사': 1, '타임머신': 1, '타고': 1, '베토벤': 1, '만날': 1, '수': 1, '있다면': 1, 'BE': 1, 'MY': 1, 'CLASSIC': 1, '탭2/전체': 1, '탭4': 1, '홈&amp;쿠킹': 1, '머니': 1, '동물': 1, '스타일': 1, 'Men': 1, '여행맛집': 1, '직장IN': 1, '뮤직': 2, 'D-10': 1, '뮤지컬': 2, '〈헤드윅〉': 1, '종연이': 1, '코앞으로': 1, '다가왔어요': 1, '멜론티켓': 2, '관극러들을': 1, '〈엑스칼리버〉는': 1, '상시할인중': 1, '유희열의': 1, '스케치북': 1, '예감': 1, '좋은': 1, '날': 1, '으라차차': 1, '멜론TV': 1, '쉿': 1, '우리끼리': 1, '봐요': 1, 'Z세대': 1, '팬': 1, '비율이': 1, '높은': 1, '아티스트': 1, 'LIST': 1, 'MZ세대': 1, '트렌드': 1, '찾는': 1, '신박한': 1, '방법': 2, '뜨는': 1, '39;플레이리스트&#39': 1, '보기': 5, 'ュ저': 1, '멍㈛니': 1, '㈛늘口ざ': 1, 'ㅂΓㄹΓ봐': 1, '–': 1, 'CyworldBGM2021': 1, '산이X수란': 1, '편': 1, '멜론매거진': 2, '여전히': 1, '살아': 1, '숨': 1, '쉬는': 1, '바흐': 1, '그들이': 1, '바흐를': 1, '활용하는': 1, '유니버설': 1, '코리아': 1, '또': 2, '하나의': 1, '이름으로': 1, '돌아온': 1, '재데뷔': 1, '그룹': 1, '음악덕후': 1, '델리스파이스': 1, '김민규의': 1, '다른': 1, '감성': 1, '천년의': 1, '순간': 1, 'TOP100': 1, '1위': 1, 'strawberry': 1, 'moon': 1, '아이유': 1, '2위': 1, 'aespa': 2, '3위': 1, 'STAY': 1, 'The': 1, 'Kid': 1, 'LAROI': 1, '4위': 1, '신호등': 1, '이무진': 1, '5위': 1, 'My': 1, 'Universe': 1, 'Coldplay': 1, '6위': 1, 'Next': 1, 'Level': 1, '탭8/전체': 1, '탭11': 1, '추천갤러리바로가기': 2, 'https://gallery.v.daum.net/p/premium/excavation/cef5WWQQ36': 1, 'class=\"link_thumb': 30, 'photo_pic0': 1, 'data-tiara-action-name=\"오늘의': 30, '포토_데이터': 30, '운영_하단': 30, '썸네일': 30, 'data-tiara-layer=\"thumbnail': 30, 'https://gallery.v.daum.net/p/premium/june/cOzXcQXApj': 1, 'photo_pic1': 1, 'https://gallery.v.daum.net/p/premium/ROKARMYFire/cFSociNPQ7': 1, 'photo_pic2': 1, 'https://gallery.v.daum.net/p/viewer/5024184/20211022161713669': 1, 'photo_pic3': 1, 'https://gallery.v.daum.net/p/viewer/5018824/20211022162135795': 1, 'photo_pic4': 1, 'https://gallery.v.daum.net/p/viewer/984/20211021204753168': 1, 'photo_pic5': 1, 'https://gallery.v.daum.net/p/viewer/969/20211021164215942': 1, 'photo_pic6': 1, 'https://gallery.v.daum.net/p/viewer/1009/20211021120833329': 1, 'photo_pic7': 1, 'https://gallery.v.daum.net/p/viewer/987/20211022161532635': 1, 'photo_pic8': 1, 'https://gallery.v.daum.net/p/viewer/251/20211022143202291': 1, 'photo_pic9': 1, 'https://gallery.v.daum.net/p/viewer/256/20211022161132475': 1, 'photo_pic10': 1, 'https://gallery.v.daum.net/p/viewer/2603/20211022154713694': 1, 'photo_pic11': 1, 'https://gallery.v.daum.net/p/viewer/318190/20211021202306596': 1, 'photo_pic12': 1, 'https://gallery.v.daum.net/p/viewer/247/20211022171321563': 1, 'photo_pic13': 1, 'https://gallery.v.daum.net/p/viewer/246/20211022155730007': 1, 'photo_pic14': 1, 'https://gallery.v.daum.net/p/viewer/379/20211022171027477': 1, 'photo_pic15': 1, 'https://gallery.v.daum.net/p/viewer/1120776/20211022082200305': 1, 'photo_pic16': 1, 'https://gallery.v.daum.net/p/viewer/139426/20211022153610363': 1, 'photo_pic17': 1, 'https://gallery.v.daum.net/p/viewer/1476/20211022150111383': 1, 'photo_pic18': 1, 'https://gallery.v.daum.net/p/viewer/2332/20211022125719649': 1, 'photo_pic19': 1, 'https://gallery.v.daum.net/p/viewer/1783949/20211022163308197': 1, 'photo_pic20': 1, 'https://gallery.v.daum.net/p/viewer/1812274/20211022154149525': 1, 'photo_pic21': 1, 'https://gallery.v.daum.net/p/viewer/5116766/20211022100049382': 1, 'photo_pic22': 1, 'https://gallery.v.daum.net/p/viewer/5085980/20211021073024938': 1, 'photo_pic23': 1, 'https://gallery.v.daum.net/p/viewer/1497/20211021133603359': 1, 'photo_pic24': 1, 'https://gallery.v.daum.net/p/viewer/2329/20211021194548571': 1, 'photo_pic25': 1, 'https://gallery.v.daum.net/p/viewer/5108368/20211021210820712': 1, 'photo_pic26': 1, 'https://gallery.v.daum.net/p/viewer/3693/20211017200141788': 1, 'photo_pic27': 1, 'https://gallery.v.daum.net/p/viewer/5031202/20211021190332662': 1, 'photo_pic28': 1, 'https://gallery.v.daum.net/p/viewer/5151483/20211022131456027': 1, 'photo_pic29': 1, '이미지': 2, '목록': 2, '공지사항': 1, '개인정보처리방침': 2, '개정': 1, '소개': 1, '및': 1, '약관': 1, '회사소개': 1, 'middot': 11, '비즈니스': 1, '맞춤형광고': 1, '검색등록': 1, '제휴문의': 1, '인재채용': 1, '이용약관': 1, '운영정책': 1, '청소년보호정책': 1, '위치기반서비스이용약관': 1, '웹접근성안내': 1, '고객센터': 1, 'Copyright': 1, '©': 1, 'Kakao': 1, 'Corp': 1, 'All': 1, 'rights': 1, 'reserved': 1}\n"
     ]
    }
   ],
   "source": [
    "numOfWord('http://www.daum.net')"
   ]
  },
  {
   "cell_type": "code",
   "execution_count": 196,
   "id": "5a7217d6",
   "metadata": {},
   "outputs": [
    {
     "name": "stdout",
     "output_type": "stream",
     "text": [
      "{'The': 14, 'New': 20, 'York': 15, 'Times': 3, 'Breaking': 1, 'News': 3, 'US': 1, 'World': 2, 'and': 21, 'Videos': 1, 'SectionsSEARCHSkip': 1, 'to': 34, 'contentSkip': 1, 'site': 1, 'indexU.S.InternationalCanadaEspañol中文Today’s': 1, 'PaperWorldU.S.PoliticsN.Y.BusinessOpinionTechScienceHealthSportsArtsBooksStyleFoodTravelMagazineT': 1, 'MagazineReal': 1, 'EstateVideoHouse': 1, 'Finds': 2, 'Bannon': 2, 'in': 25, 'Contempt': 1, 'for': 22, 'Defying': 1, 'Jan': 3, '6': 2, 'Inquiry': 1, 'SubpoenaSteve': 1, 'an': 4, 'ally': 1, 'of': 26, 'former': 3, 'President': 2, 'Trump': 5, 'has': 3, 'stonewalled': 1, 'the': 44, 'Capitol': 1, 'riot': 1, 'inquiry': 1, 'Justice': 1, 'Department': 1, 'will': 3, 'now': 1, 'decide': 1, 'whether': 1, 'prosecute': 1, 'him.The': 1, 'vote': 1, 'came': 1, 'after': 3, 'a': 22, 'bitterly': 1, 'partisan': 1, 'debate': 1, 'over': 1, 'attack': 1, 'as': 6, 'Republicans': 1, 'sought': 2, 'deflect': 1, 'questions': 3, 'about': 4, 'Mr': 1, 'Trump’s': 1, 'role': 1, 'violence.Carlos': 1, 'Bernate': 1, 'TimesThanks': 1, 'Wall': 1, 'Street': 1, 'fad': 1, 'gained': 1, 'access': 1, 'millions': 1, 'launch': 1, 'social': 1, 'media': 1, 'company.Attorney': 1, 'General': 1, 'Merrick': 1, 'Garland': 1, 'sidestepped': 1, 'investigation': 1, 'during': 1, 'congressional': 1, 'hearing.AdvertisementContinue': 1, 'reading': 5, 'main': 5, 'storyC.D.C': 1, 'Recommends': 1, 'Covid': 4, 'Booster': 1, 'Shots': 1, 'Millions': 1, 'AmericansRecipients': 1, 'Moderna': 1, 'J.&amp;J': 1, 'vaccines': 1, 'may': 1, 'receive': 1, 'extra': 1, 'doses': 1, 'opening': 2, 'door': 1, 'many': 3, 'seek': 1, 'out': 1, 'booster': 1, 'shot': 1, 'early': 2, 'Friday.Brittainy': 1, 'Newman': 1, 'TimesRise': 1, 'Cases': 2, 'Deaths': 1, 'Tests': 1, 'Britain’s': 1, 'Gamble': 1, 'on': 8, 'Few': 1, 'Virus': 1, 'RestrictionsThe': 1, 'country’s': 1, 'grand': 1, 'experiment': 1, '—': 4, 'up': 2, 'with': 6, 'hardly': 1, 'any': 2, 'restrictions': 1, 'is': 3, 'facing': 1, 'its': 3, 'toughest': 1, 'challenge': 1, 'yet.The': 1, 'W.H.O': 1, 'urged': 1, 'countries': 2, 'do': 1, 'more': 2, 'protect': 1, 'burned-out': 1, 'health': 1, 'care': 1, 'workers': 2, 'Catch': 1, 'news': 1, 'Tracking': 1, 'Coronavirus': 1, '›': 6, 'United': 3, 'States': 2, 'StatesAvg': 1, 'Oct': 1, '21': 1, '14-day': 1, 'change': 1, 'cases': 1, '75,498': 1, '–24': 1, 'deaths': 1, '1,509': 1, '–15': 1, 'U.S': 2, 'hot': 2, 'spots': 2, 'Vaccinations': 1, 'Global': 3, 'Other': 2, 'trackers': 2, 'Choose': 1, 'your': 5, 'own': 2, 'places': 2, 'vaccinationsAustraliaU.K.AlaskaMont.IdahoHospitalsVaccine': 2, 'development': 1, 'developmentChoose': 1, 'Alec': 1, 'Baldwin': 1, 'Fatally': 1, 'Shoots': 1, 'Crew': 1, 'Member': 1, 'With': 4, 'Prop': 1, 'Firearm': 1, 'Authorities': 2, 'SayThe': 1, 'movie’s': 1, 'director': 2, 'photography': 1, 'was': 6, 'killed': 1, 'injured': 1, 'set': 1, '“Rust,”': 1, 'sheriff’s': 1, 'office': 1, 'Mexico': 1, 'said.Angela': 1, 'Weiss/Agence': 1, 'France-Presse': 1, 'Getty': 1, 'ImagesBiden': 1, 'Is': 5, 'Open': 1, 'Scrapping': 1, 'Filibuster': 1, 'Voting': 1, 'Rights': 1, 'Bill': 1, '‘and': 1, 'Maybe': 1, 'More’The': 1, 'president': 1, 'said': 3, 'push': 1, '“fundamentally': 1, 'alter”': 1, 'Senate’s': 1, '60-vote': 1, 'threshold': 1, 'would': 1, 'have': 2, 'wait': 1, 'until': 1, 'Congress': 1, 'passed': 1, 'his': 2, 'vast': 1, 'spending': 1, 'agenda.Liz': 1, 'Cheney’s': 1, 'Consultants': 1, 'Are': 2, 'Given': 1, 'Ultimatum': 1, 'Drop': 1, 'Her': 2, 'or': 2, 'Be': 2, 'DroppedThe': 1, 'message': 1, 'delivered': 1, 'by': 4, 'lobbyist': 1, 'close': 1, 'House': 1, 'minority': 1, 'leader': 1, 'Kevin': 1, 'McCarthy': 1, 'already': 1, 'led': 1, 'one': 4, 'Republican': 2, 'firm': 1, 'cut': 1, 'ties.Energizing': 1, 'Conservative': 1, 'Voters': 1, 'One': 1, 'School': 1, 'Board': 1, 'Election': 1, 'at': 4, 'TimeRepublicans': 1, 'hope': 2, 'that': 6, 'concerns': 1, 'critical': 1, 'race': 1, 'theory': 1, 'can': 4, 'help': 2, 'them': 1, 'midterm': 1, 'elections': 1, 'issue': 1, 'torn': 1, 'apart': 1, 'Wisconsin': 1, 'suburb.Morry': 1, 'Gash/Associated': 1, 'PressA': 1, 'lawyer': 1, 'oversee': 1, 'election': 1, 'review': 1, 'Texas': 1, 'he': 5, 'appointed': 1, 'state’s': 1, 'secretary': 1, 'state.On': 1, 'Politics': 1, 'nominee': 1, 'Virginia': 1, 'governor': 1, 'pushing': 1, 'voting': 1, 'despite': 1, 'catering': 1, 'base.Climate': 1, 'Change': 2, 'Seen': 1, 'Widening': 1, 'Threat': 1, 'National': 2, 'SecurityIntelligence': 1, 'defense': 1, 'agencies': 1, 'issued': 1, 'reports': 1, 'warning': 1, 'warming': 1, 'planet': 1, 'increase': 1, 'strife': 1, 'between': 1, 'spur': 1, 'migration.David': 1, 'Goldman/Associated': 1, 'PressFederal': 1, 'regulators': 1, 'warned': 1, 'climate': 1, 'change’s': 1, 'risks': 1, 'financial': 1, 'system.China': 1, 'Evergrande': 1, 'Makes': 1, 'Payment': 1, 'Before': 1, 'Deadline': 1, 'Official': 1, 'Media': 2, 'SaysThe': 1, 'troubled': 1, 'property': 1, 'giant': 1, 'faced': 1, 'threat': 1, 'default': 1, 'if': 1, 'it': 1, 'didn’t': 1, 'meet': 1, 'obligations': 1, 'foreign': 1, 'bondholders': 1, 'Saturday.AdvertisementContinue': 1, 'storyHaunted': 1, 'Houses': 1, 'Need': 1, 'Terrify': 1, 'You': 3, 'More': 2, 'Than': 1, 'Ever': 1, 'This': 2, 'HalloweenDevastated': 1, 'lack': 1, 'revenue': 1, 'last': 1, 'year': 3, 'haunted': 1, 'attractions': 1, 'are': 3, 'hoping': 2, 'rebound.Erin': 1, 'Schaff/The': 1, 'TimesIf': 1, 'only': 1, 'this': 2, '’90s-sitcom-loving': 1, 'immigrant': 1, 'child': 1, 'had': 3, 'come': 1, 'age': 1, 'today’s': 1, 'TV': 1, 'landscape.The': 1, 'food': 1, 'people': 2, 'all': 1, 'backgrounds': 1, 'get': 1, 'behind': 1, 'crispy': 1, 'chicken.OpinionDavid': 1, 'BrockI': 1, 'Was': 3, 'Wrong': 1, 'About': 4, 'Donald': 1, 'Doug': 1, 'Mills/The': 1, 'TimesM': 1, 'Leona': 1, 'GodinHelen': 1, 'Keller': 1, 'Problem': 1, '‘Inspiration': 1, 'Porn’Spencer': 1, 'Bokat-LindellWill': 1, 'Really': 1, 'Way': 1, 'We': 2, 'Work?Paul': 1, 'KrugmanHow': 1, 'Not': 2, 'Let': 1, 'Corporations': 1, 'Kill': 1, 'Biden’s': 1, 'AgendaFrank': 1, 'BruniThe': 1, 'Popularity': 1, '‘Squid': 1, 'Game’': 1, 'Terrifies': 1, 'MeNetflix‘Sway’Will': 1, 'Maria': 1, 'Ressa’s': 1, 'Nobel': 1, 'Peace': 1, 'Prize': 1, 'Force': 1, 'Mark': 1, 'Zuckerberg': 1, 'Wake': 1, 'Up?Theodore': 1, 'R': 1, 'JohnsonThe': 1, 'Paradox': 1, 'Colin': 1, 'PowellJay': 1, 'Caspian': 2, 'KangHow': 1, 'Should': 1, 'Teach': 1, 'Students': 1, 'Inequality?Charles': 1, 'M': 1, 'BlowThe': 1, 'Married': 1, 'Will': 1, 'Soon': 1, 'Minority‘Ordinary': 1, 'Citizens’': 1, 'Turned': 1, 'Rioters': 1, '6Gail': 1, 'Collins‘I': 1, 'Forgot': 1, 'Press': 1, 'Send’Linda': 1, 'GreenhouseWhy': 1, 'Did': 1, 'Supreme': 1, 'Court': 1, 'Stop': 1, 'Execution?Susan': 1, 'ThorntonThis': 1, 'How': 2, 'Biden': 1, 'Can': 1, 'Get': 2, 'Edge': 1, 'Over': 1, 'ChinaLindsay': 1, 'Crouse': 1, 'Kirby': 1, 'FergusonMaybe': 1, 'It’s': 1, 'Time': 1, 'For': 1, 'Give': 1, 'UpAdvertisementContinue': 1, 'storyOpinionListen': 1, '‘The': 1, 'Argument’Should': 1, 'we': 1, 'decriminalize': 1, 'drugs': 1, 'legalize': 1, 'Jane': 1, 'Coaston': 1, 'hears': 1, 'from': 1, 'experts.Neediest': 1, 'Seeking': 1, 'Escape': 1, 'From': 2, 'Cycle': 1, 'PovertyGetting': 1, 'college': 1, 'education': 1, 'wasn’t': 1, 'easy': 1, 'These': 1, 'Yorkers': 1, 'help.Sign': 1, 'Up': 1, 'Jay': 1, 'Kang’s': 1, 'NewsletterA': 1, 'cultural': 1, 'critic': 1, 'tackles': 1, 'thorny': 1, 'subscriber-only': 1, 'newsletter.海外华人札记': 1, '哈佛中文项目迁台：新“冷战”阴影下的文化脱钩？Read': 1, 'our': 1, 'Chinese-language': 1, 'newsletter.In': 1, 'Case': 1, 'Missed': 1, 'ItThe': 1, 'Seven': 1, 'Phases': 1, 'Rebuilding': 1, 'N.F.L.The': 1, 'first': 1, 'phase': 1, 'denial': 1, 'Then': 2, 'process': 1, 'moves': 1, 'swiftly': 1, 'through': 1, 'preparation': 1, 'false': 1, 'recrimination.Subway': 1, 'Rider': 1, 'Kicked': 1, 'Out': 1, 'After': 1, 'Confronting': 1, 'Unmasked': 1, 'CopsAndrew': 1, 'Gilbert': 1, 'repeatedly': 1, 'asked': 1, 'N.Y.P.D': 1, 'officers': 1, 'comply': 1, 'M.T.A': 1, 'policy.‘The': 1, 'French': 1, 'Dispatch’': 1, 'Review': 1, 'Remember': 1, 'Magazines?Wes': 1, 'Anderson': 1, 'pays': 1, 'antic': 1, 'tribute': 1, 'old': 1, 'Yorker': 1, 'far-flung': 1, 'correspondents.Boris': 1, 'Johnson': 1, 'Spins': 1, 'Upside': 1, 'As': 1, 'U.K': 2, 'Economy': 1, 'ReelsWages': 1, 'some': 1, 'industries': 1, 'rising': 1, 'because': 1, 'employers': 1, 'can’t': 1, 'find': 2, 'enough': 1, 'That’s': 1, 'not': 1, 'path': 1, 'long-term': 1, 'growth': 1, 'economists': 1, 'say.Pablo': 1, 'Picasso’s': 1, 'Life': 1, 'Under': 1, 'SurveillanceA': 1, 'museum': 1, 'show': 1, 'Paris': 1, 'explores': 1, 'Spanish': 1, 'artist’s': 1, 'time': 1, 'France': 1, 'where': 1, 'suspect': 1, 'eyes': 1, 'officials.More': 1, 'NewsIn': 1, 'Far-Flung': 1, 'Churches': 1, 'Round-the-Clock': 1, 'Prayer': 1, 'Haiti': 1, 'HostagesSeventeen': 1, 'missionaries': 1, 'remain': 1, 'held': 1, 'large': 1, 'ransom': 1, 'Mennonites': 1, 'across': 1, 'North': 1, 'America': 2, 'praying': 1, '30-minute': 1, 'slots': 1, 'resolution.Jerry': 1, 'Pinkney': 1, 'Acclaimed': 1, 'Children’s': 1, 'Book': 1, 'Illustrator': 1, 'Dies': 1, '81Adept': 1, 'reimagining': 1, 'classic': 1, 'tales': 1, 'often': 1, 'made': 1, 'sure': 1, 'books': 1, 'included': 1, 'Black': 1, 'characters': 1, 'themes.Chester': 1, 'Higgins': 1, 'Jr./The': 1, 'TimesProsecutor': 1, 'Disputes': 1, 'Account': 1, 'Train': 1, 'Passengers': 1, 'Intervening': 1, 'RapeLaw': 1, 'enforcement': 1, 'authorities': 1, 'been': 1, '“callously': 1, 'sitting': 2, 'there”': 1, 'woman': 1, 'assaulted': 1, 'train': 1, 'outside': 1, 'Philadelphia.Chris': 1, 'Taylor’s': 1, 'Three-Homer': 1, 'Day': 2, 'Keeps': 1, 'Dodgers': 1, 'AliveHe': 1, 'became': 1, '11th': 1, 'batter': 1, 'three': 1, 'homers': 1, 'postseason': 1, 'game': 1, 'Now': 1, 'N.L.C.S': 1, 'heads': 1, 'back': 2, 'Atlanta.Lyft': 1, 'Says': 1, '1,807': 1, 'Sexual': 1, 'Assaults': 1, 'Occurred': 1, 'Rides': 1, '2019Queen': 1, 'Elizabeth': 1, 'Hospitalized': 1, 'Palace': 1, 'DisclosesHuman': 1, 'Remains': 1, 'Found': 1, 'Florida': 1, 'Were': 1, 'Brian': 1, 'Laundrie’s': 1, 'F.B.I': 1, 'SaysChinese': 1, 'Pianist': 1, 'Detained': 1, 'Beijing': 1, 'State': 1, 'SaysExtreme': 1, 'Heat': 1, 'Killed': 1, 'Family': 1, 'Forest': 1, 'SayHouse': 1, 'Ethics': 1, 'Committee': 1, 'Details': 1, 'Accusations': 1, 'Against': 1, '4': 1, 'LawmakersAdvertisementContinue': 1, 'storyFitnessGetty': 1, 'ImagesThe': 1, 'Best': 1, 'Workout': 1, 'Middle-Aged': 1, 'BodiesGetty': 1, 'ImagesWhat': 1, 'Scientists': 1, 'Learning': 1, 'Estrogen': 1, 'ExerciseGetty': 1, 'ImagesWork': 1, 'Walk': 1, '5': 1, 'Minutes': 1, 'Work.Karsten': 1, 'Moran': 1, 'TimesAfter': 1, 'First': 1, 'Marathon': 1, 'Your': 1, 'Arteries': 1, 'May': 1, 'Thank': 1, 'YouDesiree': 1, 'Rios': 1, 'TimesHelping': 1, 'Runners': 1, 'Long': 1, 'Back': 1, 'Their': 1, 'FeetCulture': 1, 'LifestyleBryan': 1, 'Steffy/Getty': 1, 'ImagesQuestlove': 1, 'Looks': 1, '50': 1, 'Years': 1, 'Modern': 2, 'Music': 1, 'HistoryIn': 1, '“Music': 1, 'History,”': 1, 'Roots’s': 1, 'frontman': 1, 'tells': 1, 'story': 1, 'begins': 1, '1971': 1, 'born.At': 1, 'Home': 2, 'Suffolk': 1, 'Olivia': 1, 'Laing': 1, 'Fresh': 1, 'InspirationThe': 1, 'Joys': 1, 'Fears': 1, 'Seeing': 1, 'Theater': 1, 'NowA': 1, 'Tour': 1, 'Italy': 1, 'Century': 1, 'Stunning': 1, 'CarsTV': 1, 'Alien': 1, 'Golshifteh': 1, 'Farahani': 1, 'Came': 1, '‘Invasion.’New': 1, 'CookingYossy': 1, 'Arefi': 1, 'TimesPumpkin': 1, 'CheesecakeChristopher': 1, 'Simpson': 1, 'TimesSpicy': 1, 'Butternut': 1, 'Squash': 1, 'Pasta': 1, 'SpinachDavid': 1, 'Malosh': 1, 'TimesGreen': 1, 'Chile': 1, 'Chicken': 1, 'TacosSang': 1, 'An': 1, 'TimesStir-Fried': 1, 'Brussels': 1, 'SproutsLinda': 1, 'Xiao': 1, 'TimesSweet': 1, 'Sour': 1, 'PorkRecommendations': 1, 'WirecutterSitting': 1, 'All': 1, 'Consider': 1, 'Footrest.A': 1, 'good': 1, 'encourage': 1, 'healthier': 1, 'active': 1, 'engaging': 1, 'feet': 1, 'rock': 1, 'forth': 1, 'better': 1, 'leg': 1, 'circulation.Michael': 1, 'HessionIs': 1, '400': 1, 'Apple': 1, 'Watch': 1, 'Worth': 1, 'It?Well': 1, 'depends': 1, 'you': 3, 'Automate': 1, 'Halloween': 1, 'Tricks': 1, 'Smart': 1, 'GearSummon': 1, 'thunderstorm': 1, 'entryway': 1, 'visitors': 1, 'trigger': 1, 'spooky': 1, 'whispers': 1, 'more.Learn': 1, 'WirecutterThe': 1, 'Times’s': 1, 'product': 1, 'recommendation': 1, 'service': 1, 'tests': 1, 'thousands': 1, 'items': 1, 'each': 1, 'best': 1, 'everything.AdvertisementContinue': 1, 'storyPlaySpelling': 1, 'BeeHow': 1, 'words': 2, 'make': 1, '7': 1, 'letters?The': 1, 'CrosswordGet': 1, 'clued': 1, 'wordplay': 1, 'every': 1, 'day.Letter': 1, 'BoxedCreate': 1, 'using': 1, 'letters': 1, 'around': 1, 'square.TilesMatch': 1, 'visual': 1, 'elements': 1, 'keep': 1, 'chain': 1, 'going.VertexConnect': 1, 'dots': 1, 'reveal': 1, 'hidden': 1, 'picture.Site': 1, 'Information': 1, 'Navigation©': 1, '2021': 1, 'CompanyNYTCoContact': 1, 'UsAccessibilityWork': 1, 'usAdvertiseT': 1, 'Brand': 1, 'StudioYour': 1, 'Ad': 1, 'ChoicesPrivacy': 1, 'PolicyTerms': 1, 'ServiceTerms': 1, 'SaleSite': 1, 'MapCanadaInternationalHelpSubscriptions': 1}\n"
     ]
    }
   ],
   "source": [
    "numOfWord('http://www.nytimes.com')"
   ]
  },
  {
   "cell_type": "markdown",
   "id": "665c6bbd",
   "metadata": {},
   "source": [
    "설명: 일단 <script> 부터 </script>앞까지 그리고 <style> 부터 </style> 앞까지 제거하는 함수를 만들었다.\\\n",
    "이 두개의 함수를 이용해 일단 문자열에서 이를 처리했다. < > 의 처리는 전에 과제에서 처리했던 부분이라 그대로 사용했다.\\\n",
    "구두 문자 처리는 stript을 이용해 구두문자를 넣고 처리하였다.\\\n",
    "공백제거는 리스트내포를 통해 공백은 False인것을 활용해 한줄로 처리하였다\\\n",
    "마지막 빈도수는 리스트에 count함수를 활용하여 단어와 빈도수를 사전형태로 바꾸었다."
   ]
  },
  {
   "cell_type": "markdown",
   "id": "ca93ea88",
   "metadata": {},
   "source": [
    "\n",
    "## 과제 소감"
   ]
  },
  {
   "cell_type": "markdown",
   "id": "44c25892",
   "metadata": {},
   "source": [
    "이번 과제는 2번째 과제보단 문제수도 많고 난이도도 조금 더 높아서 오래 걸렸다.\\\n",
    "특히 9번 버스사이즈를 구하는 문제가 꽤 어려웠다. 단순히 구하라면 구할 수 있지만 계산복잡도를 낮추기 위해 어떻게 해야할지 고민을 많이 했다. Incremental Project 문제를 진행하는것은 점점 나아지는것 같아 꽤 흥미로운 것 같다."
   ]
  }
 ],
 "metadata": {
  "kernelspec": {
   "display_name": "Python 3",
   "language": "python",
   "name": "python3"
  },
  "language_info": {
   "codemirror_mode": {
    "name": "ipython",
    "version": 3
   },
   "file_extension": ".py",
   "mimetype": "text/x-python",
   "name": "python",
   "nbconvert_exporter": "python",
   "pygments_lexer": "ipython3",
   "version": "3.8.8"
  }
 },
 "nbformat": 4,
 "nbformat_minor": 5
}
